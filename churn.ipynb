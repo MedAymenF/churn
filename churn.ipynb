{
 "cells": [
  {
   "attachments": {},
   "cell_type": "markdown",
   "metadata": {},
   "source": [
    "# Churn"
   ]
  },
  {
   "attachments": {},
   "cell_type": "markdown",
   "metadata": {},
   "source": [
    "## 1 - Import useful modules"
   ]
  },
  {
   "cell_type": "code",
   "execution_count": 1,
   "metadata": {},
   "outputs": [],
   "source": [
    "import pandas as pd\n",
    "from sklearn.model_selection import train_test_split\n",
    "from sklearn.preprocessing import OneHotEncoder\n",
    "import numpy as np"
   ]
  },
  {
   "attachments": {},
   "cell_type": "markdown",
   "metadata": {},
   "source": [
    "## 2 - Load and prepare dataset"
   ]
  },
  {
   "cell_type": "code",
   "execution_count": 2,
   "metadata": {},
   "outputs": [],
   "source": [
    "x_train = pd.read_csv('data/bank_data_train.csv', index_col='ID')\n",
    "\n",
    "y_train = x_train.pop('TARGET')"
   ]
  },
  {
   "attachments": {},
   "cell_type": "markdown",
   "metadata": {},
   "source": [
    "Lower case categorical columns to avoid duplicates."
   ]
  },
  {
   "cell_type": "code",
   "execution_count": 3,
   "metadata": {},
   "outputs": [
    {
     "data": {
      "text/html": [
       "<div>\n",
       "<style scoped>\n",
       "    .dataframe tbody tr th:only-of-type {\n",
       "        vertical-align: middle;\n",
       "    }\n",
       "\n",
       "    .dataframe tbody tr th {\n",
       "        vertical-align: top;\n",
       "    }\n",
       "\n",
       "    .dataframe thead th {\n",
       "        text-align: right;\n",
       "    }\n",
       "</style>\n",
       "<table border=\"1\" class=\"dataframe\">\n",
       "  <thead>\n",
       "    <tr style=\"text-align: right;\">\n",
       "      <th></th>\n",
       "      <th>CLNT_TRUST_RELATION</th>\n",
       "      <th>APP_MARITAL_STATUS</th>\n",
       "      <th>APP_KIND_OF_PROP_HABITATION</th>\n",
       "      <th>CLNT_JOB_POSITION_TYPE</th>\n",
       "      <th>CLNT_JOB_POSITION</th>\n",
       "      <th>APP_DRIVING_LICENSE</th>\n",
       "      <th>APP_EDUCATION</th>\n",
       "      <th>APP_TRAVEL_PASS</th>\n",
       "      <th>APP_CAR</th>\n",
       "      <th>APP_POSITION_TYPE</th>\n",
       "      <th>APP_EMP_TYPE</th>\n",
       "      <th>APP_COMP_TYPE</th>\n",
       "      <th>PACK</th>\n",
       "    </tr>\n",
       "  </thead>\n",
       "  <tbody>\n",
       "    <tr>\n",
       "      <th>count</th>\n",
       "      <td>69421</td>\n",
       "      <td>68234</td>\n",
       "      <td>59361</td>\n",
       "      <td>44781</td>\n",
       "      <td>210811</td>\n",
       "      <td>57257</td>\n",
       "      <td>68104</td>\n",
       "      <td>57257</td>\n",
       "      <td>57256</td>\n",
       "      <td>60545</td>\n",
       "      <td>67362</td>\n",
       "      <td>67362</td>\n",
       "      <td>355190</td>\n",
       "    </tr>\n",
       "    <tr>\n",
       "      <th>unique</th>\n",
       "      <td>20</td>\n",
       "      <td>8</td>\n",
       "      <td>5</td>\n",
       "      <td>4</td>\n",
       "      <td>15111</td>\n",
       "      <td>2</td>\n",
       "      <td>12</td>\n",
       "      <td>2</td>\n",
       "      <td>2</td>\n",
       "      <td>4</td>\n",
       "      <td>4</td>\n",
       "      <td>4</td>\n",
       "      <td>12</td>\n",
       "    </tr>\n",
       "    <tr>\n",
       "      <th>top</th>\n",
       "      <td>friend</td>\n",
       "      <td>m</td>\n",
       "      <td>so</td>\n",
       "      <td>specialist</td>\n",
       "      <td>директор</td>\n",
       "      <td>n</td>\n",
       "      <td>h</td>\n",
       "      <td>n</td>\n",
       "      <td>n</td>\n",
       "      <td>specialist</td>\n",
       "      <td>private</td>\n",
       "      <td>private</td>\n",
       "      <td>102</td>\n",
       "    </tr>\n",
       "    <tr>\n",
       "      <th>freq</th>\n",
       "      <td>24896</td>\n",
       "      <td>32185</td>\n",
       "      <td>28056</td>\n",
       "      <td>25123</td>\n",
       "      <td>24974</td>\n",
       "      <td>36332</td>\n",
       "      <td>44370</td>\n",
       "      <td>52750</td>\n",
       "      <td>32843</td>\n",
       "      <td>36622</td>\n",
       "      <td>59087</td>\n",
       "      <td>59087</td>\n",
       "      <td>116986</td>\n",
       "    </tr>\n",
       "  </tbody>\n",
       "</table>\n",
       "</div>"
      ],
      "text/plain": [
       "       CLNT_TRUST_RELATION APP_MARITAL_STATUS APP_KIND_OF_PROP_HABITATION  \\\n",
       "count                69421              68234                       59361   \n",
       "unique                  20                  8                           5   \n",
       "top                 friend                  m                          so   \n",
       "freq                 24896              32185                       28056   \n",
       "\n",
       "       CLNT_JOB_POSITION_TYPE CLNT_JOB_POSITION APP_DRIVING_LICENSE  \\\n",
       "count                   44781            210811               57257   \n",
       "unique                      4             15111                   2   \n",
       "top                specialist          директор                   n   \n",
       "freq                    25123             24974               36332   \n",
       "\n",
       "       APP_EDUCATION APP_TRAVEL_PASS APP_CAR APP_POSITION_TYPE APP_EMP_TYPE  \\\n",
       "count          68104           57257   57256             60545        67362   \n",
       "unique            12               2       2                 4            4   \n",
       "top                h               n       n        specialist      private   \n",
       "freq           44370           52750   32843             36622        59087   \n",
       "\n",
       "       APP_COMP_TYPE    PACK  \n",
       "count          67362  355190  \n",
       "unique             4      12  \n",
       "top          private     102  \n",
       "freq           59087  116986  "
      ]
     },
     "execution_count": 3,
     "metadata": {},
     "output_type": "execute_result"
    }
   ],
   "source": [
    "categorical_train = x_train.select_dtypes(include=[\"object_\"])\n",
    "categorical_cols = categorical_train.columns\n",
    "categorical_train = categorical_train.apply(lambda c: c.str.lower())\n",
    "\n",
    "categorical_train.describe()"
   ]
  },
  {
   "attachments": {},
   "cell_type": "markdown",
   "metadata": {},
   "source": [
    "Deal with duplicates in the `CLNT_TRUST_RELATION` column by translating Russian terms to their equivalent in English."
   ]
  },
  {
   "cell_type": "code",
   "execution_count": 4,
   "metadata": {},
   "outputs": [],
   "source": [
    "ru_to_en = {'друг': 'other', 'мать': 'mother', 'брат': 'brother', 'отец': 'father', 'сестра': 'sister', 'дочь': 'daughter', 'сын': 'son', 'мама': 'mother'}\n",
    "categorical_train['CLNT_TRUST_RELATION'].replace(ru_to_en, inplace=True)"
   ]
  },
  {
   "cell_type": "code",
   "execution_count": 5,
   "metadata": {},
   "outputs": [
    {
     "name": "stdout",
     "output_type": "stream",
     "text": [
      "--------------------------------------------------------------------------------\n",
      "friend        24896\n",
      "mother        11172\n",
      "relative       8207\n",
      "other          6850\n",
      "brother        5620\n",
      "sister         5583\n",
      "father         3056\n",
      "daughter       2032\n",
      "son            1947\n",
      "близкий ро       44\n",
      "дальний ро        6\n",
      "муж               5\n",
      "жена              3\n",
      "Name: CLNT_TRUST_RELATION, dtype: int64\n",
      "--------------------------------------------------------------------------------\n",
      "m    32185\n",
      "v    23075\n",
      "d     7777\n",
      "t     3392\n",
      "n      936\n",
      "w      697\n",
      "c      155\n",
      "        17\n",
      "Name: APP_MARITAL_STATUS, dtype: int64\n",
      "--------------------------------------------------------------------------------\n",
      "so         28056\n",
      "jo         14153\n",
      "other      11316\n",
      "rent        3223\n",
      "nprivat     2613\n",
      "Name: APP_KIND_OF_PROP_HABITATION, dtype: int64\n",
      "--------------------------------------------------------------------------------\n",
      "specialist     25123\n",
      "manager         9396\n",
      "top_manager     7262\n",
      "self_empl       3000\n",
      "Name: CLNT_JOB_POSITION_TYPE, dtype: int64\n",
      "--------------------------------------------------------------------------------\n",
      "директор                              24974\n",
      "менеджер                              12803\n",
      "генеральный директор                   7083\n",
      "руководитель                           4487\n",
      "инженер                                4048\n",
      "                                      ...  \n",
      "электромонтер по ремонту и обслужи        1\n",
      "мастер погрузочно-разгрузочных раб        1\n",
      "радиотелеграфист                          1\n",
      "временно не работает.                     1\n",
      "художник компьютерной графики             1\n",
      "Name: CLNT_JOB_POSITION, Length: 15111, dtype: int64\n",
      "--------------------------------------------------------------------------------\n",
      "n    36332\n",
      "y    20925\n",
      "Name: APP_DRIVING_LICENSE, dtype: int64\n",
      "--------------------------------------------------------------------------------\n",
      "h     44370\n",
      "ss    10235\n",
      "uh     6254\n",
      "s      3880\n",
      "hh     1930\n",
      "i       575\n",
      "a       572\n",
      "us      201\n",
      "hi       52\n",
      "e        23\n",
      "ac        7\n",
      "av        5\n",
      "Name: APP_EDUCATION, dtype: int64\n",
      "--------------------------------------------------------------------------------\n",
      "n    52750\n",
      "y     4507\n",
      "Name: APP_TRAVEL_PASS, dtype: int64\n",
      "--------------------------------------------------------------------------------\n",
      "n    32843\n",
      "y    24413\n",
      "Name: APP_CAR, dtype: int64\n",
      "--------------------------------------------------------------------------------\n",
      "specialist     36622\n",
      "manager        11706\n",
      "top_manager     8481\n",
      "self_empl       3736\n",
      "Name: APP_POSITION_TYPE, dtype: int64\n",
      "--------------------------------------------------------------------------------\n",
      "private    59087\n",
      "state       6062\n",
      "inter       1358\n",
      "ip           855\n",
      "Name: APP_EMP_TYPE, dtype: int64\n",
      "--------------------------------------------------------------------------------\n",
      "private    59087\n",
      "state       6062\n",
      "inter       1358\n",
      "ip           855\n",
      "Name: APP_COMP_TYPE, dtype: int64\n",
      "--------------------------------------------------------------------------------\n",
      "102    116986\n",
      "k01     77083\n",
      "o01     50478\n",
      "105     44936\n",
      "107     27952\n",
      "103     24860\n",
      "104      6776\n",
      "301      4208\n",
      "101      1816\n",
      "109        86\n",
      "m01         7\n",
      "108         2\n",
      "Name: PACK, dtype: int64\n"
     ]
    }
   ],
   "source": [
    "for c in categorical_cols:\n",
    "    print(\"-\" * 80)\n",
    "    print(categorical_train[c].value_counts())"
   ]
  },
  {
   "attachments": {},
   "cell_type": "markdown",
   "metadata": {},
   "source": [
    "Convert categorical features into one-hot encodings."
   ]
  },
  {
   "cell_type": "code",
   "execution_count": 6,
   "metadata": {},
   "outputs": [],
   "source": [
    "encoder = OneHotEncoder(handle_unknown='infrequent_if_exist', sparse_output=False, max_categories=6000)\n",
    "categorical_train_encoded = encoder.fit_transform(categorical_train)"
   ]
  },
  {
   "cell_type": "code",
   "execution_count": 7,
   "metadata": {},
   "outputs": [],
   "source": [
    "x_train.drop(columns=categorical_cols, inplace=True)"
   ]
  },
  {
   "cell_type": "code",
   "execution_count": 8,
   "metadata": {},
   "outputs": [],
   "source": [
    "del(categorical_train)"
   ]
  },
  {
   "cell_type": "code",
   "execution_count": 9,
   "metadata": {},
   "outputs": [
    {
     "data": {
      "text/html": [
       "<div>\n",
       "<style scoped>\n",
       "    .dataframe tbody tr th:only-of-type {\n",
       "        vertical-align: middle;\n",
       "    }\n",
       "\n",
       "    .dataframe tbody tr th {\n",
       "        vertical-align: top;\n",
       "    }\n",
       "\n",
       "    .dataframe thead th {\n",
       "        text-align: right;\n",
       "    }\n",
       "</style>\n",
       "<table border=\"1\" class=\"dataframe\">\n",
       "  <thead>\n",
       "    <tr style=\"text-align: right;\">\n",
       "      <th></th>\n",
       "      <th>CR_PROD_CNT_IL</th>\n",
       "      <th>AMOUNT_RUB_CLO_PRC</th>\n",
       "      <th>PRC_ACCEPTS_A_EMAIL_LINK</th>\n",
       "      <th>APP_REGISTR_RGN_CODE</th>\n",
       "      <th>PRC_ACCEPTS_A_POS</th>\n",
       "      <th>PRC_ACCEPTS_A_TK</th>\n",
       "      <th>TURNOVER_DYNAMIC_IL_1M</th>\n",
       "      <th>CNT_TRAN_AUT_TENDENCY1M</th>\n",
       "      <th>SUM_TRAN_AUT_TENDENCY1M</th>\n",
       "      <th>AMOUNT_RUB_SUP_PRC</th>\n",
       "      <th>...</th>\n",
       "      <th>LDEAL_ACT_DAYS_ACC_PCT_AVG</th>\n",
       "      <th>REST_DYNAMIC_CC_3M</th>\n",
       "      <th>MED_DEBT_PRC_YWZ</th>\n",
       "      <th>LDEAL_ACT_DAYS_PCT_TR3</th>\n",
       "      <th>LDEAL_ACT_DAYS_PCT_AAVG</th>\n",
       "      <th>LDEAL_DELINQ_PER_MAXYWZ</th>\n",
       "      <th>TURNOVER_DYNAMIC_CC_3M</th>\n",
       "      <th>LDEAL_ACT_DAYS_PCT_TR</th>\n",
       "      <th>LDEAL_ACT_DAYS_PCT_TR4</th>\n",
       "      <th>LDEAL_ACT_DAYS_PCT_CURR</th>\n",
       "    </tr>\n",
       "  </thead>\n",
       "  <tbody>\n",
       "    <tr>\n",
       "      <th>count</th>\n",
       "      <td>355190.000000</td>\n",
       "      <td>316867.000000</td>\n",
       "      <td>155163.0</td>\n",
       "      <td>60550.000000</td>\n",
       "      <td>155163.0</td>\n",
       "      <td>155163.0</td>\n",
       "      <td>355190.000000</td>\n",
       "      <td>77112.000000</td>\n",
       "      <td>77112.000000</td>\n",
       "      <td>316867.000000</td>\n",
       "      <td>...</td>\n",
       "      <td>93448.000000</td>\n",
       "      <td>355190.000000</td>\n",
       "      <td>95713.000000</td>\n",
       "      <td>93448.000000</td>\n",
       "      <td>98175.000000</td>\n",
       "      <td>95713.000000</td>\n",
       "      <td>355190.000000</td>\n",
       "      <td>93448.000000</td>\n",
       "      <td>93448.000000</td>\n",
       "      <td>93448.000000</td>\n",
       "    </tr>\n",
       "    <tr>\n",
       "      <th>mean</th>\n",
       "      <td>0.105225</td>\n",
       "      <td>0.044045</td>\n",
       "      <td>0.0</td>\n",
       "      <td>50.947498</td>\n",
       "      <td>0.0</td>\n",
       "      <td>0.0</td>\n",
       "      <td>0.001305</td>\n",
       "      <td>0.416896</td>\n",
       "      <td>0.414572</td>\n",
       "      <td>0.085249</td>\n",
       "      <td>...</td>\n",
       "      <td>0.051419</td>\n",
       "      <td>0.007309</td>\n",
       "      <td>0.055074</td>\n",
       "      <td>0.025707</td>\n",
       "      <td>0.049943</td>\n",
       "      <td>0.009252</td>\n",
       "      <td>0.004309</td>\n",
       "      <td>0.013938</td>\n",
       "      <td>0.013938</td>\n",
       "      <td>0.013938</td>\n",
       "    </tr>\n",
       "    <tr>\n",
       "      <th>std</th>\n",
       "      <td>0.431372</td>\n",
       "      <td>0.108449</td>\n",
       "      <td>0.0</td>\n",
       "      <td>21.777855</td>\n",
       "      <td>0.0</td>\n",
       "      <td>0.0</td>\n",
       "      <td>0.029118</td>\n",
       "      <td>0.316493</td>\n",
       "      <td>0.338612</td>\n",
       "      <td>0.142310</td>\n",
       "      <td>...</td>\n",
       "      <td>0.134960</td>\n",
       "      <td>0.066681</td>\n",
       "      <td>0.215909</td>\n",
       "      <td>0.115732</td>\n",
       "      <td>0.185830</td>\n",
       "      <td>0.092789</td>\n",
       "      <td>0.059852</td>\n",
       "      <td>0.097099</td>\n",
       "      <td>0.097099</td>\n",
       "      <td>0.097099</td>\n",
       "    </tr>\n",
       "    <tr>\n",
       "      <th>min</th>\n",
       "      <td>0.000000</td>\n",
       "      <td>0.000000</td>\n",
       "      <td>0.0</td>\n",
       "      <td>0.000000</td>\n",
       "      <td>0.0</td>\n",
       "      <td>0.0</td>\n",
       "      <td>0.000000</td>\n",
       "      <td>0.006944</td>\n",
       "      <td>0.000000</td>\n",
       "      <td>0.000000</td>\n",
       "      <td>...</td>\n",
       "      <td>0.000000</td>\n",
       "      <td>0.000000</td>\n",
       "      <td>0.000000</td>\n",
       "      <td>0.000000</td>\n",
       "      <td>0.000000</td>\n",
       "      <td>0.000000</td>\n",
       "      <td>0.000000</td>\n",
       "      <td>0.000000</td>\n",
       "      <td>0.000000</td>\n",
       "      <td>0.000000</td>\n",
       "    </tr>\n",
       "    <tr>\n",
       "      <th>25%</th>\n",
       "      <td>0.000000</td>\n",
       "      <td>0.000000</td>\n",
       "      <td>0.0</td>\n",
       "      <td>33.000000</td>\n",
       "      <td>0.0</td>\n",
       "      <td>0.0</td>\n",
       "      <td>0.000000</td>\n",
       "      <td>0.166667</td>\n",
       "      <td>0.139645</td>\n",
       "      <td>0.000000</td>\n",
       "      <td>...</td>\n",
       "      <td>0.000000</td>\n",
       "      <td>0.000000</td>\n",
       "      <td>0.000000</td>\n",
       "      <td>0.000000</td>\n",
       "      <td>0.000000</td>\n",
       "      <td>0.000000</td>\n",
       "      <td>0.000000</td>\n",
       "      <td>0.000000</td>\n",
       "      <td>0.000000</td>\n",
       "      <td>0.000000</td>\n",
       "    </tr>\n",
       "    <tr>\n",
       "      <th>50%</th>\n",
       "      <td>0.000000</td>\n",
       "      <td>0.000000</td>\n",
       "      <td>0.0</td>\n",
       "      <td>54.000000</td>\n",
       "      <td>0.0</td>\n",
       "      <td>0.0</td>\n",
       "      <td>0.000000</td>\n",
       "      <td>0.300000</td>\n",
       "      <td>0.285714</td>\n",
       "      <td>0.027117</td>\n",
       "      <td>...</td>\n",
       "      <td>0.008822</td>\n",
       "      <td>0.000000</td>\n",
       "      <td>0.000000</td>\n",
       "      <td>0.000000</td>\n",
       "      <td>0.000000</td>\n",
       "      <td>0.000000</td>\n",
       "      <td>0.000000</td>\n",
       "      <td>0.000000</td>\n",
       "      <td>0.000000</td>\n",
       "      <td>0.000000</td>\n",
       "    </tr>\n",
       "    <tr>\n",
       "      <th>75%</th>\n",
       "      <td>0.000000</td>\n",
       "      <td>0.036608</td>\n",
       "      <td>0.0</td>\n",
       "      <td>72.000000</td>\n",
       "      <td>0.0</td>\n",
       "      <td>0.0</td>\n",
       "      <td>0.000000</td>\n",
       "      <td>0.571429</td>\n",
       "      <td>0.661195</td>\n",
       "      <td>0.110005</td>\n",
       "      <td>...</td>\n",
       "      <td>0.033563</td>\n",
       "      <td>0.000000</td>\n",
       "      <td>0.000000</td>\n",
       "      <td>0.000000</td>\n",
       "      <td>0.000000</td>\n",
       "      <td>0.000000</td>\n",
       "      <td>0.000000</td>\n",
       "      <td>0.000000</td>\n",
       "      <td>0.000000</td>\n",
       "      <td>0.000000</td>\n",
       "    </tr>\n",
       "    <tr>\n",
       "      <th>max</th>\n",
       "      <td>11.000000</td>\n",
       "      <td>1.000000</td>\n",
       "      <td>0.0</td>\n",
       "      <td>89.000000</td>\n",
       "      <td>0.0</td>\n",
       "      <td>0.0</td>\n",
       "      <td>1.000000</td>\n",
       "      <td>1.000000</td>\n",
       "      <td>1.000000</td>\n",
       "      <td>1.000000</td>\n",
       "      <td>...</td>\n",
       "      <td>1.000000</td>\n",
       "      <td>1.000000</td>\n",
       "      <td>1.000000</td>\n",
       "      <td>1.000000</td>\n",
       "      <td>1.000000</td>\n",
       "      <td>1.000000</td>\n",
       "      <td>1.000000</td>\n",
       "      <td>1.000000</td>\n",
       "      <td>1.000000</td>\n",
       "      <td>1.000000</td>\n",
       "    </tr>\n",
       "  </tbody>\n",
       "</table>\n",
       "<p>8 rows × 101 columns</p>\n",
       "</div>"
      ],
      "text/plain": [
       "       CR_PROD_CNT_IL  AMOUNT_RUB_CLO_PRC  PRC_ACCEPTS_A_EMAIL_LINK  \\\n",
       "count   355190.000000       316867.000000                  155163.0   \n",
       "mean         0.105225            0.044045                       0.0   \n",
       "std          0.431372            0.108449                       0.0   \n",
       "min          0.000000            0.000000                       0.0   \n",
       "25%          0.000000            0.000000                       0.0   \n",
       "50%          0.000000            0.000000                       0.0   \n",
       "75%          0.000000            0.036608                       0.0   \n",
       "max         11.000000            1.000000                       0.0   \n",
       "\n",
       "       APP_REGISTR_RGN_CODE  PRC_ACCEPTS_A_POS  PRC_ACCEPTS_A_TK  \\\n",
       "count          60550.000000           155163.0          155163.0   \n",
       "mean              50.947498                0.0               0.0   \n",
       "std               21.777855                0.0               0.0   \n",
       "min                0.000000                0.0               0.0   \n",
       "25%               33.000000                0.0               0.0   \n",
       "50%               54.000000                0.0               0.0   \n",
       "75%               72.000000                0.0               0.0   \n",
       "max               89.000000                0.0               0.0   \n",
       "\n",
       "       TURNOVER_DYNAMIC_IL_1M  CNT_TRAN_AUT_TENDENCY1M  \\\n",
       "count           355190.000000             77112.000000   \n",
       "mean                 0.001305                 0.416896   \n",
       "std                  0.029118                 0.316493   \n",
       "min                  0.000000                 0.006944   \n",
       "25%                  0.000000                 0.166667   \n",
       "50%                  0.000000                 0.300000   \n",
       "75%                  0.000000                 0.571429   \n",
       "max                  1.000000                 1.000000   \n",
       "\n",
       "       SUM_TRAN_AUT_TENDENCY1M  AMOUNT_RUB_SUP_PRC  ...  \\\n",
       "count             77112.000000       316867.000000  ...   \n",
       "mean                  0.414572            0.085249  ...   \n",
       "std                   0.338612            0.142310  ...   \n",
       "min                   0.000000            0.000000  ...   \n",
       "25%                   0.139645            0.000000  ...   \n",
       "50%                   0.285714            0.027117  ...   \n",
       "75%                   0.661195            0.110005  ...   \n",
       "max                   1.000000            1.000000  ...   \n",
       "\n",
       "       LDEAL_ACT_DAYS_ACC_PCT_AVG  REST_DYNAMIC_CC_3M  MED_DEBT_PRC_YWZ  \\\n",
       "count                93448.000000       355190.000000      95713.000000   \n",
       "mean                     0.051419            0.007309          0.055074   \n",
       "std                      0.134960            0.066681          0.215909   \n",
       "min                      0.000000            0.000000          0.000000   \n",
       "25%                      0.000000            0.000000          0.000000   \n",
       "50%                      0.008822            0.000000          0.000000   \n",
       "75%                      0.033563            0.000000          0.000000   \n",
       "max                      1.000000            1.000000          1.000000   \n",
       "\n",
       "       LDEAL_ACT_DAYS_PCT_TR3  LDEAL_ACT_DAYS_PCT_AAVG  \\\n",
       "count            93448.000000             98175.000000   \n",
       "mean                 0.025707                 0.049943   \n",
       "std                  0.115732                 0.185830   \n",
       "min                  0.000000                 0.000000   \n",
       "25%                  0.000000                 0.000000   \n",
       "50%                  0.000000                 0.000000   \n",
       "75%                  0.000000                 0.000000   \n",
       "max                  1.000000                 1.000000   \n",
       "\n",
       "       LDEAL_DELINQ_PER_MAXYWZ  TURNOVER_DYNAMIC_CC_3M  LDEAL_ACT_DAYS_PCT_TR  \\\n",
       "count             95713.000000           355190.000000           93448.000000   \n",
       "mean                  0.009252                0.004309               0.013938   \n",
       "std                   0.092789                0.059852               0.097099   \n",
       "min                   0.000000                0.000000               0.000000   \n",
       "25%                   0.000000                0.000000               0.000000   \n",
       "50%                   0.000000                0.000000               0.000000   \n",
       "75%                   0.000000                0.000000               0.000000   \n",
       "max                   1.000000                1.000000               1.000000   \n",
       "\n",
       "       LDEAL_ACT_DAYS_PCT_TR4  LDEAL_ACT_DAYS_PCT_CURR  \n",
       "count            93448.000000             93448.000000  \n",
       "mean                 0.013938                 0.013938  \n",
       "std                  0.097099                 0.097099  \n",
       "min                  0.000000                 0.000000  \n",
       "25%                  0.000000                 0.000000  \n",
       "50%                  0.000000                 0.000000  \n",
       "75%                  0.000000                 0.000000  \n",
       "max                  1.000000                 1.000000  \n",
       "\n",
       "[8 rows x 101 columns]"
      ]
     },
     "execution_count": 9,
     "metadata": {},
     "output_type": "execute_result"
    }
   ],
   "source": [
    "x_train.describe()"
   ]
  },
  {
   "attachments": {},
   "cell_type": "markdown",
   "metadata": {},
   "source": [
    "Fill NA values."
   ]
  },
  {
   "cell_type": "code",
   "execution_count": 10,
   "metadata": {},
   "outputs": [
    {
     "data": {
      "text/plain": [
       "CR_PROD_CNT_IL                   0\n",
       "AMOUNT_RUB_CLO_PRC           38323\n",
       "PRC_ACCEPTS_A_EMAIL_LINK    200027\n",
       "APP_REGISTR_RGN_CODE        294640\n",
       "PRC_ACCEPTS_A_POS           200027\n",
       "                             ...  \n",
       "LDEAL_DELINQ_PER_MAXYWZ     259477\n",
       "TURNOVER_DYNAMIC_CC_3M           0\n",
       "LDEAL_ACT_DAYS_PCT_TR       261742\n",
       "LDEAL_ACT_DAYS_PCT_TR4      261742\n",
       "LDEAL_ACT_DAYS_PCT_CURR     261742\n",
       "Length: 101, dtype: int64"
      ]
     },
     "execution_count": 10,
     "metadata": {},
     "output_type": "execute_result"
    }
   ],
   "source": [
    "x_train.isna().sum()"
   ]
  },
  {
   "cell_type": "code",
   "execution_count": 11,
   "metadata": {},
   "outputs": [],
   "source": [
    "x_train.fillna(0, inplace=True)"
   ]
  },
  {
   "cell_type": "code",
   "execution_count": 12,
   "metadata": {},
   "outputs": [],
   "source": [
    "x_train = x_train.to_numpy()\n",
    "y_train = y_train.to_numpy()"
   ]
  },
  {
   "cell_type": "code",
   "execution_count": 13,
   "metadata": {},
   "outputs": [],
   "source": [
    "x_train = np.concatenate((x_train, categorical_train_encoded), axis=1)"
   ]
  },
  {
   "cell_type": "code",
   "execution_count": 14,
   "metadata": {},
   "outputs": [],
   "source": [
    "del(categorical_train_encoded)"
   ]
  },
  {
   "attachments": {},
   "cell_type": "markdown",
   "metadata": {},
   "source": [
    "Split the training set into a train dataset (80%) and a dev set (20%) with stratification."
   ]
  },
  {
   "cell_type": "code",
   "execution_count": 15,
   "metadata": {},
   "outputs": [],
   "source": [
    "X_train, X_dev, Y_train, Y_dev = train_test_split(x_train, y_train, test_size=0.2, stratify=y_train, random_state=1337)"
   ]
  },
  {
   "cell_type": "code",
   "execution_count": 16,
   "metadata": {},
   "outputs": [],
   "source": [
    "del(x_train)\n",
    "del(y_train)"
   ]
  },
  {
   "attachments": {},
   "cell_type": "markdown",
   "metadata": {},
   "source": [
    "## 3 - Baseline"
   ]
  },
  {
   "cell_type": "code",
   "execution_count": 17,
   "metadata": {},
   "outputs": [],
   "source": [
    "from sklearn.metrics import accuracy_score, roc_auc_score"
   ]
  },
  {
   "cell_type": "code",
   "execution_count": 18,
   "metadata": {},
   "outputs": [],
   "source": [
    "class Baseline:\n",
    "    def __init__(self) -> None:\n",
    "        self.prediction = 0\n",
    "\n",
    "    def fit(self, X, y):\n",
    "        classes = set(y)\n",
    "        frequencies = {cls: (Y_train == cls).sum() for cls in classes}\n",
    "        self.prediction = max(frequencies, key=frequencies.get)\n",
    "\n",
    "    def predict(self, X):\n",
    "        return np.full(X.shape[0], self.prediction)"
   ]
  },
  {
   "cell_type": "code",
   "execution_count": 19,
   "metadata": {},
   "outputs": [],
   "source": [
    "bsl = Baseline()\n",
    "bsl.fit(X_train, Y_train)\n",
    "dev_predictions = bsl.predict(X_dev)"
   ]
  },
  {
   "cell_type": "code",
   "execution_count": 20,
   "metadata": {},
   "outputs": [
    {
     "data": {
      "text/plain": [
       "0.918564711844365"
      ]
     },
     "execution_count": 20,
     "metadata": {},
     "output_type": "execute_result"
    }
   ],
   "source": [
    "accuracy_score(Y_dev, dev_predictions)"
   ]
  },
  {
   "cell_type": "code",
   "execution_count": 21,
   "metadata": {},
   "outputs": [
    {
     "data": {
      "text/plain": [
       "0.5"
      ]
     },
     "execution_count": 21,
     "metadata": {},
     "output_type": "execute_result"
    }
   ],
   "source": [
    "roc_auc_score(Y_dev, dev_predictions)"
   ]
  },
  {
   "attachments": {},
   "cell_type": "markdown",
   "metadata": {},
   "source": [
    "## n - Make predictions on the test set"
   ]
  },
  {
   "cell_type": "code",
   "execution_count": 22,
   "metadata": {},
   "outputs": [],
   "source": [
    "del(X_train)\n",
    "del(X_dev)\n",
    "del(Y_train)\n",
    "del(Y_dev)"
   ]
  },
  {
   "cell_type": "code",
   "execution_count": 23,
   "metadata": {},
   "outputs": [],
   "source": [
    "x_test = pd.read_csv('data/bank_data_test.csv', index_col='ID')\n",
    "x_test.drop(columns=['TARGET'], inplace=True)\n",
    "idx = x_test.index"
   ]
  },
  {
   "cell_type": "code",
   "execution_count": 24,
   "metadata": {},
   "outputs": [],
   "source": [
    "categorical_test = x_test.select_dtypes(include=[\"object_\"])\n",
    "categorical_test = categorical_test.apply(lambda c: c.str.lower())\n",
    "categorical_test['CLNT_TRUST_RELATION'].replace(ru_to_en, inplace=True)"
   ]
  },
  {
   "cell_type": "code",
   "execution_count": 25,
   "metadata": {},
   "outputs": [],
   "source": [
    "categorical_test_encoded = encoder.transform(categorical_test)\n",
    "del(categorical_test)\n",
    "x_test.drop(columns=categorical_cols, inplace=True)"
   ]
  },
  {
   "cell_type": "code",
   "execution_count": 26,
   "metadata": {},
   "outputs": [],
   "source": [
    "x_test.fillna(0, inplace=True)\n",
    "x_test = x_test.to_numpy()\n",
    "x_test = np.concatenate((x_test, categorical_test_encoded), axis=1)\n",
    "del(categorical_test_encoded)"
   ]
  },
  {
   "attachments": {},
   "cell_type": "markdown",
   "metadata": {},
   "source": [
    "Save the final predictions to a csv file."
   ]
  },
  {
   "cell_type": "code",
   "execution_count": 27,
   "metadata": {},
   "outputs": [],
   "source": [
    "test_predictions = bsl.predict(x_test)\n",
    "test_predictions = pd.DataFrame(test_predictions, index=idx, columns=['TARGET'])\n",
    "test_predictions.to_csv('final_predictions.csv')"
   ]
  }
 ],
 "metadata": {
  "kernelspec": {
   "display_name": "42AI-mfarhi",
   "language": "python",
   "name": "python3"
  },
  "language_info": {
   "codemirror_mode": {
    "name": "ipython",
    "version": 3
   },
   "file_extension": ".py",
   "mimetype": "text/x-python",
   "name": "python",
   "nbconvert_exporter": "python",
   "pygments_lexer": "ipython3",
   "version": "3.9.16"
  },
  "orig_nbformat": 4
 },
 "nbformat": 4,
 "nbformat_minor": 2
}
