{
 "cells": [
  {
   "attachments": {},
   "cell_type": "markdown",
   "metadata": {},
   "source": [
    "# Churn"
   ]
  },
  {
   "attachments": {},
   "cell_type": "markdown",
   "metadata": {},
   "source": [
    "## 1 - Import useful modules"
   ]
  },
  {
   "cell_type": "code",
   "execution_count": 1,
   "metadata": {},
   "outputs": [],
   "source": [
    "import pandas as pd\n",
    "from sklearn.model_selection import train_test_split\n",
    "from sklearn.preprocessing import OneHotEncoder\n",
    "import numpy as np"
   ]
  },
  {
   "attachments": {},
   "cell_type": "markdown",
   "metadata": {},
   "source": [
    "## 2 - Load and prepare dataset"
   ]
  },
  {
   "cell_type": "code",
   "execution_count": 2,
   "metadata": {},
   "outputs": [],
   "source": [
    "x_train = pd.read_csv('data/bank_data_train.csv', index_col='ID')\n",
    "\n",
    "y_train = x_train.pop('TARGET')"
   ]
  },
  {
   "attachments": {},
   "cell_type": "markdown",
   "metadata": {},
   "source": [
    "Lower case categorical columns to avoid duplicates."
   ]
  },
  {
   "cell_type": "code",
   "execution_count": 3,
   "metadata": {},
   "outputs": [
    {
     "data": {
      "text/html": [
       "<div>\n",
       "<style scoped>\n",
       "    .dataframe tbody tr th:only-of-type {\n",
       "        vertical-align: middle;\n",
       "    }\n",
       "\n",
       "    .dataframe tbody tr th {\n",
       "        vertical-align: top;\n",
       "    }\n",
       "\n",
       "    .dataframe thead th {\n",
       "        text-align: right;\n",
       "    }\n",
       "</style>\n",
       "<table border=\"1\" class=\"dataframe\">\n",
       "  <thead>\n",
       "    <tr style=\"text-align: right;\">\n",
       "      <th></th>\n",
       "      <th>CLNT_TRUST_RELATION</th>\n",
       "      <th>APP_MARITAL_STATUS</th>\n",
       "      <th>APP_KIND_OF_PROP_HABITATION</th>\n",
       "      <th>CLNT_JOB_POSITION_TYPE</th>\n",
       "      <th>CLNT_JOB_POSITION</th>\n",
       "      <th>APP_DRIVING_LICENSE</th>\n",
       "      <th>APP_EDUCATION</th>\n",
       "      <th>APP_TRAVEL_PASS</th>\n",
       "      <th>APP_CAR</th>\n",
       "      <th>APP_POSITION_TYPE</th>\n",
       "      <th>APP_EMP_TYPE</th>\n",
       "      <th>APP_COMP_TYPE</th>\n",
       "      <th>PACK</th>\n",
       "    </tr>\n",
       "  </thead>\n",
       "  <tbody>\n",
       "    <tr>\n",
       "      <th>count</th>\n",
       "      <td>69421</td>\n",
       "      <td>68234</td>\n",
       "      <td>59361</td>\n",
       "      <td>44781</td>\n",
       "      <td>210811</td>\n",
       "      <td>57257</td>\n",
       "      <td>68104</td>\n",
       "      <td>57257</td>\n",
       "      <td>57256</td>\n",
       "      <td>60545</td>\n",
       "      <td>67362</td>\n",
       "      <td>67362</td>\n",
       "      <td>355190</td>\n",
       "    </tr>\n",
       "    <tr>\n",
       "      <th>unique</th>\n",
       "      <td>20</td>\n",
       "      <td>8</td>\n",
       "      <td>5</td>\n",
       "      <td>4</td>\n",
       "      <td>15111</td>\n",
       "      <td>2</td>\n",
       "      <td>12</td>\n",
       "      <td>2</td>\n",
       "      <td>2</td>\n",
       "      <td>4</td>\n",
       "      <td>4</td>\n",
       "      <td>4</td>\n",
       "      <td>12</td>\n",
       "    </tr>\n",
       "    <tr>\n",
       "      <th>top</th>\n",
       "      <td>friend</td>\n",
       "      <td>m</td>\n",
       "      <td>so</td>\n",
       "      <td>specialist</td>\n",
       "      <td>директор</td>\n",
       "      <td>n</td>\n",
       "      <td>h</td>\n",
       "      <td>n</td>\n",
       "      <td>n</td>\n",
       "      <td>specialist</td>\n",
       "      <td>private</td>\n",
       "      <td>private</td>\n",
       "      <td>102</td>\n",
       "    </tr>\n",
       "    <tr>\n",
       "      <th>freq</th>\n",
       "      <td>24896</td>\n",
       "      <td>32185</td>\n",
       "      <td>28056</td>\n",
       "      <td>25123</td>\n",
       "      <td>24974</td>\n",
       "      <td>36332</td>\n",
       "      <td>44370</td>\n",
       "      <td>52750</td>\n",
       "      <td>32843</td>\n",
       "      <td>36622</td>\n",
       "      <td>59087</td>\n",
       "      <td>59087</td>\n",
       "      <td>116986</td>\n",
       "    </tr>\n",
       "  </tbody>\n",
       "</table>\n",
       "</div>"
      ],
      "text/plain": [
       "       CLNT_TRUST_RELATION APP_MARITAL_STATUS APP_KIND_OF_PROP_HABITATION  \\\n",
       "count                69421              68234                       59361   \n",
       "unique                  20                  8                           5   \n",
       "top                 friend                  m                          so   \n",
       "freq                 24896              32185                       28056   \n",
       "\n",
       "       CLNT_JOB_POSITION_TYPE CLNT_JOB_POSITION APP_DRIVING_LICENSE  \\\n",
       "count                   44781            210811               57257   \n",
       "unique                      4             15111                   2   \n",
       "top                specialist          директор                   n   \n",
       "freq                    25123             24974               36332   \n",
       "\n",
       "       APP_EDUCATION APP_TRAVEL_PASS APP_CAR APP_POSITION_TYPE APP_EMP_TYPE  \\\n",
       "count          68104           57257   57256             60545        67362   \n",
       "unique            12               2       2                 4            4   \n",
       "top                h               n       n        specialist      private   \n",
       "freq           44370           52750   32843             36622        59087   \n",
       "\n",
       "       APP_COMP_TYPE    PACK  \n",
       "count          67362  355190  \n",
       "unique             4      12  \n",
       "top          private     102  \n",
       "freq           59087  116986  "
      ]
     },
     "execution_count": 3,
     "metadata": {},
     "output_type": "execute_result"
    }
   ],
   "source": [
    "categorical_train = x_train.select_dtypes(include=[\"object_\"])\n",
    "categorical_cols = categorical_train.columns\n",
    "categorical_train = categorical_train.apply(lambda c: c.str.lower())\n",
    "\n",
    "categorical_train.describe()"
   ]
  },
  {
   "attachments": {},
   "cell_type": "markdown",
   "metadata": {},
   "source": [
    "Deal with duplicates in the `CLNT_TRUST_RELATION` column by translating Russian terms to their equivalent in English."
   ]
  },
  {
   "cell_type": "code",
   "execution_count": 4,
   "metadata": {},
   "outputs": [],
   "source": [
    "ru_to_en = {'друг': 'other', 'мать': 'mother', 'брат': 'brother', 'отец': 'father', 'сестра': 'sister', 'дочь': 'daughter', 'сын': 'son', 'мама': 'mother'}\n",
    "categorical_train['CLNT_TRUST_RELATION'].replace(ru_to_en, inplace=True)"
   ]
  },
  {
   "cell_type": "code",
   "execution_count": 5,
   "metadata": {},
   "outputs": [
    {
     "name": "stdout",
     "output_type": "stream",
     "text": [
      "--------------------------------------------------------------------------------\n",
      "friend        24896\n",
      "mother        11172\n",
      "relative       8207\n",
      "other          6850\n",
      "brother        5620\n",
      "sister         5583\n",
      "father         3056\n",
      "daughter       2032\n",
      "son            1947\n",
      "близкий ро       44\n",
      "дальний ро        6\n",
      "муж               5\n",
      "жена              3\n",
      "Name: CLNT_TRUST_RELATION, dtype: int64\n",
      "--------------------------------------------------------------------------------\n",
      "m    32185\n",
      "v    23075\n",
      "d     7777\n",
      "t     3392\n",
      "n      936\n",
      "w      697\n",
      "c      155\n",
      "        17\n",
      "Name: APP_MARITAL_STATUS, dtype: int64\n",
      "--------------------------------------------------------------------------------\n",
      "so         28056\n",
      "jo         14153\n",
      "other      11316\n",
      "rent        3223\n",
      "nprivat     2613\n",
      "Name: APP_KIND_OF_PROP_HABITATION, dtype: int64\n",
      "--------------------------------------------------------------------------------\n",
      "specialist     25123\n",
      "manager         9396\n",
      "top_manager     7262\n",
      "self_empl       3000\n",
      "Name: CLNT_JOB_POSITION_TYPE, dtype: int64\n",
      "--------------------------------------------------------------------------------\n",
      "директор                              24974\n",
      "менеджер                              12803\n",
      "генеральный директор                   7083\n",
      "руководитель                           4487\n",
      "инженер                                4048\n",
      "                                      ...  \n",
      "электромонтер по ремонту и обслужи        1\n",
      "мастер погрузочно-разгрузочных раб        1\n",
      "радиотелеграфист                          1\n",
      "временно не работает.                     1\n",
      "художник компьютерной графики             1\n",
      "Name: CLNT_JOB_POSITION, Length: 15111, dtype: int64\n",
      "--------------------------------------------------------------------------------\n",
      "n    36332\n",
      "y    20925\n",
      "Name: APP_DRIVING_LICENSE, dtype: int64\n",
      "--------------------------------------------------------------------------------\n",
      "h     44370\n",
      "ss    10235\n",
      "uh     6254\n",
      "s      3880\n",
      "hh     1930\n",
      "i       575\n",
      "a       572\n",
      "us      201\n",
      "hi       52\n",
      "e        23\n",
      "ac        7\n",
      "av        5\n",
      "Name: APP_EDUCATION, dtype: int64\n",
      "--------------------------------------------------------------------------------\n",
      "n    52750\n",
      "y     4507\n",
      "Name: APP_TRAVEL_PASS, dtype: int64\n",
      "--------------------------------------------------------------------------------\n",
      "n    32843\n",
      "y    24413\n",
      "Name: APP_CAR, dtype: int64\n",
      "--------------------------------------------------------------------------------\n",
      "specialist     36622\n",
      "manager        11706\n",
      "top_manager     8481\n",
      "self_empl       3736\n",
      "Name: APP_POSITION_TYPE, dtype: int64\n",
      "--------------------------------------------------------------------------------\n",
      "private    59087\n",
      "state       6062\n",
      "inter       1358\n",
      "ip           855\n",
      "Name: APP_EMP_TYPE, dtype: int64\n",
      "--------------------------------------------------------------------------------\n",
      "private    59087\n",
      "state       6062\n",
      "inter       1358\n",
      "ip           855\n",
      "Name: APP_COMP_TYPE, dtype: int64\n",
      "--------------------------------------------------------------------------------\n",
      "102    116986\n",
      "k01     77083\n",
      "o01     50478\n",
      "105     44936\n",
      "107     27952\n",
      "103     24860\n",
      "104      6776\n",
      "301      4208\n",
      "101      1816\n",
      "109        86\n",
      "m01         7\n",
      "108         2\n",
      "Name: PACK, dtype: int64\n"
     ]
    }
   ],
   "source": [
    "for c in categorical_cols:\n",
    "    print(\"-\" * 80)\n",
    "    print(categorical_train[c].value_counts())"
   ]
  },
  {
   "cell_type": "code",
   "execution_count": 6,
   "metadata": {},
   "outputs": [],
   "source": [
    "x_train[categorical_cols] = categorical_train"
   ]
  },
  {
   "attachments": {},
   "cell_type": "markdown",
   "metadata": {},
   "source": [
    "Split the training set into a train dataset (80%) and a dev set (20%) with stratification."
   ]
  },
  {
   "cell_type": "code",
   "execution_count": 7,
   "metadata": {},
   "outputs": [],
   "source": [
    "X_train, X_dev, Y_train, Y_dev = train_test_split(x_train, y_train, test_size=0.2, stratify=y_train, random_state=1337)\n",
    "\n",
    "del(x_train)\n",
    "del(y_train)\n",
    "del(categorical_train)"
   ]
  },
  {
   "attachments": {},
   "cell_type": "markdown",
   "metadata": {},
   "source": [
    "Fill NA values."
   ]
  },
  {
   "cell_type": "code",
   "execution_count": 8,
   "metadata": {},
   "outputs": [
    {
     "data": {
      "text/plain": [
       "CR_PROD_CNT_IL                   0\n",
       "AMOUNT_RUB_CLO_PRC           30587\n",
       "PRC_ACCEPTS_A_EMAIL_LINK    160064\n",
       "APP_REGISTR_RGN_CODE        235888\n",
       "PRC_ACCEPTS_A_POS           160064\n",
       "                             ...  \n",
       "LDEAL_DELINQ_PER_MAXYWZ     207411\n",
       "TURNOVER_DYNAMIC_CC_3M           0\n",
       "LDEAL_ACT_DAYS_PCT_TR       209198\n",
       "LDEAL_ACT_DAYS_PCT_TR4      209198\n",
       "LDEAL_ACT_DAYS_PCT_CURR     209198\n",
       "Length: 114, dtype: int64"
      ]
     },
     "execution_count": 8,
     "metadata": {},
     "output_type": "execute_result"
    }
   ],
   "source": [
    "X_train.isna().sum()"
   ]
  },
  {
   "cell_type": "code",
   "execution_count": 9,
   "metadata": {},
   "outputs": [],
   "source": [
    "medians = X_train.median(numeric_only=True)\n",
    "X_train.fillna(medians, inplace=True)\n",
    "X_dev.fillna(medians, inplace=True)"
   ]
  },
  {
   "attachments": {},
   "cell_type": "markdown",
   "metadata": {},
   "source": [
    "## 3 - Baseline - naive classifier"
   ]
  },
  {
   "cell_type": "code",
   "execution_count": 10,
   "metadata": {},
   "outputs": [],
   "source": [
    "from sklearn.metrics import accuracy_score, roc_auc_score"
   ]
  },
  {
   "cell_type": "code",
   "execution_count": 11,
   "metadata": {},
   "outputs": [],
   "source": [
    "class Baseline:\n",
    "    def __init__(self) -> None:\n",
    "        self.prediction = 0\n",
    "\n",
    "    def fit(self, X, y):\n",
    "        classes = set(y)\n",
    "        frequencies = {cls: (Y_train == cls).sum() for cls in classes}\n",
    "        self.prediction = max(frequencies, key=frequencies.get)\n",
    "\n",
    "    def predict(self, X):\n",
    "        return np.full(X.shape[0], self.prediction)"
   ]
  },
  {
   "cell_type": "code",
   "execution_count": 12,
   "metadata": {},
   "outputs": [],
   "source": [
    "bsl = Baseline()\n",
    "bsl.fit(X_train, Y_train)\n",
    "dev_predictions = bsl.predict(X_dev)"
   ]
  },
  {
   "cell_type": "code",
   "execution_count": 13,
   "metadata": {},
   "outputs": [
    {
     "data": {
      "text/plain": [
       "0.918564711844365"
      ]
     },
     "execution_count": 13,
     "metadata": {},
     "output_type": "execute_result"
    }
   ],
   "source": [
    "accuracy_score(Y_dev, dev_predictions)"
   ]
  },
  {
   "cell_type": "code",
   "execution_count": 14,
   "metadata": {},
   "outputs": [
    {
     "data": {
      "text/plain": [
       "0.5"
      ]
     },
     "execution_count": 14,
     "metadata": {},
     "output_type": "execute_result"
    }
   ],
   "source": [
    "roc_auc_score(Y_dev, dev_predictions)"
   ]
  },
  {
   "attachments": {},
   "cell_type": "markdown",
   "metadata": {},
   "source": [
    "## 4 - Baseline - random forest"
   ]
  },
  {
   "attachments": {},
   "cell_type": "markdown",
   "metadata": {},
   "source": [
    "Label-encode categorical features."
   ]
  },
  {
   "cell_type": "code",
   "execution_count": 15,
   "metadata": {},
   "outputs": [],
   "source": [
    "X_train_categorical = pd.concat([X_train.pop(col) for col in categorical_cols], axis=1)\n",
    "X_dev_categorical = pd.concat([X_dev.pop(col) for col in categorical_cols], axis=1)\n",
    "X_train_categorical_encoded = X_train_categorical.astype(pd.CategoricalDtype())\n",
    "X_dev_categorical_encoded = pd.DataFrame()"
   ]
  },
  {
   "cell_type": "code",
   "execution_count": 16,
   "metadata": {},
   "outputs": [],
   "source": [
    "for col in categorical_cols:\n",
    "    categories = X_train_categorical_encoded[col].cat.categories\n",
    "    X_dev_categorical_encoded[col] = X_dev_categorical[col].astype(pd.CategoricalDtype(categories=categories))\n",
    "    X_train_categorical_encoded[col] = X_train_categorical_encoded[col].cat.codes\n",
    "    X_dev_categorical_encoded[col] = X_dev_categorical_encoded[col].cat.codes"
   ]
  },
  {
   "cell_type": "code",
   "execution_count": 17,
   "metadata": {},
   "outputs": [],
   "source": [
    "X_train = pd.concat([X_train, X_train_categorical_encoded], axis=1)\n",
    "X_dev = pd.concat([X_dev, X_dev_categorical_encoded], axis=1)"
   ]
  },
  {
   "cell_type": "code",
   "execution_count": 18,
   "metadata": {},
   "outputs": [],
   "source": [
    "from sklearn.ensemble import RandomForestClassifier\n",
    "from sklearn.model_selection import GridSearchCV"
   ]
  },
  {
   "cell_type": "code",
   "execution_count": 19,
   "metadata": {},
   "outputs": [
    {
     "name": "stdout",
     "output_type": "stream",
     "text": [
      "Fitting 3 folds for each of 16 candidates, totalling 48 fits\n",
      "[CV 2/3] END max_depth=8, max_features=sqrt, n_estimators=16;, score=0.919 total time=  13.2s\n",
      "[CV 1/3] END max_depth=8, max_features=sqrt, n_estimators=16;, score=0.919 total time=  13.6s\n",
      "[CV 3/3] END max_depth=8, max_features=sqrt, n_estimators=16;, score=0.919 total time=  13.7s\n",
      "[CV 1/3] END max_depth=8, max_features=log2, n_estimators=16;, score=0.919 total time=   6.2s\n",
      "[CV 1/3] END max_depth=8, max_features=sqrt, n_estimators=32;, score=0.919 total time=  21.5s\n",
      "[CV 2/3] END max_depth=8, max_features=log2, n_estimators=16;, score=0.919 total time=   6.2s\n",
      "[CV 3/3] END max_depth=8, max_features=log2, n_estimators=16;, score=0.919 total time=   6.1s\n",
      "[CV 2/3] END max_depth=8, max_features=sqrt, n_estimators=32;, score=0.919 total time=  16.9s\n",
      "[CV 3/3] END max_depth=8, max_features=sqrt, n_estimators=32;, score=0.919 total time=  17.5s\n",
      "[CV 1/3] END max_depth=8, max_features=log2, n_estimators=32;, score=0.919 total time=  12.5s\n",
      "[CV 2/3] END max_depth=8, max_features=log2, n_estimators=32;, score=0.919 total time=  12.6s\n",
      "[CV 3/3] END max_depth=8, max_features=log2, n_estimators=32;, score=0.919 total time=  12.3s\n",
      "[CV 1/3] END max_depth=16, max_features=sqrt, n_estimators=16;, score=0.919 total time=  17.0s\n",
      "[CV 2/3] END max_depth=16, max_features=sqrt, n_estimators=16;, score=0.919 total time=  16.2s\n",
      "[CV 3/3] END max_depth=16, max_features=sqrt, n_estimators=16;, score=0.919 total time=  16.0s\n",
      "[CV 1/3] END max_depth=16, max_features=log2, n_estimators=16;, score=0.919 total time=  11.2s\n",
      "[CV 1/3] END max_depth=16, max_features=sqrt, n_estimators=32;, score=0.919 total time=  31.4s\n",
      "[CV 2/3] END max_depth=16, max_features=log2, n_estimators=16;, score=0.919 total time=  11.0s\n",
      "[CV 2/3] END max_depth=16, max_features=sqrt, n_estimators=32;, score=0.919 total time=  31.1s\n",
      "[CV 3/3] END max_depth=16, max_features=log2, n_estimators=16;, score=0.919 total time=   9.9s\n",
      "[CV 3/3] END max_depth=16, max_features=sqrt, n_estimators=32;, score=0.919 total time=  30.8s\n",
      "[CV 1/3] END max_depth=16, max_features=log2, n_estimators=32;, score=0.919 total time=  20.6s\n",
      "[CV 2/3] END max_depth=16, max_features=log2, n_estimators=32;, score=0.919 total time=  20.5s\n",
      "[CV 3/3] END max_depth=16, max_features=log2, n_estimators=32;, score=0.919 total time=  21.9s\n",
      "[CV 1/3] END max_depth=32, max_features=sqrt, n_estimators=16;, score=0.919 total time=  25.2s\n",
      "[CV 2/3] END max_depth=32, max_features=sqrt, n_estimators=16;, score=0.918 total time=  24.4s\n",
      "[CV 3/3] END max_depth=32, max_features=sqrt, n_estimators=16;, score=0.919 total time=  24.6s\n",
      "[CV 1/3] END max_depth=32, max_features=log2, n_estimators=16;, score=0.919 total time=  17.0s\n",
      "[CV 1/3] END max_depth=32, max_features=sqrt, n_estimators=32;, score=0.919 total time=  43.4s\n",
      "[CV 2/3] END max_depth=32, max_features=sqrt, n_estimators=32;, score=0.919 total time=  42.6s\n",
      "[CV 2/3] END max_depth=32, max_features=log2, n_estimators=16;, score=0.919 total time=  14.1s\n",
      "[CV 3/3] END max_depth=32, max_features=log2, n_estimators=16;, score=0.919 total time=  14.3s\n",
      "[CV 3/3] END max_depth=32, max_features=sqrt, n_estimators=32;, score=0.919 total time=  44.5s\n",
      "[CV 1/3] END max_depth=32, max_features=log2, n_estimators=32;, score=0.919 total time=  29.6s\n",
      "[CV 2/3] END max_depth=32, max_features=log2, n_estimators=32;, score=0.919 total time=  29.3s\n",
      "[CV 1/3] END max_depth=64, max_features=sqrt, n_estimators=16;, score=0.918 total time=  23.4s\n",
      "[CV 3/3] END max_depth=32, max_features=log2, n_estimators=32;, score=0.919 total time=  30.0s\n",
      "[CV 2/3] END max_depth=64, max_features=sqrt, n_estimators=16;, score=0.919 total time=  22.7s\n",
      "[CV 3/3] END max_depth=64, max_features=sqrt, n_estimators=16;, score=0.918 total time=  21.9s\n",
      "[CV 1/3] END max_depth=64, max_features=log2, n_estimators=16;, score=0.918 total time=  15.4s\n",
      "[CV 1/3] END max_depth=64, max_features=sqrt, n_estimators=32;, score=0.919 total time=  43.4s\n",
      "[CV 2/3] END max_depth=64, max_features=sqrt, n_estimators=32;, score=0.919 total time=  43.0s\n",
      "[CV 2/3] END max_depth=64, max_features=log2, n_estimators=16;, score=0.919 total time=  16.5s\n",
      "[CV 3/3] END max_depth=64, max_features=sqrt, n_estimators=32;, score=0.919 total time=  45.1s\n",
      "[CV 3/3] END max_depth=64, max_features=log2, n_estimators=16;, score=0.919 total time=  16.9s\n",
      "[CV 1/3] END max_depth=64, max_features=log2, n_estimators=32;, score=0.919 total time=  28.6s\n",
      "[CV 2/3] END max_depth=64, max_features=log2, n_estimators=32;, score=0.919 total time=  27.2s\n",
      "[CV 3/3] END max_depth=64, max_features=log2, n_estimators=32;, score=0.919 total time=  23.1s\n"
     ]
    },
    {
     "data": {
      "text/html": [
       "<style>#sk-container-id-1 {color: black;background-color: white;}#sk-container-id-1 pre{padding: 0;}#sk-container-id-1 div.sk-toggleable {background-color: white;}#sk-container-id-1 label.sk-toggleable__label {cursor: pointer;display: block;width: 100%;margin-bottom: 0;padding: 0.3em;box-sizing: border-box;text-align: center;}#sk-container-id-1 label.sk-toggleable__label-arrow:before {content: \"▸\";float: left;margin-right: 0.25em;color: #696969;}#sk-container-id-1 label.sk-toggleable__label-arrow:hover:before {color: black;}#sk-container-id-1 div.sk-estimator:hover label.sk-toggleable__label-arrow:before {color: black;}#sk-container-id-1 div.sk-toggleable__content {max-height: 0;max-width: 0;overflow: hidden;text-align: left;background-color: #f0f8ff;}#sk-container-id-1 div.sk-toggleable__content pre {margin: 0.2em;color: black;border-radius: 0.25em;background-color: #f0f8ff;}#sk-container-id-1 input.sk-toggleable__control:checked~div.sk-toggleable__content {max-height: 200px;max-width: 100%;overflow: auto;}#sk-container-id-1 input.sk-toggleable__control:checked~label.sk-toggleable__label-arrow:before {content: \"▾\";}#sk-container-id-1 div.sk-estimator input.sk-toggleable__control:checked~label.sk-toggleable__label {background-color: #d4ebff;}#sk-container-id-1 div.sk-label input.sk-toggleable__control:checked~label.sk-toggleable__label {background-color: #d4ebff;}#sk-container-id-1 input.sk-hidden--visually {border: 0;clip: rect(1px 1px 1px 1px);clip: rect(1px, 1px, 1px, 1px);height: 1px;margin: -1px;overflow: hidden;padding: 0;position: absolute;width: 1px;}#sk-container-id-1 div.sk-estimator {font-family: monospace;background-color: #f0f8ff;border: 1px dotted black;border-radius: 0.25em;box-sizing: border-box;margin-bottom: 0.5em;}#sk-container-id-1 div.sk-estimator:hover {background-color: #d4ebff;}#sk-container-id-1 div.sk-parallel-item::after {content: \"\";width: 100%;border-bottom: 1px solid gray;flex-grow: 1;}#sk-container-id-1 div.sk-label:hover label.sk-toggleable__label {background-color: #d4ebff;}#sk-container-id-1 div.sk-serial::before {content: \"\";position: absolute;border-left: 1px solid gray;box-sizing: border-box;top: 0;bottom: 0;left: 50%;z-index: 0;}#sk-container-id-1 div.sk-serial {display: flex;flex-direction: column;align-items: center;background-color: white;padding-right: 0.2em;padding-left: 0.2em;position: relative;}#sk-container-id-1 div.sk-item {position: relative;z-index: 1;}#sk-container-id-1 div.sk-parallel {display: flex;align-items: stretch;justify-content: center;background-color: white;position: relative;}#sk-container-id-1 div.sk-item::before, #sk-container-id-1 div.sk-parallel-item::before {content: \"\";position: absolute;border-left: 1px solid gray;box-sizing: border-box;top: 0;bottom: 0;left: 50%;z-index: -1;}#sk-container-id-1 div.sk-parallel-item {display: flex;flex-direction: column;z-index: 1;position: relative;background-color: white;}#sk-container-id-1 div.sk-parallel-item:first-child::after {align-self: flex-end;width: 50%;}#sk-container-id-1 div.sk-parallel-item:last-child::after {align-self: flex-start;width: 50%;}#sk-container-id-1 div.sk-parallel-item:only-child::after {width: 0;}#sk-container-id-1 div.sk-dashed-wrapped {border: 1px dashed gray;margin: 0 0.4em 0.5em 0.4em;box-sizing: border-box;padding-bottom: 0.4em;background-color: white;}#sk-container-id-1 div.sk-label label {font-family: monospace;font-weight: bold;display: inline-block;line-height: 1.2em;}#sk-container-id-1 div.sk-label-container {text-align: center;}#sk-container-id-1 div.sk-container {/* jupyter's `normalize.less` sets `[hidden] { display: none; }` but bootstrap.min.css set `[hidden] { display: none !important; }` so we also need the `!important` here to be able to override the default hidden behavior on the sphinx rendered scikit-learn.org. See: https://github.com/scikit-learn/scikit-learn/issues/21755 */display: inline-block !important;position: relative;}#sk-container-id-1 div.sk-text-repr-fallback {display: none;}</style><div id=\"sk-container-id-1\" class=\"sk-top-container\"><div class=\"sk-text-repr-fallback\"><pre>GridSearchCV(cv=3, estimator=RandomForestClassifier(random_state=1337),\n",
       "             n_jobs=-1,\n",
       "             param_grid={&#x27;max_depth&#x27;: [8, 16, 32, 64],\n",
       "                         &#x27;max_features&#x27;: [&#x27;sqrt&#x27;, &#x27;log2&#x27;],\n",
       "                         &#x27;n_estimators&#x27;: [16, 32]},\n",
       "             verbose=3)</pre><b>In a Jupyter environment, please rerun this cell to show the HTML representation or trust the notebook. <br />On GitHub, the HTML representation is unable to render, please try loading this page with nbviewer.org.</b></div><div class=\"sk-container\" hidden><div class=\"sk-item sk-dashed-wrapped\"><div class=\"sk-label-container\"><div class=\"sk-label sk-toggleable\"><input class=\"sk-toggleable__control sk-hidden--visually\" id=\"sk-estimator-id-1\" type=\"checkbox\" ><label for=\"sk-estimator-id-1\" class=\"sk-toggleable__label sk-toggleable__label-arrow\">GridSearchCV</label><div class=\"sk-toggleable__content\"><pre>GridSearchCV(cv=3, estimator=RandomForestClassifier(random_state=1337),\n",
       "             n_jobs=-1,\n",
       "             param_grid={&#x27;max_depth&#x27;: [8, 16, 32, 64],\n",
       "                         &#x27;max_features&#x27;: [&#x27;sqrt&#x27;, &#x27;log2&#x27;],\n",
       "                         &#x27;n_estimators&#x27;: [16, 32]},\n",
       "             verbose=3)</pre></div></div></div><div class=\"sk-parallel\"><div class=\"sk-parallel-item\"><div class=\"sk-item\"><div class=\"sk-label-container\"><div class=\"sk-label sk-toggleable\"><input class=\"sk-toggleable__control sk-hidden--visually\" id=\"sk-estimator-id-2\" type=\"checkbox\" ><label for=\"sk-estimator-id-2\" class=\"sk-toggleable__label sk-toggleable__label-arrow\">estimator: RandomForestClassifier</label><div class=\"sk-toggleable__content\"><pre>RandomForestClassifier(random_state=1337)</pre></div></div></div><div class=\"sk-serial\"><div class=\"sk-item\"><div class=\"sk-estimator sk-toggleable\"><input class=\"sk-toggleable__control sk-hidden--visually\" id=\"sk-estimator-id-3\" type=\"checkbox\" ><label for=\"sk-estimator-id-3\" class=\"sk-toggleable__label sk-toggleable__label-arrow\">RandomForestClassifier</label><div class=\"sk-toggleable__content\"><pre>RandomForestClassifier(random_state=1337)</pre></div></div></div></div></div></div></div></div></div></div>"
      ],
      "text/plain": [
       "GridSearchCV(cv=3, estimator=RandomForestClassifier(random_state=1337),\n",
       "             n_jobs=-1,\n",
       "             param_grid={'max_depth': [8, 16, 32, 64],\n",
       "                         'max_features': ['sqrt', 'log2'],\n",
       "                         'n_estimators': [16, 32]},\n",
       "             verbose=3)"
      ]
     },
     "execution_count": 19,
     "metadata": {},
     "output_type": "execute_result"
    }
   ],
   "source": [
    "parameter_grid = {'n_estimators': [16, 32],\n",
    "                  'max_features': ['sqrt', 'log2'],\n",
    "                  'max_depth': [8, 16, 32, 64]}\n",
    "\n",
    "rfc = RandomForestClassifier(random_state=1337)\n",
    "grid_search = GridSearchCV(estimator=rfc, param_grid=parameter_grid, n_jobs=-1, cv=3, verbose=3)\n",
    "grid_search.fit(X_train, Y_train)\n",
    "grid_search.best_params_"
   ]
  },
  {
   "cell_type": "code",
   "execution_count": 21,
   "metadata": {},
   "outputs": [],
   "source": [
    "best_rfc = grid_search.best_estimator_"
   ]
  },
  {
   "cell_type": "code",
   "execution_count": 24,
   "metadata": {},
   "outputs": [],
   "source": [
    "dev_predictions = best_rfc.predict(X_dev)"
   ]
  },
  {
   "cell_type": "code",
   "execution_count": 25,
   "metadata": {},
   "outputs": [
    {
     "data": {
      "text/plain": [
       "0.919296714434528"
      ]
     },
     "execution_count": 25,
     "metadata": {},
     "output_type": "execute_result"
    }
   ],
   "source": [
    "accuracy_score(Y_dev, dev_predictions)"
   ]
  },
  {
   "cell_type": "code",
   "execution_count": 26,
   "metadata": {},
   "outputs": [
    {
     "data": {
      "text/plain": [
       "0.5115047287321428"
      ]
     },
     "execution_count": 26,
     "metadata": {},
     "output_type": "execute_result"
    }
   ],
   "source": [
    "roc_auc_score(Y_dev, dev_predictions)"
   ]
  },
  {
   "cell_type": "code",
   "execution_count": 27,
   "metadata": {},
   "outputs": [],
   "source": [
    "train_predictions = best_rfc.predict(X_train)"
   ]
  },
  {
   "cell_type": "code",
   "execution_count": 28,
   "metadata": {},
   "outputs": [
    {
     "data": {
      "text/plain": [
       "0.9771565922464034"
      ]
     },
     "execution_count": 28,
     "metadata": {},
     "output_type": "execute_result"
    }
   ],
   "source": [
    "accuracy_score(Y_train, train_predictions)"
   ]
  },
  {
   "cell_type": "code",
   "execution_count": 29,
   "metadata": {},
   "outputs": [
    {
     "data": {
      "text/plain": [
       "0.8597844142209274"
      ]
     },
     "execution_count": 29,
     "metadata": {},
     "output_type": "execute_result"
    }
   ],
   "source": [
    "roc_auc_score(Y_train, train_predictions)"
   ]
  },
  {
   "attachments": {},
   "cell_type": "markdown",
   "metadata": {},
   "source": [
    "## 5 - MLPClassifier"
   ]
  },
  {
   "attachments": {},
   "cell_type": "markdown",
   "metadata": {},
   "source": [
    "One-hot encode categorical features."
   ]
  },
  {
   "cell_type": "code",
   "execution_count": 30,
   "metadata": {},
   "outputs": [
    {
     "data": {
      "text/html": [
       "<div>\n",
       "<style scoped>\n",
       "    .dataframe tbody tr th:only-of-type {\n",
       "        vertical-align: middle;\n",
       "    }\n",
       "\n",
       "    .dataframe tbody tr th {\n",
       "        vertical-align: top;\n",
       "    }\n",
       "\n",
       "    .dataframe thead th {\n",
       "        text-align: right;\n",
       "    }\n",
       "</style>\n",
       "<table border=\"1\" class=\"dataframe\">\n",
       "  <thead>\n",
       "    <tr style=\"text-align: right;\">\n",
       "      <th></th>\n",
       "      <th>CLNT_TRUST_RELATION</th>\n",
       "      <th>APP_MARITAL_STATUS</th>\n",
       "      <th>APP_KIND_OF_PROP_HABITATION</th>\n",
       "      <th>CLNT_JOB_POSITION_TYPE</th>\n",
       "      <th>CLNT_JOB_POSITION</th>\n",
       "      <th>APP_DRIVING_LICENSE</th>\n",
       "      <th>APP_EDUCATION</th>\n",
       "      <th>APP_TRAVEL_PASS</th>\n",
       "      <th>APP_CAR</th>\n",
       "      <th>APP_POSITION_TYPE</th>\n",
       "      <th>APP_EMP_TYPE</th>\n",
       "      <th>APP_COMP_TYPE</th>\n",
       "      <th>PACK</th>\n",
       "    </tr>\n",
       "    <tr>\n",
       "      <th>ID</th>\n",
       "      <th></th>\n",
       "      <th></th>\n",
       "      <th></th>\n",
       "      <th></th>\n",
       "      <th></th>\n",
       "      <th></th>\n",
       "      <th></th>\n",
       "      <th></th>\n",
       "      <th></th>\n",
       "      <th></th>\n",
       "      <th></th>\n",
       "      <th></th>\n",
       "      <th></th>\n",
       "    </tr>\n",
       "  </thead>\n",
       "  <tbody>\n",
       "    <tr>\n",
       "      <th>568142</th>\n",
       "      <td>sister</td>\n",
       "      <td>t</td>\n",
       "      <td>jo</td>\n",
       "      <td>specialist</td>\n",
       "      <td>апоратчик</td>\n",
       "      <td>n</td>\n",
       "      <td>h</td>\n",
       "      <td>n</td>\n",
       "      <td>y</td>\n",
       "      <td>specialist</td>\n",
       "      <td>private</td>\n",
       "      <td>private</td>\n",
       "      <td>103</td>\n",
       "    </tr>\n",
       "    <tr>\n",
       "      <th>581309</th>\n",
       "      <td>NaN</td>\n",
       "      <td>NaN</td>\n",
       "      <td>NaN</td>\n",
       "      <td>NaN</td>\n",
       "      <td>руководитель сектора</td>\n",
       "      <td>NaN</td>\n",
       "      <td>NaN</td>\n",
       "      <td>NaN</td>\n",
       "      <td>NaN</td>\n",
       "      <td>NaN</td>\n",
       "      <td>NaN</td>\n",
       "      <td>NaN</td>\n",
       "      <td>107</td>\n",
       "    </tr>\n",
       "    <tr>\n",
       "      <th>571905</th>\n",
       "      <td>NaN</td>\n",
       "      <td>NaN</td>\n",
       "      <td>NaN</td>\n",
       "      <td>NaN</td>\n",
       "      <td>мл. научный сотрудник</td>\n",
       "      <td>NaN</td>\n",
       "      <td>NaN</td>\n",
       "      <td>NaN</td>\n",
       "      <td>NaN</td>\n",
       "      <td>NaN</td>\n",
       "      <td>NaN</td>\n",
       "      <td>NaN</td>\n",
       "      <td>102</td>\n",
       "    </tr>\n",
       "    <tr>\n",
       "      <th>391700</th>\n",
       "      <td>NaN</td>\n",
       "      <td>NaN</td>\n",
       "      <td>NaN</td>\n",
       "      <td>NaN</td>\n",
       "      <td>NaN</td>\n",
       "      <td>NaN</td>\n",
       "      <td>NaN</td>\n",
       "      <td>NaN</td>\n",
       "      <td>NaN</td>\n",
       "      <td>NaN</td>\n",
       "      <td>NaN</td>\n",
       "      <td>NaN</td>\n",
       "      <td>k01</td>\n",
       "    </tr>\n",
       "    <tr>\n",
       "      <th>487431</th>\n",
       "      <td>NaN</td>\n",
       "      <td>NaN</td>\n",
       "      <td>NaN</td>\n",
       "      <td>NaN</td>\n",
       "      <td>NaN</td>\n",
       "      <td>NaN</td>\n",
       "      <td>NaN</td>\n",
       "      <td>NaN</td>\n",
       "      <td>NaN</td>\n",
       "      <td>NaN</td>\n",
       "      <td>NaN</td>\n",
       "      <td>NaN</td>\n",
       "      <td>o01</td>\n",
       "    </tr>\n",
       "    <tr>\n",
       "      <th>...</th>\n",
       "      <td>...</td>\n",
       "      <td>...</td>\n",
       "      <td>...</td>\n",
       "      <td>...</td>\n",
       "      <td>...</td>\n",
       "      <td>...</td>\n",
       "      <td>...</td>\n",
       "      <td>...</td>\n",
       "      <td>...</td>\n",
       "      <td>...</td>\n",
       "      <td>...</td>\n",
       "      <td>...</td>\n",
       "      <td>...</td>\n",
       "    </tr>\n",
       "    <tr>\n",
       "      <th>414244</th>\n",
       "      <td>NaN</td>\n",
       "      <td>NaN</td>\n",
       "      <td>NaN</td>\n",
       "      <td>NaN</td>\n",
       "      <td>NaN</td>\n",
       "      <td>NaN</td>\n",
       "      <td>NaN</td>\n",
       "      <td>NaN</td>\n",
       "      <td>NaN</td>\n",
       "      <td>NaN</td>\n",
       "      <td>NaN</td>\n",
       "      <td>NaN</td>\n",
       "      <td>105</td>\n",
       "    </tr>\n",
       "    <tr>\n",
       "      <th>198702</th>\n",
       "      <td>NaN</td>\n",
       "      <td>NaN</td>\n",
       "      <td>NaN</td>\n",
       "      <td>NaN</td>\n",
       "      <td>директор</td>\n",
       "      <td>NaN</td>\n",
       "      <td>NaN</td>\n",
       "      <td>NaN</td>\n",
       "      <td>NaN</td>\n",
       "      <td>NaN</td>\n",
       "      <td>NaN</td>\n",
       "      <td>NaN</td>\n",
       "      <td>102</td>\n",
       "    </tr>\n",
       "    <tr>\n",
       "      <th>322749</th>\n",
       "      <td>NaN</td>\n",
       "      <td>NaN</td>\n",
       "      <td>NaN</td>\n",
       "      <td>NaN</td>\n",
       "      <td>зам.директора по персоналу</td>\n",
       "      <td>NaN</td>\n",
       "      <td>NaN</td>\n",
       "      <td>NaN</td>\n",
       "      <td>NaN</td>\n",
       "      <td>NaN</td>\n",
       "      <td>NaN</td>\n",
       "      <td>NaN</td>\n",
       "      <td>k01</td>\n",
       "    </tr>\n",
       "    <tr>\n",
       "      <th>242326</th>\n",
       "      <td>NaN</td>\n",
       "      <td>NaN</td>\n",
       "      <td>NaN</td>\n",
       "      <td>NaN</td>\n",
       "      <td>NaN</td>\n",
       "      <td>NaN</td>\n",
       "      <td>NaN</td>\n",
       "      <td>NaN</td>\n",
       "      <td>NaN</td>\n",
       "      <td>NaN</td>\n",
       "      <td>NaN</td>\n",
       "      <td>NaN</td>\n",
       "      <td>105</td>\n",
       "    </tr>\n",
       "    <tr>\n",
       "      <th>379756</th>\n",
       "      <td>NaN</td>\n",
       "      <td>NaN</td>\n",
       "      <td>NaN</td>\n",
       "      <td>NaN</td>\n",
       "      <td>главный специалист 3-го разряда</td>\n",
       "      <td>NaN</td>\n",
       "      <td>NaN</td>\n",
       "      <td>NaN</td>\n",
       "      <td>NaN</td>\n",
       "      <td>NaN</td>\n",
       "      <td>NaN</td>\n",
       "      <td>NaN</td>\n",
       "      <td>102</td>\n",
       "    </tr>\n",
       "  </tbody>\n",
       "</table>\n",
       "<p>284152 rows × 13 columns</p>\n",
       "</div>"
      ],
      "text/plain": [
       "       CLNT_TRUST_RELATION APP_MARITAL_STATUS APP_KIND_OF_PROP_HABITATION  \\\n",
       "ID                                                                          \n",
       "568142              sister                  t                          jo   \n",
       "581309                 NaN                NaN                         NaN   \n",
       "571905                 NaN                NaN                         NaN   \n",
       "391700                 NaN                NaN                         NaN   \n",
       "487431                 NaN                NaN                         NaN   \n",
       "...                    ...                ...                         ...   \n",
       "414244                 NaN                NaN                         NaN   \n",
       "198702                 NaN                NaN                         NaN   \n",
       "322749                 NaN                NaN                         NaN   \n",
       "242326                 NaN                NaN                         NaN   \n",
       "379756                 NaN                NaN                         NaN   \n",
       "\n",
       "       CLNT_JOB_POSITION_TYPE                CLNT_JOB_POSITION  \\\n",
       "ID                                                               \n",
       "568142             specialist                        апоратчик   \n",
       "581309                    NaN             руководитель сектора   \n",
       "571905                    NaN            мл. научный сотрудник   \n",
       "391700                    NaN                              NaN   \n",
       "487431                    NaN                              NaN   \n",
       "...                       ...                              ...   \n",
       "414244                    NaN                              NaN   \n",
       "198702                    NaN                         директор   \n",
       "322749                    NaN       зам.директора по персоналу   \n",
       "242326                    NaN                              NaN   \n",
       "379756                    NaN  главный специалист 3-го разряда   \n",
       "\n",
       "       APP_DRIVING_LICENSE APP_EDUCATION APP_TRAVEL_PASS APP_CAR  \\\n",
       "ID                                                                 \n",
       "568142                   n             h               n       y   \n",
       "581309                 NaN           NaN             NaN     NaN   \n",
       "571905                 NaN           NaN             NaN     NaN   \n",
       "391700                 NaN           NaN             NaN     NaN   \n",
       "487431                 NaN           NaN             NaN     NaN   \n",
       "...                    ...           ...             ...     ...   \n",
       "414244                 NaN           NaN             NaN     NaN   \n",
       "198702                 NaN           NaN             NaN     NaN   \n",
       "322749                 NaN           NaN             NaN     NaN   \n",
       "242326                 NaN           NaN             NaN     NaN   \n",
       "379756                 NaN           NaN             NaN     NaN   \n",
       "\n",
       "       APP_POSITION_TYPE APP_EMP_TYPE APP_COMP_TYPE PACK  \n",
       "ID                                                        \n",
       "568142        specialist      private       private  103  \n",
       "581309               NaN          NaN           NaN  107  \n",
       "571905               NaN          NaN           NaN  102  \n",
       "391700               NaN          NaN           NaN  k01  \n",
       "487431               NaN          NaN           NaN  o01  \n",
       "...                  ...          ...           ...  ...  \n",
       "414244               NaN          NaN           NaN  105  \n",
       "198702               NaN          NaN           NaN  102  \n",
       "322749               NaN          NaN           NaN  k01  \n",
       "242326               NaN          NaN           NaN  105  \n",
       "379756               NaN          NaN           NaN  102  \n",
       "\n",
       "[284152 rows x 13 columns]"
      ]
     },
     "execution_count": 30,
     "metadata": {},
     "output_type": "execute_result"
    }
   ],
   "source": [
    "X_train_categorical"
   ]
  },
  {
   "cell_type": "code",
   "execution_count": 31,
   "metadata": {},
   "outputs": [],
   "source": [
    "encoder = OneHotEncoder(handle_unknown='infrequent_if_exist', sparse_output=False, max_categories=1000)\n",
    "X_train_categorical_encoded = encoder.fit_transform(X_train_categorical)\n",
    "X_dev_categorical_encoded = encoder.transform(X_dev_categorical)"
   ]
  },
  {
   "cell_type": "code",
   "execution_count": 32,
   "metadata": {},
   "outputs": [],
   "source": [
    "X_train.drop(columns=categorical_cols, inplace=True)\n",
    "X_dev.drop(columns=categorical_cols, inplace=True)"
   ]
  },
  {
   "cell_type": "code",
   "execution_count": 33,
   "metadata": {},
   "outputs": [],
   "source": [
    "del(X_train_categorical)\n",
    "del(X_dev_categorical)"
   ]
  },
  {
   "cell_type": "code",
   "execution_count": 34,
   "metadata": {},
   "outputs": [],
   "source": [
    "X_train = X_train.to_numpy()\n",
    "X_dev = X_dev.to_numpy()\n",
    "Y_train = Y_train.to_numpy()\n",
    "Y_dev = Y_dev.to_numpy()"
   ]
  },
  {
   "cell_type": "code",
   "execution_count": 35,
   "metadata": {},
   "outputs": [],
   "source": [
    "X_train = np.concatenate((X_train, X_train_categorical_encoded), axis=1)\n",
    "X_dev = np.concatenate((X_dev, X_dev_categorical_encoded), axis=1)"
   ]
  },
  {
   "cell_type": "code",
   "execution_count": 36,
   "metadata": {},
   "outputs": [],
   "source": [
    "del(X_train_categorical_encoded)\n",
    "del(X_dev_categorical_encoded)"
   ]
  },
  {
   "cell_type": "code",
   "execution_count": 37,
   "metadata": {},
   "outputs": [],
   "source": [
    "from sklearn.neural_network import MLPClassifier"
   ]
  },
  {
   "cell_type": "code",
   "execution_count": 38,
   "metadata": {},
   "outputs": [
    {
     "name": "stdout",
     "output_type": "stream",
     "text": [
      "Iteration 1, loss = 3.07581885\n",
      "Iteration 2, loss = 1.26960677\n",
      "Iteration 3, loss = 0.55466725\n",
      "Iteration 4, loss = 0.31832247\n",
      "Iteration 5, loss = 0.29596984\n",
      "Iteration 6, loss = 0.28432089\n",
      "Iteration 7, loss = 0.28442767\n",
      "Iteration 8, loss = 0.28263402\n",
      "Iteration 9, loss = 0.28231132\n",
      "Iteration 10, loss = 0.28232453\n",
      "Iteration 11, loss = 0.28232239\n",
      "Iteration 12, loss = 0.28232547\n",
      "Iteration 13, loss = 0.28236213\n",
      "Iteration 14, loss = 0.28233516\n",
      "Iteration 15, loss = 0.28295997\n",
      "Iteration 16, loss = 0.28264172\n",
      "Iteration 17, loss = 0.28241162\n",
      "Iteration 18, loss = 0.28241003\n",
      "Iteration 19, loss = 0.28260493\n",
      "Iteration 20, loss = 0.28272246\n",
      "Training loss did not improve more than tol=0.000100 for 10 consecutive epochs. Stopping.\n"
     ]
    },
    {
     "data": {
      "text/html": [
       "<style>#sk-container-id-2 {color: black;background-color: white;}#sk-container-id-2 pre{padding: 0;}#sk-container-id-2 div.sk-toggleable {background-color: white;}#sk-container-id-2 label.sk-toggleable__label {cursor: pointer;display: block;width: 100%;margin-bottom: 0;padding: 0.3em;box-sizing: border-box;text-align: center;}#sk-container-id-2 label.sk-toggleable__label-arrow:before {content: \"▸\";float: left;margin-right: 0.25em;color: #696969;}#sk-container-id-2 label.sk-toggleable__label-arrow:hover:before {color: black;}#sk-container-id-2 div.sk-estimator:hover label.sk-toggleable__label-arrow:before {color: black;}#sk-container-id-2 div.sk-toggleable__content {max-height: 0;max-width: 0;overflow: hidden;text-align: left;background-color: #f0f8ff;}#sk-container-id-2 div.sk-toggleable__content pre {margin: 0.2em;color: black;border-radius: 0.25em;background-color: #f0f8ff;}#sk-container-id-2 input.sk-toggleable__control:checked~div.sk-toggleable__content {max-height: 200px;max-width: 100%;overflow: auto;}#sk-container-id-2 input.sk-toggleable__control:checked~label.sk-toggleable__label-arrow:before {content: \"▾\";}#sk-container-id-2 div.sk-estimator input.sk-toggleable__control:checked~label.sk-toggleable__label {background-color: #d4ebff;}#sk-container-id-2 div.sk-label input.sk-toggleable__control:checked~label.sk-toggleable__label {background-color: #d4ebff;}#sk-container-id-2 input.sk-hidden--visually {border: 0;clip: rect(1px 1px 1px 1px);clip: rect(1px, 1px, 1px, 1px);height: 1px;margin: -1px;overflow: hidden;padding: 0;position: absolute;width: 1px;}#sk-container-id-2 div.sk-estimator {font-family: monospace;background-color: #f0f8ff;border: 1px dotted black;border-radius: 0.25em;box-sizing: border-box;margin-bottom: 0.5em;}#sk-container-id-2 div.sk-estimator:hover {background-color: #d4ebff;}#sk-container-id-2 div.sk-parallel-item::after {content: \"\";width: 100%;border-bottom: 1px solid gray;flex-grow: 1;}#sk-container-id-2 div.sk-label:hover label.sk-toggleable__label {background-color: #d4ebff;}#sk-container-id-2 div.sk-serial::before {content: \"\";position: absolute;border-left: 1px solid gray;box-sizing: border-box;top: 0;bottom: 0;left: 50%;z-index: 0;}#sk-container-id-2 div.sk-serial {display: flex;flex-direction: column;align-items: center;background-color: white;padding-right: 0.2em;padding-left: 0.2em;position: relative;}#sk-container-id-2 div.sk-item {position: relative;z-index: 1;}#sk-container-id-2 div.sk-parallel {display: flex;align-items: stretch;justify-content: center;background-color: white;position: relative;}#sk-container-id-2 div.sk-item::before, #sk-container-id-2 div.sk-parallel-item::before {content: \"\";position: absolute;border-left: 1px solid gray;box-sizing: border-box;top: 0;bottom: 0;left: 50%;z-index: -1;}#sk-container-id-2 div.sk-parallel-item {display: flex;flex-direction: column;z-index: 1;position: relative;background-color: white;}#sk-container-id-2 div.sk-parallel-item:first-child::after {align-self: flex-end;width: 50%;}#sk-container-id-2 div.sk-parallel-item:last-child::after {align-self: flex-start;width: 50%;}#sk-container-id-2 div.sk-parallel-item:only-child::after {width: 0;}#sk-container-id-2 div.sk-dashed-wrapped {border: 1px dashed gray;margin: 0 0.4em 0.5em 0.4em;box-sizing: border-box;padding-bottom: 0.4em;background-color: white;}#sk-container-id-2 div.sk-label label {font-family: monospace;font-weight: bold;display: inline-block;line-height: 1.2em;}#sk-container-id-2 div.sk-label-container {text-align: center;}#sk-container-id-2 div.sk-container {/* jupyter's `normalize.less` sets `[hidden] { display: none; }` but bootstrap.min.css set `[hidden] { display: none !important; }` so we also need the `!important` here to be able to override the default hidden behavior on the sphinx rendered scikit-learn.org. See: https://github.com/scikit-learn/scikit-learn/issues/21755 */display: inline-block !important;position: relative;}#sk-container-id-2 div.sk-text-repr-fallback {display: none;}</style><div id=\"sk-container-id-2\" class=\"sk-top-container\"><div class=\"sk-text-repr-fallback\"><pre>MLPClassifier(hidden_layer_sizes=(100, 100), random_state=1337, verbose=True)</pre><b>In a Jupyter environment, please rerun this cell to show the HTML representation or trust the notebook. <br />On GitHub, the HTML representation is unable to render, please try loading this page with nbviewer.org.</b></div><div class=\"sk-container\" hidden><div class=\"sk-item\"><div class=\"sk-estimator sk-toggleable\"><input class=\"sk-toggleable__control sk-hidden--visually\" id=\"sk-estimator-id-4\" type=\"checkbox\" checked><label for=\"sk-estimator-id-4\" class=\"sk-toggleable__label sk-toggleable__label-arrow\">MLPClassifier</label><div class=\"sk-toggleable__content\"><pre>MLPClassifier(hidden_layer_sizes=(100, 100), random_state=1337, verbose=True)</pre></div></div></div></div></div>"
      ],
      "text/plain": [
       "MLPClassifier(hidden_layer_sizes=(100, 100), random_state=1337, verbose=True)"
      ]
     },
     "execution_count": 38,
     "metadata": {},
     "output_type": "execute_result"
    }
   ],
   "source": [
    "mlp = MLPClassifier(random_state=1337, verbose=True, hidden_layer_sizes=(100, 100))\n",
    "mlp.fit(X_train, Y_train)"
   ]
  },
  {
   "cell_type": "code",
   "execution_count": 39,
   "metadata": {},
   "outputs": [
    {
     "data": {
      "text/plain": [
       "0.9185224809257018"
      ]
     },
     "execution_count": 39,
     "metadata": {},
     "output_type": "execute_result"
    }
   ],
   "source": [
    "mlp.score(X_dev, Y_dev)"
   ]
  },
  {
   "cell_type": "code",
   "execution_count": 40,
   "metadata": {},
   "outputs": [
    {
     "data": {
      "text/plain": [
       "0.9185224809257018"
      ]
     },
     "execution_count": 40,
     "metadata": {},
     "output_type": "execute_result"
    }
   ],
   "source": [
    "dev_predictions = mlp.predict(X_dev)\n",
    "accuracy_score(Y_dev, dev_predictions)"
   ]
  },
  {
   "cell_type": "code",
   "execution_count": 41,
   "metadata": {},
   "outputs": [
    {
     "data": {
      "text/plain": [
       "0.49997701255114707"
      ]
     },
     "execution_count": 41,
     "metadata": {},
     "output_type": "execute_result"
    }
   ],
   "source": [
    "roc_auc_score(Y_dev, dev_predictions)"
   ]
  },
  {
   "attachments": {},
   "cell_type": "markdown",
   "metadata": {},
   "source": [
    "## 6 - Keras"
   ]
  },
  {
   "cell_type": "code",
   "execution_count": 42,
   "metadata": {},
   "outputs": [
    {
     "name": "stderr",
     "output_type": "stream",
     "text": [
      "2023-05-25 23:29:58.101214: I tensorflow/core/platform/cpu_feature_guard.cc:193] This TensorFlow binary is optimized with oneAPI Deep Neural Network Library (oneDNN) to use the following CPU instructions in performance-critical operations:  SSE4.1 SSE4.2 AVX AVX2 FMA\n",
      "To enable them in other operations, rebuild TensorFlow with the appropriate compiler flags.\n"
     ]
    }
   ],
   "source": [
    "from tensorflow import keras\n",
    "from tensorflow.keras import layers\n",
    "import matplotlib.pyplot as plt"
   ]
  },
  {
   "cell_type": "code",
   "execution_count": 43,
   "metadata": {},
   "outputs": [
    {
     "name": "stderr",
     "output_type": "stream",
     "text": [
      "2023-05-25 23:30:12.329981: I tensorflow/core/platform/cpu_feature_guard.cc:193] This TensorFlow binary is optimized with oneAPI Deep Neural Network Library (oneDNN) to use the following CPU instructions in performance-critical operations:  SSE4.1 SSE4.2 AVX AVX2 FMA\n",
      "To enable them in other operations, rebuild TensorFlow with the appropriate compiler flags.\n"
     ]
    }
   ],
   "source": [
    "input_shape = [X_train.shape[1]]\n",
    "model = keras.Sequential([\n",
    "    layers.Dense(100, activation='relu', input_shape=input_shape),\n",
    "    layers.Dense(100, activation='relu'),\n",
    "    layers.Dense(1, activation='sigmoid'),\n",
    "])"
   ]
  },
  {
   "cell_type": "code",
   "execution_count": 44,
   "metadata": {},
   "outputs": [],
   "source": [
    "model.compile(optimizer='adam', loss='binary_crossentropy', metrics=['binary_accuracy'])"
   ]
  },
  {
   "cell_type": "code",
   "execution_count": 60,
   "metadata": {},
   "outputs": [
    {
     "name": "stdout",
     "output_type": "stream",
     "text": [
      "Epoch 1/2\n",
      "555/555 [==============================] - 7s 13ms/step - loss: 0.2823 - binary_accuracy: 0.9186 - val_loss: 0.2823 - val_binary_accuracy: 0.9186\n",
      "Epoch 2/2\n",
      "555/555 [==============================] - 6s 11ms/step - loss: 0.2823 - binary_accuracy: 0.9186 - val_loss: 0.2823 - val_binary_accuracy: 0.9186\n"
     ]
    }
   ],
   "source": [
    "history = model.fit(X_train, Y_train, validation_data=(X_dev, Y_dev), epochs=2, batch_size=512)"
   ]
  },
  {
   "cell_type": "code",
   "execution_count": 61,
   "metadata": {},
   "outputs": [
    {
     "data": {
      "text/plain": [
       "<Axes: >"
      ]
     },
     "execution_count": 61,
     "metadata": {},
     "output_type": "execute_result"
    },
    {
     "data": {
      "image/png": "[encoded data removed]",
      "text/plain": [
       "<Figure size 640x480 with 1 Axes>"
      ]
     },
     "metadata": {},
     "output_type": "display_data"
    }
   ],
   "source": [
    "history = pd.DataFrame(history.history)\n",
    "history[['loss', 'val_loss']].plot()"
   ]
  },
  {
   "attachments": {},
   "cell_type": "markdown",
   "metadata": {},
   "source": [
    "## 7 - TensorFlow"
   ]
  },
  {
   "attachments": {},
   "cell_type": "markdown",
   "metadata": {},
   "source": [
    "## 8 - Numpy"
   ]
  },
  {
   "attachments": {},
   "cell_type": "markdown",
   "metadata": {},
   "source": [
    "## n - Make predictions on the test set"
   ]
  },
  {
   "cell_type": "code",
   "execution_count": 32,
   "metadata": {},
   "outputs": [],
   "source": [
    "del(X_train)\n",
    "del(X_dev)\n",
    "del(Y_train)\n",
    "del(Y_dev)"
   ]
  },
  {
   "cell_type": "code",
   "execution_count": 33,
   "metadata": {},
   "outputs": [],
   "source": [
    "x_test = pd.read_csv('data/bank_data_test.csv', index_col='ID')\n",
    "x_test.drop(columns=['TARGET'], inplace=True)\n",
    "idx = x_test.index"
   ]
  },
  {
   "cell_type": "code",
   "execution_count": 34,
   "metadata": {},
   "outputs": [],
   "source": [
    "categorical_test = x_test.select_dtypes(include=[\"object_\"])\n",
    "categorical_test = categorical_test.apply(lambda c: c.str.lower())\n",
    "categorical_test['CLNT_TRUST_RELATION'].replace(ru_to_en, inplace=True)"
   ]
  },
  {
   "cell_type": "code",
   "execution_count": 35,
   "metadata": {},
   "outputs": [],
   "source": [
    "categorical_test_encoded = encoder.transform(categorical_test)\n",
    "del(categorical_test)\n",
    "x_test.drop(columns=categorical_cols, inplace=True)"
   ]
  },
  {
   "cell_type": "code",
   "execution_count": 36,
   "metadata": {},
   "outputs": [],
   "source": [
    "x_test.fillna(medians, inplace=True)\n",
    "x_test = x_test.to_numpy()\n",
    "x_test = np.concatenate((x_test, categorical_test_encoded), axis=1)\n",
    "del(categorical_test_encoded)"
   ]
  },
  {
   "attachments": {},
   "cell_type": "markdown",
   "metadata": {},
   "source": [
    "Save the final predictions to a csv file."
   ]
  },
  {
   "cell_type": "code",
   "execution_count": 38,
   "metadata": {},
   "outputs": [],
   "source": [
    "test_predictions = best_rfc.predict(x_test)\n",
    "test_predictions = pd.DataFrame(test_predictions, index=idx, columns=['TARGET'])\n",
    "test_predictions.to_csv('final_predictions.csv')"
   ]
  }
 ],
 "metadata": {
  "kernelspec": {
   "display_name": "42AI-mfarhi",
   "language": "python",
   "name": "python3"
  },
  "language_info": {
   "codemirror_mode": {
    "name": "ipython",
    "version": 3
   },
   "file_extension": ".py",
   "mimetype": "text/x-python",
   "name": "python",
   "nbconvert_exporter": "python",
   "pygments_lexer": "ipython3",
   "version": "3.9.16"
  },
  "orig_nbformat": 4
 },
 "nbformat": 4,
 "nbformat_minor": 2
}
