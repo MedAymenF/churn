{
 "cells": [
  {
   "attachments": {},
   "cell_type": "markdown",
   "id": "776af014",
   "metadata": {
    "papermill": {
     "duration": 0.019148,
     "end_time": "2023-06-17T17:33:46.424172",
     "exception": false,
     "start_time": "2023-06-17T17:33:46.405024",
     "status": "completed"
    },
    "tags": []
   },
   "source": [
    "# Churn"
   ]
  },
  {
   "attachments": {},
   "cell_type": "markdown",
   "id": "3a0d63c8",
   "metadata": {
    "papermill": {
     "duration": 0.018293,
     "end_time": "2023-06-17T17:33:46.461640",
     "exception": false,
     "start_time": "2023-06-17T17:33:46.443347",
     "status": "completed"
    },
    "tags": []
   },
   "source": [
    "# 1 - Import useful modules"
   ]
  },
  {
   "cell_type": "code",
   "execution_count": 1,
   "id": "a637faa6",
   "metadata": {
    "execution": {
     "iopub.execute_input": "2023-06-17T17:33:46.503359Z",
     "iopub.status.busy": "2023-06-17T17:33:46.502801Z",
     "iopub.status.idle": "2023-06-17T17:33:47.522810Z",
     "shell.execute_reply": "2023-06-17T17:33:47.521874Z"
    },
    "papermill": {
     "duration": 1.043725,
     "end_time": "2023-06-17T17:33:47.525251",
     "exception": false,
     "start_time": "2023-06-17T17:33:46.481526",
     "status": "completed"
    },
    "tags": []
   },
   "outputs": [],
   "source": [
    "import pandas as pd\n",
    "from sklearn.model_selection import train_test_split\n",
    "from sklearn.preprocessing import OneHotEncoder\n",
    "import numpy as np"
   ]
  },
  {
   "attachments": {},
   "cell_type": "markdown",
   "id": "24eeb851",
   "metadata": {
    "papermill": {
     "duration": 0.01915,
     "end_time": "2023-06-17T17:33:47.563868",
     "exception": false,
     "start_time": "2023-06-17T17:33:47.544718",
     "status": "completed"
    },
    "tags": []
   },
   "source": [
    "# 2 - Load and prepare dataset"
   ]
  },
  {
   "cell_type": "code",
   "execution_count": 2,
   "id": "189816a0",
   "metadata": {
    "execution": {
     "iopub.execute_input": "2023-06-17T17:33:47.606236Z",
     "iopub.status.busy": "2023-06-17T17:33:47.602600Z",
     "iopub.status.idle": "2023-06-17T17:33:54.966968Z",
     "shell.execute_reply": "2023-06-17T17:33:54.965891Z"
    },
    "papermill": {
     "duration": 7.386406,
     "end_time": "2023-06-17T17:33:54.969365",
     "exception": false,
     "start_time": "2023-06-17T17:33:47.582959",
     "status": "completed"
    },
    "tags": []
   },
   "outputs": [],
   "source": [
    "X_train = pd.read_csv('data/bank_data_train.csv', index_col='ID')\n",
    "\n",
    "Y_train = X_train.pop('TARGET')"
   ]
  },
  {
   "cell_type": "code",
   "execution_count": 3,
   "id": "ba00ec81",
   "metadata": {
    "execution": {
     "iopub.execute_input": "2023-06-17T17:33:55.009692Z",
     "iopub.status.busy": "2023-06-17T17:33:55.009354Z",
     "iopub.status.idle": "2023-06-17T17:33:56.004972Z",
     "shell.execute_reply": "2023-06-17T17:33:56.003990Z"
    },
    "papermill": {
     "duration": 1.018434,
     "end_time": "2023-06-17T17:33:56.007491",
     "exception": false,
     "start_time": "2023-06-17T17:33:54.989057",
     "status": "completed"
    },
    "tags": []
   },
   "outputs": [],
   "source": [
    "# Drop columns that only have one unique value\n",
    "useless_cols = [col for col in X_train.columns if len(pd.Series(X_train[col].unique()).dropna()) <= 1]\n",
    "useless_cols = useless_cols\n",
    "X_train.drop(columns=useless_cols, inplace=True)"
   ]
  },
  {
   "attachments": {},
   "cell_type": "markdown",
   "id": "4a4ea213",
   "metadata": {
    "papermill": {
     "duration": 0.018461,
     "end_time": "2023-06-17T17:33:56.044789",
     "exception": false,
     "start_time": "2023-06-17T17:33:56.026328",
     "status": "completed"
    },
    "tags": []
   },
   "source": [
    "Lower case categorical columns to avoid duplicates."
   ]
  },
  {
   "cell_type": "code",
   "execution_count": 4,
   "id": "b23e2d04",
   "metadata": {
    "execution": {
     "iopub.execute_input": "2023-06-17T17:33:56.083170Z",
     "iopub.status.busy": "2023-06-17T17:33:56.082876Z",
     "iopub.status.idle": "2023-06-17T17:33:57.093241Z",
     "shell.execute_reply": "2023-06-17T17:33:57.092246Z"
    },
    "papermill": {
     "duration": 1.032374,
     "end_time": "2023-06-17T17:33:57.095695",
     "exception": false,
     "start_time": "2023-06-17T17:33:56.063321",
     "status": "completed"
    },
    "tags": []
   },
   "outputs": [],
   "source": [
    "X_train_categorical = X_train.select_dtypes(include=[\"object_\"])\n",
    "categorical_cols = X_train_categorical.columns\n",
    "X_train.drop(columns=categorical_cols, inplace=True)\n",
    "X_train_categorical = X_train_categorical.apply(lambda c: c.str.lower())"
   ]
  },
  {
   "attachments": {},
   "cell_type": "markdown",
   "id": "a95ca075",
   "metadata": {
    "papermill": {
     "duration": 0.018578,
     "end_time": "2023-06-17T17:33:57.136958",
     "exception": false,
     "start_time": "2023-06-17T17:33:57.118380",
     "status": "completed"
    },
    "tags": []
   },
   "source": [
    "Deal with duplicates in the `CLNT_TRUST_RELATION` column by translating Russian terms to their equivalent in English."
   ]
  },
  {
   "cell_type": "code",
   "execution_count": 5,
   "id": "a9d310b1",
   "metadata": {
    "execution": {
     "iopub.execute_input": "2023-06-17T17:33:57.176029Z",
     "iopub.status.busy": "2023-06-17T17:33:57.175705Z",
     "iopub.status.idle": "2023-06-17T17:33:57.834923Z",
     "shell.execute_reply": "2023-06-17T17:33:57.833800Z"
    },
    "papermill": {
     "duration": 0.682681,
     "end_time": "2023-06-17T17:33:57.838604",
     "exception": false,
     "start_time": "2023-06-17T17:33:57.155923",
     "status": "completed"
    },
    "tags": []
   },
   "outputs": [
    {
     "data": {
      "text/html": [
       "<div>\n",
       "<style scoped>\n",
       "    .dataframe tbody tr th:only-of-type {\n",
       "        vertical-align: middle;\n",
       "    }\n",
       "\n",
       "    .dataframe tbody tr th {\n",
       "        vertical-align: top;\n",
       "    }\n",
       "\n",
       "    .dataframe thead th {\n",
       "        text-align: right;\n",
       "    }\n",
       "</style>\n",
       "<table border=\"1\" class=\"dataframe\">\n",
       "  <thead>\n",
       "    <tr style=\"text-align: right;\">\n",
       "      <th></th>\n",
       "      <th>CLNT_TRUST_RELATION</th>\n",
       "      <th>APP_MARITAL_STATUS</th>\n",
       "      <th>APP_KIND_OF_PROP_HABITATION</th>\n",
       "      <th>CLNT_JOB_POSITION_TYPE</th>\n",
       "      <th>CLNT_JOB_POSITION</th>\n",
       "      <th>APP_DRIVING_LICENSE</th>\n",
       "      <th>APP_EDUCATION</th>\n",
       "      <th>APP_TRAVEL_PASS</th>\n",
       "      <th>APP_CAR</th>\n",
       "      <th>APP_POSITION_TYPE</th>\n",
       "      <th>APP_EMP_TYPE</th>\n",
       "      <th>APP_COMP_TYPE</th>\n",
       "      <th>PACK</th>\n",
       "    </tr>\n",
       "  </thead>\n",
       "  <tbody>\n",
       "    <tr>\n",
       "      <th>count</th>\n",
       "      <td>69421</td>\n",
       "      <td>68234</td>\n",
       "      <td>59361</td>\n",
       "      <td>44781</td>\n",
       "      <td>210811</td>\n",
       "      <td>57257</td>\n",
       "      <td>68104</td>\n",
       "      <td>57257</td>\n",
       "      <td>57256</td>\n",
       "      <td>60545</td>\n",
       "      <td>67362</td>\n",
       "      <td>67362</td>\n",
       "      <td>355190</td>\n",
       "    </tr>\n",
       "    <tr>\n",
       "      <th>unique</th>\n",
       "      <td>13</td>\n",
       "      <td>8</td>\n",
       "      <td>5</td>\n",
       "      <td>4</td>\n",
       "      <td>15111</td>\n",
       "      <td>2</td>\n",
       "      <td>12</td>\n",
       "      <td>2</td>\n",
       "      <td>2</td>\n",
       "      <td>4</td>\n",
       "      <td>4</td>\n",
       "      <td>4</td>\n",
       "      <td>12</td>\n",
       "    </tr>\n",
       "    <tr>\n",
       "      <th>top</th>\n",
       "      <td>friend</td>\n",
       "      <td>m</td>\n",
       "      <td>so</td>\n",
       "      <td>specialist</td>\n",
       "      <td>директор</td>\n",
       "      <td>n</td>\n",
       "      <td>h</td>\n",
       "      <td>n</td>\n",
       "      <td>n</td>\n",
       "      <td>specialist</td>\n",
       "      <td>private</td>\n",
       "      <td>private</td>\n",
       "      <td>102</td>\n",
       "    </tr>\n",
       "    <tr>\n",
       "      <th>freq</th>\n",
       "      <td>24896</td>\n",
       "      <td>32185</td>\n",
       "      <td>28056</td>\n",
       "      <td>25123</td>\n",
       "      <td>24974</td>\n",
       "      <td>36332</td>\n",
       "      <td>44370</td>\n",
       "      <td>52750</td>\n",
       "      <td>32843</td>\n",
       "      <td>36622</td>\n",
       "      <td>59087</td>\n",
       "      <td>59087</td>\n",
       "      <td>116986</td>\n",
       "    </tr>\n",
       "  </tbody>\n",
       "</table>\n",
       "</div>"
      ],
      "text/plain": [
       "       CLNT_TRUST_RELATION APP_MARITAL_STATUS APP_KIND_OF_PROP_HABITATION  \\\n",
       "count                69421              68234                       59361   \n",
       "unique                  13                  8                           5   \n",
       "top                 friend                  m                          so   \n",
       "freq                 24896              32185                       28056   \n",
       "\n",
       "       CLNT_JOB_POSITION_TYPE CLNT_JOB_POSITION APP_DRIVING_LICENSE  \\\n",
       "count                   44781            210811               57257   \n",
       "unique                      4             15111                   2   \n",
       "top                specialist          директор                   n   \n",
       "freq                    25123             24974               36332   \n",
       "\n",
       "       APP_EDUCATION APP_TRAVEL_PASS APP_CAR APP_POSITION_TYPE APP_EMP_TYPE  \\\n",
       "count          68104           57257   57256             60545        67362   \n",
       "unique            12               2       2                 4            4   \n",
       "top                h               n       n        specialist      private   \n",
       "freq           44370           52750   32843             36622        59087   \n",
       "\n",
       "       APP_COMP_TYPE    PACK  \n",
       "count          67362  355190  \n",
       "unique             4      12  \n",
       "top          private     102  \n",
       "freq           59087  116986  "
      ]
     },
     "execution_count": 5,
     "metadata": {},
     "output_type": "execute_result"
    }
   ],
   "source": [
    "ru_to_en = {'друг': 'other', 'мать': 'mother', 'брат': 'brother', 'отец': 'father', 'сестра': 'sister', 'дочь': 'daughter', 'сын': 'son', 'мама': 'mother'}\n",
    "X_train_categorical['CLNT_TRUST_RELATION'].replace(ru_to_en, inplace=True)\n",
    "X_train_categorical.describe()"
   ]
  },
  {
   "attachments": {},
   "cell_type": "markdown",
   "id": "e1b3913e",
   "metadata": {
    "papermill": {
     "duration": 0.018732,
     "end_time": "2023-06-17T17:33:57.877194",
     "exception": false,
     "start_time": "2023-06-17T17:33:57.858462",
     "status": "completed"
    },
    "tags": []
   },
   "source": [
    "Split the training set into a train dataset (80%) and a dev set (20%) with stratification."
   ]
  },
  {
   "cell_type": "code",
   "execution_count": 6,
   "id": "b52a4403",
   "metadata": {
    "execution": {
     "iopub.execute_input": "2023-06-17T17:33:57.917010Z",
     "iopub.status.busy": "2023-06-17T17:33:57.916281Z",
     "iopub.status.idle": "2023-06-17T17:33:57.926805Z",
     "shell.execute_reply": "2023-06-17T17:33:57.925847Z"
    },
    "papermill": {
     "duration": 0.032502,
     "end_time": "2023-06-17T17:33:57.928753",
     "exception": false,
     "start_time": "2023-06-17T17:33:57.896251",
     "status": "completed"
    },
    "tags": []
   },
   "outputs": [
    {
     "data": {
      "text/plain": [
       "0    0.918565\n",
       "1    0.081435\n",
       "Name: TARGET, dtype: float64"
      ]
     },
     "execution_count": 6,
     "metadata": {},
     "output_type": "execute_result"
    }
   ],
   "source": [
    "Y_train.value_counts() / len(Y_train)"
   ]
  },
  {
   "cell_type": "code",
   "execution_count": 7,
   "id": "c2535655",
   "metadata": {
    "execution": {
     "iopub.execute_input": "2023-06-17T17:33:57.968189Z",
     "iopub.status.busy": "2023-06-17T17:33:57.967462Z",
     "iopub.status.idle": "2023-06-17T17:33:58.741048Z",
     "shell.execute_reply": "2023-06-17T17:33:58.740092Z"
    },
    "papermill": {
     "duration": 0.795683,
     "end_time": "2023-06-17T17:33:58.743471",
     "exception": false,
     "start_time": "2023-06-17T17:33:57.947788",
     "status": "completed"
    },
    "tags": []
   },
   "outputs": [],
   "source": [
    "X_train, X_dev, X_train_categorical, X_dev_categorical, Y_train, Y_dev = train_test_split(X_train, X_train_categorical, Y_train, test_size=0.2, stratify=Y_train, random_state=1337)"
   ]
  },
  {
   "attachments": {},
   "cell_type": "markdown",
   "id": "37e2cb76",
   "metadata": {
    "papermill": {
     "duration": 0.018705,
     "end_time": "2023-06-17T17:33:58.781457",
     "exception": false,
     "start_time": "2023-06-17T17:33:58.762752",
     "status": "completed"
    },
    "tags": []
   },
   "source": [
    "Fill NA values."
   ]
  },
  {
   "cell_type": "code",
   "execution_count": 8,
   "id": "216cc678",
   "metadata": {
    "execution": {
     "iopub.execute_input": "2023-06-17T17:33:58.820690Z",
     "iopub.status.busy": "2023-06-17T17:33:58.820360Z",
     "iopub.status.idle": "2023-06-17T17:33:59.493825Z",
     "shell.execute_reply": "2023-06-17T17:33:59.492876Z"
    },
    "papermill": {
     "duration": 0.695744,
     "end_time": "2023-06-17T17:33:59.496149",
     "exception": false,
     "start_time": "2023-06-17T17:33:58.800405",
     "status": "completed"
    },
    "tags": []
   },
   "outputs": [],
   "source": [
    "medians = X_train.median(numeric_only=True)\n",
    "X_train.fillna(medians, inplace=True)\n",
    "X_dev.fillna(medians, inplace=True)"
   ]
  },
  {
   "attachments": {},
   "cell_type": "markdown",
   "id": "a8f2aac6",
   "metadata": {
    "papermill": {
     "duration": 0.018765,
     "end_time": "2023-06-17T17:33:59.534746",
     "exception": false,
     "start_time": "2023-06-17T17:33:59.515981",
     "status": "completed"
    },
    "tags": []
   },
   "source": [
    "# 3 - Baseline - naive classifier"
   ]
  },
  {
   "cell_type": "code",
   "execution_count": 9,
   "id": "ce53d6cf",
   "metadata": {
    "execution": {
     "iopub.execute_input": "2023-06-17T17:33:59.573975Z",
     "iopub.status.busy": "2023-06-17T17:33:59.573657Z",
     "iopub.status.idle": "2023-06-17T17:33:59.578062Z",
     "shell.execute_reply": "2023-06-17T17:33:59.577106Z"
    },
    "papermill": {
     "duration": 0.026446,
     "end_time": "2023-06-17T17:33:59.580016",
     "exception": false,
     "start_time": "2023-06-17T17:33:59.553570",
     "status": "completed"
    },
    "tags": []
   },
   "outputs": [],
   "source": [
    "from sklearn.metrics import roc_auc_score"
   ]
  },
  {
   "cell_type": "code",
   "execution_count": 10,
   "id": "38268a01",
   "metadata": {
    "execution": {
     "iopub.execute_input": "2023-06-17T17:33:59.619562Z",
     "iopub.status.busy": "2023-06-17T17:33:59.618835Z",
     "iopub.status.idle": "2023-06-17T17:33:59.624969Z",
     "shell.execute_reply": "2023-06-17T17:33:59.624173Z"
    },
    "papermill": {
     "duration": 0.028017,
     "end_time": "2023-06-17T17:33:59.626909",
     "exception": false,
     "start_time": "2023-06-17T17:33:59.598892",
     "status": "completed"
    },
    "tags": []
   },
   "outputs": [],
   "source": [
    "class Baseline:\n",
    "    def __init__(self):\n",
    "        self.prediction = 0\n",
    "\n",
    "    def fit(self, X, y):\n",
    "        classes = set(y)\n",
    "        frequencies = {cls: (Y_train == cls).sum() for cls in classes}\n",
    "        self.prediction = max(frequencies, key=frequencies.get)\n",
    "\n",
    "    def predict(self, X):\n",
    "        return np.full(X.shape[0], self.prediction)"
   ]
  },
  {
   "cell_type": "code",
   "execution_count": 11,
   "id": "a9e59c78",
   "metadata": {
    "execution": {
     "iopub.execute_input": "2023-06-17T17:33:59.665998Z",
     "iopub.status.busy": "2023-06-17T17:33:59.665743Z",
     "iopub.status.idle": "2023-06-17T17:33:59.704989Z",
     "shell.execute_reply": "2023-06-17T17:33:59.704204Z"
    },
    "papermill": {
     "duration": 0.061119,
     "end_time": "2023-06-17T17:33:59.706858",
     "exception": false,
     "start_time": "2023-06-17T17:33:59.645739",
     "status": "completed"
    },
    "tags": []
   },
   "outputs": [],
   "source": [
    "bsl = Baseline()\n",
    "bsl.fit(X_train, Y_train)\n",
    "dev_predictions = bsl.predict(X_dev)"
   ]
  },
  {
   "cell_type": "code",
   "execution_count": 12,
   "id": "a7c92df0",
   "metadata": {
    "execution": {
     "iopub.execute_input": "2023-06-17T17:33:59.745709Z",
     "iopub.status.busy": "2023-06-17T17:33:59.745444Z",
     "iopub.status.idle": "2023-06-17T17:33:59.763728Z",
     "shell.execute_reply": "2023-06-17T17:33:59.762839Z"
    },
    "papermill": {
     "duration": 0.039895,
     "end_time": "2023-06-17T17:33:59.765787",
     "exception": false,
     "start_time": "2023-06-17T17:33:59.725892",
     "status": "completed"
    },
    "tags": []
   },
   "outputs": [
    {
     "data": {
      "text/plain": [
       "0.5"
      ]
     },
     "execution_count": 12,
     "metadata": {},
     "output_type": "execute_result"
    }
   ],
   "source": [
    "roc_auc_score(Y_dev, dev_predictions)"
   ]
  },
  {
   "attachments": {},
   "cell_type": "markdown",
   "id": "1442c230",
   "metadata": {
    "papermill": {
     "duration": 0.0187,
     "end_time": "2023-06-17T17:33:59.803691",
     "exception": false,
     "start_time": "2023-06-17T17:33:59.784991",
     "status": "completed"
    },
    "tags": []
   },
   "source": [
    "# 4 - Baseline - random forest"
   ]
  },
  {
   "attachments": {},
   "cell_type": "markdown",
   "id": "03e2d1bb",
   "metadata": {
    "papermill": {
     "duration": 0.018823,
     "end_time": "2023-06-17T17:33:59.841775",
     "exception": false,
     "start_time": "2023-06-17T17:33:59.822952",
     "status": "completed"
    },
    "tags": []
   },
   "source": [
    "Label-encode categorical features."
   ]
  },
  {
   "cell_type": "code",
   "execution_count": 13,
   "id": "ca3fd26c",
   "metadata": {
    "execution": {
     "iopub.execute_input": "2023-06-17T17:33:59.880790Z",
     "iopub.status.busy": "2023-06-17T17:33:59.880521Z",
     "iopub.status.idle": "2023-06-17T17:33:59.937165Z",
     "shell.execute_reply": "2023-06-17T17:33:59.936285Z"
    },
    "papermill": {
     "duration": 0.078291,
     "end_time": "2023-06-17T17:33:59.939081",
     "exception": false,
     "start_time": "2023-06-17T17:33:59.860790",
     "status": "completed"
    },
    "tags": []
   },
   "outputs": [],
   "source": [
    "cjp_categories = X_train_categorical['CLNT_JOB_POSITION'].value_counts().iloc[:15].index"
   ]
  },
  {
   "cell_type": "code",
   "execution_count": 14,
   "id": "172bd690",
   "metadata": {
    "execution": {
     "iopub.execute_input": "2023-06-17T17:33:59.979356Z",
     "iopub.status.busy": "2023-06-17T17:33:59.978518Z",
     "iopub.status.idle": "2023-06-17T17:34:00.498996Z",
     "shell.execute_reply": "2023-06-17T17:34:00.498030Z"
    },
    "papermill": {
     "duration": 0.543303,
     "end_time": "2023-06-17T17:34:00.501775",
     "exception": false,
     "start_time": "2023-06-17T17:33:59.958472",
     "status": "completed"
    },
    "tags": []
   },
   "outputs": [],
   "source": [
    "X_train_categorical_encoded = X_train_categorical.astype(pd.CategoricalDtype())\n",
    "X_dev_categorical_encoded = pd.DataFrame()"
   ]
  },
  {
   "cell_type": "code",
   "execution_count": 15,
   "id": "64ac0a45",
   "metadata": {
    "execution": {
     "iopub.execute_input": "2023-06-17T17:34:00.543031Z",
     "iopub.status.busy": "2023-06-17T17:34:00.542722Z",
     "iopub.status.idle": "2023-06-17T17:34:00.592580Z",
     "shell.execute_reply": "2023-06-17T17:34:00.591814Z"
    },
    "papermill": {
     "duration": 0.072721,
     "end_time": "2023-06-17T17:34:00.594685",
     "exception": false,
     "start_time": "2023-06-17T17:34:00.521964",
     "status": "completed"
    },
    "tags": []
   },
   "outputs": [],
   "source": [
    "X_train_categorical_encoded['CLNT_JOB_POSITION'] = X_train_categorical['CLNT_JOB_POSITION'].astype(pd.CategoricalDtype(cjp_categories))"
   ]
  },
  {
   "cell_type": "code",
   "execution_count": 16,
   "id": "5f215861",
   "metadata": {
    "execution": {
     "iopub.execute_input": "2023-06-17T17:34:00.634842Z",
     "iopub.status.busy": "2023-06-17T17:34:00.634062Z",
     "iopub.status.idle": "2023-06-17T17:34:00.788911Z",
     "shell.execute_reply": "2023-06-17T17:34:00.788020Z"
    },
    "papermill": {
     "duration": 0.177006,
     "end_time": "2023-06-17T17:34:00.791244",
     "exception": false,
     "start_time": "2023-06-17T17:34:00.614238",
     "status": "completed"
    },
    "tags": []
   },
   "outputs": [],
   "source": [
    "categories = {}\n",
    "for col in categorical_cols:\n",
    "    cat = X_train_categorical_encoded[col].cat.categories\n",
    "    categories[col] = cat\n",
    "    X_dev_categorical_encoded[col] = X_dev_categorical[col].astype(pd.CategoricalDtype(categories=cat))\n",
    "    X_train_categorical_encoded[col] = X_train_categorical_encoded[col].cat.codes\n",
    "    X_dev_categorical_encoded[col] = X_dev_categorical_encoded[col].cat.codes"
   ]
  },
  {
   "cell_type": "code",
   "execution_count": 17,
   "id": "1439b65f",
   "metadata": {
    "execution": {
     "iopub.execute_input": "2023-06-17T17:34:00.831688Z",
     "iopub.status.busy": "2023-06-17T17:34:00.830900Z",
     "iopub.status.idle": "2023-06-17T17:34:00.920340Z",
     "shell.execute_reply": "2023-06-17T17:34:00.919105Z"
    },
    "papermill": {
     "duration": 0.112109,
     "end_time": "2023-06-17T17:34:00.922908",
     "exception": false,
     "start_time": "2023-06-17T17:34:00.810799",
     "status": "completed"
    },
    "tags": []
   },
   "outputs": [],
   "source": [
    "del(X_train_categorical)\n",
    "del(X_dev_categorical)"
   ]
  },
  {
   "cell_type": "code",
   "execution_count": 18,
   "id": "e169ba08",
   "metadata": {
    "execution": {
     "iopub.execute_input": "2023-06-17T17:34:00.963232Z",
     "iopub.status.busy": "2023-06-17T17:34:00.962400Z",
     "iopub.status.idle": "2023-06-17T17:34:01.036521Z",
     "shell.execute_reply": "2023-06-17T17:34:01.035586Z"
    },
    "papermill": {
     "duration": 0.096685,
     "end_time": "2023-06-17T17:34:01.039048",
     "exception": false,
     "start_time": "2023-06-17T17:34:00.942363",
     "status": "completed"
    },
    "tags": []
   },
   "outputs": [],
   "source": [
    "X_train = pd.concat([X_train, X_train_categorical_encoded], axis=1)\n",
    "X_dev = pd.concat([X_dev, X_dev_categorical_encoded], axis=1)"
   ]
  },
  {
   "cell_type": "code",
   "execution_count": 19,
   "id": "063b598f",
   "metadata": {
    "execution": {
     "iopub.execute_input": "2023-06-17T17:34:01.079133Z",
     "iopub.status.busy": "2023-06-17T17:34:01.078324Z",
     "iopub.status.idle": "2023-06-17T17:34:01.082965Z",
     "shell.execute_reply": "2023-06-17T17:34:01.082149Z"
    },
    "papermill": {
     "duration": 0.026472,
     "end_time": "2023-06-17T17:34:01.084911",
     "exception": false,
     "start_time": "2023-06-17T17:34:01.058439",
     "status": "completed"
    },
    "tags": []
   },
   "outputs": [],
   "source": [
    "del(X_train_categorical_encoded)\n",
    "del(X_dev_categorical_encoded)"
   ]
  },
  {
   "attachments": {},
   "cell_type": "markdown",
   "id": "f9098fb4",
   "metadata": {
    "papermill": {
     "duration": 0.019155,
     "end_time": "2023-06-17T17:34:01.123235",
     "exception": false,
     "start_time": "2023-06-17T17:34:01.104080",
     "status": "completed"
    },
    "tags": []
   },
   "source": [
    "Standardize numerical columns."
   ]
  },
  {
   "cell_type": "code",
   "execution_count": 20,
   "id": "2bba6c42",
   "metadata": {
    "execution": {
     "iopub.execute_input": "2023-06-17T17:34:01.163978Z",
     "iopub.status.busy": "2023-06-17T17:34:01.163711Z",
     "iopub.status.idle": "2023-06-17T17:34:01.852446Z",
     "shell.execute_reply": "2023-06-17T17:34:01.851418Z"
    },
    "papermill": {
     "duration": 0.710996,
     "end_time": "2023-06-17T17:34:01.855046",
     "exception": false,
     "start_time": "2023-06-17T17:34:01.144050",
     "status": "completed"
    },
    "tags": []
   },
   "outputs": [],
   "source": [
    "from sklearn.preprocessing import StandardScaler\n",
    "\n",
    "scaler = StandardScaler()\n",
    "X_train = scaler.fit_transform(X_train)\n",
    "X_dev = scaler.transform(X_dev)"
   ]
  },
  {
   "cell_type": "code",
   "execution_count": 21,
   "id": "68f470ca",
   "metadata": {
    "execution": {
     "iopub.execute_input": "2023-06-17T17:34:01.895852Z",
     "iopub.status.busy": "2023-06-17T17:34:01.895526Z",
     "iopub.status.idle": "2023-06-17T17:34:02.180872Z",
     "shell.execute_reply": "2023-06-17T17:34:02.179957Z"
    },
    "papermill": {
     "duration": 0.307715,
     "end_time": "2023-06-17T17:34:02.183021",
     "exception": false,
     "start_time": "2023-06-17T17:34:01.875306",
     "status": "completed"
    },
    "tags": []
   },
   "outputs": [],
   "source": [
    "from sklearn.ensemble import RandomForestClassifier\n",
    "from sklearn.model_selection import GridSearchCV"
   ]
  },
  {
   "cell_type": "code",
   "execution_count": 22,
   "id": "2b4977c1",
   "metadata": {
    "execution": {
     "iopub.execute_input": "2023-06-17T17:34:02.223318Z",
     "iopub.status.busy": "2023-06-17T17:34:02.222469Z",
     "iopub.status.idle": "2023-06-17T18:03:41.789414Z",
     "shell.execute_reply": "2023-06-17T18:03:41.788251Z"
    },
    "papermill": {
     "duration": 1779.608577,
     "end_time": "2023-06-17T18:03:41.811101",
     "exception": false,
     "start_time": "2023-06-17T17:34:02.202524",
     "status": "completed"
    },
    "tags": []
   },
   "outputs": [
    {
     "name": "stdout",
     "output_type": "stream",
     "text": [
      "Fitting 3 folds for each of 18 candidates, totalling 54 fits\n",
      "{'max_depth': 16, 'max_features': 'sqrt', 'n_estimators': 128}\n"
     ]
    }
   ],
   "source": [
    "parameter_grid = {'n_estimators': [32, 64, 128],\n",
    "                  'max_features': ['sqrt', 'log2'],\n",
    "                  'max_depth': [8, 16, 32]}\n",
    "\n",
    "rfc = RandomForestClassifier(random_state=1337, n_jobs=-1)\n",
    "grid_search = GridSearchCV(estimator=rfc, param_grid=parameter_grid, scoring='roc_auc', n_jobs=-1, cv=3, verbose=3)\n",
    "grid_search.fit(X_train, Y_train)\n",
    "print(grid_search.best_params_)\n",
    "best_rfc = grid_search.best_estimator_"
   ]
  },
  {
   "cell_type": "code",
   "execution_count": 23,
   "id": "1a44b6dc",
   "metadata": {
    "execution": {
     "iopub.execute_input": "2023-06-17T18:03:41.852317Z",
     "iopub.status.busy": "2023-06-17T18:03:41.851981Z",
     "iopub.status.idle": "2023-06-17T18:03:41.856573Z",
     "shell.execute_reply": "2023-06-17T18:03:41.855574Z"
    },
    "papermill": {
     "duration": 0.027996,
     "end_time": "2023-06-17T18:03:41.858864",
     "exception": false,
     "start_time": "2023-06-17T18:03:41.830868",
     "status": "completed"
    },
    "tags": []
   },
   "outputs": [],
   "source": [
    "#best_rfc = RandomForestClassifier(random_state=1337, max_depth=16, max_features='sqrt', n_estimators=128, n_jobs=-1)\n",
    "#best_rfc.fit(X_train, Y_train)"
   ]
  },
  {
   "cell_type": "code",
   "execution_count": 24,
   "id": "fa8282ec",
   "metadata": {
    "execution": {
     "iopub.execute_input": "2023-06-17T18:03:41.899099Z",
     "iopub.status.busy": "2023-06-17T18:03:41.898451Z",
     "iopub.status.idle": "2023-06-17T18:03:43.171423Z",
     "shell.execute_reply": "2023-06-17T18:03:43.170455Z"
    },
    "papermill": {
     "duration": 1.29546,
     "end_time": "2023-06-17T18:03:43.173842",
     "exception": false,
     "start_time": "2023-06-17T18:03:41.878382",
     "status": "completed"
    },
    "tags": []
   },
   "outputs": [],
   "source": [
    "dev_predictions = best_rfc.predict_proba(X_dev)\n",
    "dev_predictions = dev_predictions[:, 1]"
   ]
  },
  {
   "cell_type": "code",
   "execution_count": 25,
   "id": "7bac6c31",
   "metadata": {
    "execution": {
     "iopub.execute_input": "2023-06-17T18:03:43.214443Z",
     "iopub.status.busy": "2023-06-17T18:03:43.214137Z",
     "iopub.status.idle": "2023-06-17T18:03:43.240232Z",
     "shell.execute_reply": "2023-06-17T18:03:43.239324Z"
    },
    "papermill": {
     "duration": 0.048503,
     "end_time": "2023-06-17T18:03:43.242236",
     "exception": false,
     "start_time": "2023-06-17T18:03:43.193733",
     "status": "completed"
    },
    "tags": []
   },
   "outputs": [
    {
     "data": {
      "text/plain": [
       "0.8323238061715796"
      ]
     },
     "execution_count": 25,
     "metadata": {},
     "output_type": "execute_result"
    }
   ],
   "source": [
    "roc_auc_score(Y_dev, dev_predictions)"
   ]
  },
  {
   "attachments": {},
   "cell_type": "markdown",
   "id": "0a3130be",
   "metadata": {
    "papermill": {
     "duration": 0.019648,
     "end_time": "2023-06-17T18:03:43.281650",
     "exception": false,
     "start_time": "2023-06-17T18:03:43.262002",
     "status": "completed"
    },
    "tags": []
   },
   "source": [
    "# 5 - MLPClassifier"
   ]
  },
  {
   "cell_type": "code",
   "execution_count": 26,
   "id": "3380d889",
   "metadata": {
    "execution": {
     "iopub.execute_input": "2023-06-17T18:03:43.322496Z",
     "iopub.status.busy": "2023-06-17T18:03:43.321683Z",
     "iopub.status.idle": "2023-06-17T18:03:43.342397Z",
     "shell.execute_reply": "2023-06-17T18:03:43.341582Z"
    },
    "papermill": {
     "duration": 0.043341,
     "end_time": "2023-06-17T18:03:43.344410",
     "exception": false,
     "start_time": "2023-06-17T18:03:43.301069",
     "status": "completed"
    },
    "tags": []
   },
   "outputs": [],
   "source": [
    "from sklearn.neural_network import MLPClassifier"
   ]
  },
  {
   "cell_type": "code",
   "execution_count": 27,
   "id": "d7757ec2",
   "metadata": {
    "execution": {
     "iopub.execute_input": "2023-06-17T18:03:43.384993Z",
     "iopub.status.busy": "2023-06-17T18:03:43.384227Z",
     "iopub.status.idle": "2023-06-17T18:04:20.320533Z",
     "shell.execute_reply": "2023-06-17T18:04:20.319506Z"
    },
    "papermill": {
     "duration": 36.961595,
     "end_time": "2023-06-17T18:04:20.325594",
     "exception": false,
     "start_time": "2023-06-17T18:03:43.363999",
     "status": "completed"
    },
    "tags": []
   },
   "outputs": [
    {
     "name": "stdout",
     "output_type": "stream",
     "text": [
      "Iteration 1, loss = 0.28523228\n",
      "Iteration 2, loss = 0.25016409\n",
      "Iteration 3, loss = 0.24526579\n",
      "Iteration 4, loss = 0.24166717\n",
      "Iteration 5, loss = 0.23902816\n",
      "Iteration 6, loss = 0.23692680\n",
      "Iteration 7, loss = 0.23458404\n",
      "Iteration 8, loss = 0.23331242\n",
      "Iteration 9, loss = 0.23204344\n",
      "Iteration 10, loss = 0.23110212\n",
      "Iteration 11, loss = 0.23011958\n",
      "Iteration 12, loss = 0.22950392\n",
      "Iteration 13, loss = 0.22876191\n",
      "Iteration 14, loss = 0.22804118\n",
      "Iteration 15, loss = 0.22765978\n"
     ]
    },
    {
     "name": "stderr",
     "output_type": "stream",
     "text": [
      "/opt/conda/lib/python3.10/site-packages/sklearn/neural_network/_multilayer_perceptron.py:686: ConvergenceWarning: Stochastic Optimizer: Maximum iterations (15) reached and the optimization hasn't converged yet.\n",
      "  warnings.warn(\n"
     ]
    },
    {
     "data": {
      "text/html": [
       "<style>#sk-container-id-1 {color: black;background-color: white;}#sk-container-id-1 pre{padding: 0;}#sk-container-id-1 div.sk-toggleable {background-color: white;}#sk-container-id-1 label.sk-toggleable__label {cursor: pointer;display: block;width: 100%;margin-bottom: 0;padding: 0.3em;box-sizing: border-box;text-align: center;}#sk-container-id-1 label.sk-toggleable__label-arrow:before {content: \"▸\";float: left;margin-right: 0.25em;color: #696969;}#sk-container-id-1 label.sk-toggleable__label-arrow:hover:before {color: black;}#sk-container-id-1 div.sk-estimator:hover label.sk-toggleable__label-arrow:before {color: black;}#sk-container-id-1 div.sk-toggleable__content {max-height: 0;max-width: 0;overflow: hidden;text-align: left;background-color: #f0f8ff;}#sk-container-id-1 div.sk-toggleable__content pre {margin: 0.2em;color: black;border-radius: 0.25em;background-color: #f0f8ff;}#sk-container-id-1 input.sk-toggleable__control:checked~div.sk-toggleable__content {max-height: 200px;max-width: 100%;overflow: auto;}#sk-container-id-1 input.sk-toggleable__control:checked~label.sk-toggleable__label-arrow:before {content: \"▾\";}#sk-container-id-1 div.sk-estimator input.sk-toggleable__control:checked~label.sk-toggleable__label {background-color: #d4ebff;}#sk-container-id-1 div.sk-label input.sk-toggleable__control:checked~label.sk-toggleable__label {background-color: #d4ebff;}#sk-container-id-1 input.sk-hidden--visually {border: 0;clip: rect(1px 1px 1px 1px);clip: rect(1px, 1px, 1px, 1px);height: 1px;margin: -1px;overflow: hidden;padding: 0;position: absolute;width: 1px;}#sk-container-id-1 div.sk-estimator {font-family: monospace;background-color: #f0f8ff;border: 1px dotted black;border-radius: 0.25em;box-sizing: border-box;margin-bottom: 0.5em;}#sk-container-id-1 div.sk-estimator:hover {background-color: #d4ebff;}#sk-container-id-1 div.sk-parallel-item::after {content: \"\";width: 100%;border-bottom: 1px solid gray;flex-grow: 1;}#sk-container-id-1 div.sk-label:hover label.sk-toggleable__label {background-color: #d4ebff;}#sk-container-id-1 div.sk-serial::before {content: \"\";position: absolute;border-left: 1px solid gray;box-sizing: border-box;top: 0;bottom: 0;left: 50%;z-index: 0;}#sk-container-id-1 div.sk-serial {display: flex;flex-direction: column;align-items: center;background-color: white;padding-right: 0.2em;padding-left: 0.2em;position: relative;}#sk-container-id-1 div.sk-item {position: relative;z-index: 1;}#sk-container-id-1 div.sk-parallel {display: flex;align-items: stretch;justify-content: center;background-color: white;position: relative;}#sk-container-id-1 div.sk-item::before, #sk-container-id-1 div.sk-parallel-item::before {content: \"\";position: absolute;border-left: 1px solid gray;box-sizing: border-box;top: 0;bottom: 0;left: 50%;z-index: -1;}#sk-container-id-1 div.sk-parallel-item {display: flex;flex-direction: column;z-index: 1;position: relative;background-color: white;}#sk-container-id-1 div.sk-parallel-item:first-child::after {align-self: flex-end;width: 50%;}#sk-container-id-1 div.sk-parallel-item:last-child::after {align-self: flex-start;width: 50%;}#sk-container-id-1 div.sk-parallel-item:only-child::after {width: 0;}#sk-container-id-1 div.sk-dashed-wrapped {border: 1px dashed gray;margin: 0 0.4em 0.5em 0.4em;box-sizing: border-box;padding-bottom: 0.4em;background-color: white;}#sk-container-id-1 div.sk-label label {font-family: monospace;font-weight: bold;display: inline-block;line-height: 1.2em;}#sk-container-id-1 div.sk-label-container {text-align: center;}#sk-container-id-1 div.sk-container {/* jupyter's `normalize.less` sets `[hidden] { display: none; }` but bootstrap.min.css set `[hidden] { display: none !important; }` so we also need the `!important` here to be able to override the default hidden behavior on the sphinx rendered scikit-learn.org. See: https://github.com/scikit-learn/scikit-learn/issues/21755 */display: inline-block !important;position: relative;}#sk-container-id-1 div.sk-text-repr-fallback {display: none;}</style><div id=\"sk-container-id-1\" class=\"sk-top-container\"><div class=\"sk-text-repr-fallback\"><pre>MLPClassifier(hidden_layer_sizes=(50,), max_iter=15, random_state=1337,\n",
       "              verbose=True)</pre><b>In a Jupyter environment, please rerun this cell to show the HTML representation or trust the notebook. <br />On GitHub, the HTML representation is unable to render, please try loading this page with nbviewer.org.</b></div><div class=\"sk-container\" hidden><div class=\"sk-item\"><div class=\"sk-estimator sk-toggleable\"><input class=\"sk-toggleable__control sk-hidden--visually\" id=\"sk-estimator-id-1\" type=\"checkbox\" checked><label for=\"sk-estimator-id-1\" class=\"sk-toggleable__label sk-toggleable__label-arrow\">MLPClassifier</label><div class=\"sk-toggleable__content\"><pre>MLPClassifier(hidden_layer_sizes=(50,), max_iter=15, random_state=1337,\n",
       "              verbose=True)</pre></div></div></div></div></div>"
      ],
      "text/plain": [
       "MLPClassifier(hidden_layer_sizes=(50,), max_iter=15, random_state=1337,\n",
       "              verbose=True)"
      ]
     },
     "execution_count": 27,
     "metadata": {},
     "output_type": "execute_result"
    }
   ],
   "source": [
    "mlp = MLPClassifier(random_state=1337, verbose=True, hidden_layer_sizes=(50,), max_iter=15)\n",
    "mlp.fit(X_train, Y_train)"
   ]
  },
  {
   "cell_type": "code",
   "execution_count": 28,
   "id": "78ce383f",
   "metadata": {
    "execution": {
     "iopub.execute_input": "2023-06-17T18:04:20.416963Z",
     "iopub.status.busy": "2023-06-17T18:04:20.416360Z",
     "iopub.status.idle": "2023-06-17T18:04:20.498271Z",
     "shell.execute_reply": "2023-06-17T18:04:20.496986Z"
    },
    "papermill": {
     "duration": 0.130585,
     "end_time": "2023-06-17T18:04:20.501737",
     "exception": false,
     "start_time": "2023-06-17T18:04:20.371152",
     "status": "completed"
    },
    "tags": []
   },
   "outputs": [],
   "source": [
    "dev_predictions = mlp.predict_proba(X_dev)\n",
    "dev_predictions = dev_predictions[:, 1]"
   ]
  },
  {
   "cell_type": "code",
   "execution_count": 29,
   "id": "dfbe655d",
   "metadata": {
    "execution": {
     "iopub.execute_input": "2023-06-17T18:04:20.592016Z",
     "iopub.status.busy": "2023-06-17T18:04:20.591385Z",
     "iopub.status.idle": "2023-06-17T18:04:20.632352Z",
     "shell.execute_reply": "2023-06-17T18:04:20.631438Z"
    },
    "papermill": {
     "duration": 0.08836,
     "end_time": "2023-06-17T18:04:20.634403",
     "exception": false,
     "start_time": "2023-06-17T18:04:20.546043",
     "status": "completed"
    },
    "tags": []
   },
   "outputs": [
    {
     "data": {
      "text/plain": [
       "0.8036313957079578"
      ]
     },
     "execution_count": 29,
     "metadata": {},
     "output_type": "execute_result"
    }
   ],
   "source": [
    "roc_auc_score(Y_dev, dev_predictions)"
   ]
  },
  {
   "attachments": {},
   "cell_type": "markdown",
   "id": "ae03bcb5",
   "metadata": {
    "papermill": {
     "duration": 0.02132,
     "end_time": "2023-06-17T18:04:20.677441",
     "exception": false,
     "start_time": "2023-06-17T18:04:20.656121",
     "status": "completed"
    },
    "tags": []
   },
   "source": [
    "# 6 - Keras"
   ]
  },
  {
   "cell_type": "code",
   "execution_count": 30,
   "id": "e0272b58",
   "metadata": {
    "execution": {
     "iopub.execute_input": "2023-06-17T18:04:20.721315Z",
     "iopub.status.busy": "2023-06-17T18:04:20.720972Z",
     "iopub.status.idle": "2023-06-17T18:04:28.351980Z",
     "shell.execute_reply": "2023-06-17T18:04:28.350737Z"
    },
    "papermill": {
     "duration": 7.655716,
     "end_time": "2023-06-17T18:04:28.354290",
     "exception": false,
     "start_time": "2023-06-17T18:04:20.698574",
     "status": "completed"
    },
    "tags": []
   },
   "outputs": [
    {
     "name": "stderr",
     "output_type": "stream",
     "text": [
      "/opt/conda/lib/python3.10/site-packages/tensorflow_io/python/ops/__init__.py:98: UserWarning: unable to load libtensorflow_io_plugins.so: unable to open file: libtensorflow_io_plugins.so, from paths: ['/opt/conda/lib/python3.10/site-packages/tensorflow_io/python/ops/libtensorflow_io_plugins.so']\n",
      "caused by: ['/opt/conda/lib/python3.10/site-packages/tensorflow_io/python/ops/libtensorflow_io_plugins.so: undefined symbol: _ZN3tsl6StatusC1EN10tensorflow5error4CodeESt17basic_string_viewIcSt11char_traitsIcEENS_14SourceLocationE']\n",
      "  warnings.warn(f\"unable to load libtensorflow_io_plugins.so: {e}\")\n",
      "/opt/conda/lib/python3.10/site-packages/tensorflow_io/python/ops/__init__.py:104: UserWarning: file system plugins are not loaded: unable to open file: libtensorflow_io.so, from paths: ['/opt/conda/lib/python3.10/site-packages/tensorflow_io/python/ops/libtensorflow_io.so']\n",
      "caused by: ['/opt/conda/lib/python3.10/site-packages/tensorflow_io/python/ops/libtensorflow_io.so: undefined symbol: _ZTVN10tensorflow13GcsFileSystemE']\n",
      "  warnings.warn(f\"file system plugins are not loaded: {e}\")\n"
     ]
    },
    {
     "name": "stdout",
     "output_type": "stream",
     "text": [
      "Tensorflow version 2.12.0\n"
     ]
    }
   ],
   "source": [
    "import tensorflow as tf\n",
    "from tensorflow import keras\n",
    "from tensorflow.keras import layers\n",
    "from tensorflow.keras.optimizers import Adam\n",
    "import keras_tuner\n",
    "import matplotlib.pyplot as plt\n",
    "print(\"Tensorflow version \" + tf.__version__)\n",
    "keras.utils.set_random_seed(1337)"
   ]
  },
  {
   "attachments": {},
   "cell_type": "markdown",
   "id": "15ece585",
   "metadata": {
    "papermill": {
     "duration": 0.021769,
     "end_time": "2023-06-17T18:04:28.399513",
     "exception": false,
     "start_time": "2023-06-17T18:04:28.377744",
     "status": "completed"
    },
    "tags": []
   },
   "source": [
    "Use accelerators if possible."
   ]
  },
  {
   "cell_type": "code",
   "execution_count": 31,
   "id": "a24aa1fc",
   "metadata": {
    "execution": {
     "iopub.execute_input": "2023-06-17T18:04:28.445531Z",
     "iopub.status.busy": "2023-06-17T18:04:28.444953Z",
     "iopub.status.idle": "2023-06-17T18:04:28.670946Z",
     "shell.execute_reply": "2023-06-17T18:04:28.669972Z"
    },
    "papermill": {
     "duration": 0.251489,
     "end_time": "2023-06-17T18:04:28.673072",
     "exception": false,
     "start_time": "2023-06-17T18:04:28.421583",
     "status": "completed"
    },
    "tags": []
   },
   "outputs": [
    {
     "name": "stdout",
     "output_type": "stream",
     "text": [
      "No TPUs detected.\n",
      "Num GPUs Available:  1\n",
      "Number of accelerators:  1\n"
     ]
    }
   ],
   "source": [
    "# Detect and init the TPU/GPU\n",
    "try: # detect TPUs\n",
    "    tpu = tf.distribute.cluster_resolver.TPUClusterResolver.connect() # TPU detection\n",
    "    strategy = tf.distribute.TPUStrategy(tpu)\n",
    "except ValueError: # detect GPUs\n",
    "    print(\"No TPUs detected.\")\n",
    "    print(\"Num GPUs Available: \", len(tf.config.list_physical_devices('GPU')))\n",
    "    strategy = tf.distribute.get_strategy() # default strategy that works on CPU and single GPU\n",
    "print(\"Number of accelerators: \", strategy.num_replicas_in_sync)"
   ]
  },
  {
   "cell_type": "code",
   "execution_count": 32,
   "id": "e6f7e5e7",
   "metadata": {
    "execution": {
     "iopub.execute_input": "2023-06-17T18:04:28.718259Z",
     "iopub.status.busy": "2023-06-17T18:04:28.717957Z",
     "iopub.status.idle": "2023-06-17T18:04:28.727501Z",
     "shell.execute_reply": "2023-06-17T18:04:28.726604Z"
    },
    "papermill": {
     "duration": 0.034389,
     "end_time": "2023-06-17T18:04:28.729442",
     "exception": false,
     "start_time": "2023-06-17T18:04:28.695053",
     "status": "completed"
    },
    "tags": []
   },
   "outputs": [],
   "source": [
    "INPUT_SHAPE = [X_train.shape[1]]\n",
    "\n",
    "def build_model(hp):\n",
    "    with strategy.scope():\n",
    "        model = keras.Sequential()\n",
    "        model.add(\n",
    "            layers.Dense(\n",
    "                hp.Int(\"units_1\", min_value=50, max_value=1000, step=100),\n",
    "                activation='relu', input_shape=INPUT_SHAPE\n",
    "            )\n",
    "        )\n",
    "        model.add(\n",
    "            layers.Dropout(\n",
    "                hp.Float(f\"dropout_rate_1\", min_value=0, max_value=0.8, step=0.2)\n",
    "            )\n",
    "        )\n",
    "        for i in range(2, hp.Int(\"num_hidden_layers\", 3, 6) + 1):\n",
    "            model.add(\n",
    "                layers.Dense(\n",
    "                    hp.Int(f\"units_{i}\", min_value=50, max_value=1000, step=100),\n",
    "                    activation='relu'\n",
    "                )\n",
    "            )\n",
    "            model.add(\n",
    "                layers.Dropout(\n",
    "                    hp.Float(f\"dropout_rate_{i}\", min_value=0, max_value=0.8, step=0.2)\n",
    "                )\n",
    "            )\n",
    "        model.add(\n",
    "            layers.Dense(\n",
    "                1,\n",
    "                activation='sigmoid'\n",
    "            )\n",
    "        )\n",
    "\n",
    "        learning_rate = hp.Float(\"lr\", min_value=4e-4, max_value=1e-2, sampling=\"log\")\n",
    "        model.compile(\n",
    "            optimizer=Adam(learning_rate=learning_rate),\n",
    "            loss='binary_crossentropy',\n",
    "            metrics=['AUC']\n",
    "        )\n",
    "    return model"
   ]
  },
  {
   "cell_type": "code",
   "execution_count": 33,
   "id": "d6f559f8",
   "metadata": {
    "execution": {
     "iopub.execute_input": "2023-06-17T18:04:28.773987Z",
     "iopub.status.busy": "2023-06-17T18:04:28.773431Z",
     "iopub.status.idle": "2023-06-17T18:04:31.306767Z",
     "shell.execute_reply": "2023-06-17T18:04:31.305824Z"
    },
    "papermill": {
     "duration": 2.558269,
     "end_time": "2023-06-17T18:04:31.309288",
     "exception": false,
     "start_time": "2023-06-17T18:04:28.751019",
     "status": "completed"
    },
    "tags": []
   },
   "outputs": [
    {
     "name": "stdout",
     "output_type": "stream",
     "text": [
      "Search space summary\n",
      "Default search space size: 8\n",
      "units_1 (Int)\n",
      "{'default': None, 'conditions': [], 'min_value': 50, 'max_value': 1000, 'step': 100, 'sampling': 'linear'}\n",
      "dropout_rate_1 (Float)\n",
      "{'default': 0.0, 'conditions': [], 'min_value': 0.0, 'max_value': 0.8, 'step': 0.2, 'sampling': 'linear'}\n",
      "num_hidden_layers (Int)\n",
      "{'default': None, 'conditions': [], 'min_value': 3, 'max_value': 6, 'step': 1, 'sampling': 'linear'}\n",
      "units_2 (Int)\n",
      "{'default': None, 'conditions': [], 'min_value': 50, 'max_value': 1000, 'step': 100, 'sampling': 'linear'}\n",
      "dropout_rate_2 (Float)\n",
      "{'default': 0.0, 'conditions': [], 'min_value': 0.0, 'max_value': 0.8, 'step': 0.2, 'sampling': 'linear'}\n",
      "units_3 (Int)\n",
      "{'default': None, 'conditions': [], 'min_value': 50, 'max_value': 1000, 'step': 100, 'sampling': 'linear'}\n",
      "dropout_rate_3 (Float)\n",
      "{'default': 0.0, 'conditions': [], 'min_value': 0.0, 'max_value': 0.8, 'step': 0.2, 'sampling': 'linear'}\n",
      "lr (Float)\n",
      "{'default': 0.0004, 'conditions': [], 'min_value': 0.0004, 'max_value': 0.01, 'step': None, 'sampling': 'log'}\n"
     ]
    }
   ],
   "source": [
    "tuner = keras_tuner.RandomSearch(\n",
    "    hypermodel=build_model,\n",
    "    objective=keras_tuner.Objective(\"val_auc\", direction=\"max\"),\n",
    "    max_trials=15,\n",
    "    executions_per_trial=1,\n",
    "    overwrite=False,\n",
    "    directory=\"./\",\n",
    "    project_name=\"hyperparameter_tuning\",\n",
    "    seed=1337\n",
    ")\n",
    "tuner.search_space_summary()"
   ]
  },
  {
   "cell_type": "code",
   "execution_count": 34,
   "id": "a78a99eb",
   "metadata": {
    "execution": {
     "iopub.execute_input": "2023-06-17T18:04:31.354595Z",
     "iopub.status.busy": "2023-06-17T18:04:31.354257Z",
     "iopub.status.idle": "2023-06-17T18:04:31.358613Z",
     "shell.execute_reply": "2023-06-17T18:04:31.357604Z"
    },
    "papermill": {
     "duration": 0.028939,
     "end_time": "2023-06-17T18:04:31.360522",
     "exception": false,
     "start_time": "2023-06-17T18:04:31.331583",
     "status": "completed"
    },
    "tags": []
   },
   "outputs": [],
   "source": [
    "BATCH_SIZE = 512"
   ]
  },
  {
   "cell_type": "code",
   "execution_count": 35,
   "id": "36e546ea",
   "metadata": {
    "execution": {
     "iopub.execute_input": "2023-06-17T18:04:31.405681Z",
     "iopub.status.busy": "2023-06-17T18:04:31.404908Z",
     "iopub.status.idle": "2023-06-17T18:31:15.700531Z",
     "shell.execute_reply": "2023-06-17T18:31:15.699105Z"
    },
    "papermill": {
     "duration": 1604.320221,
     "end_time": "2023-06-17T18:31:15.702654",
     "exception": false,
     "start_time": "2023-06-17T18:04:31.382433",
     "status": "completed"
    },
    "tags": []
   },
   "outputs": [
    {
     "name": "stdout",
     "output_type": "stream",
     "text": [
      "Trial 15 Complete [00h 00m 36s]\n",
      "val_auc: 0.5743100047111511\n",
      "\n",
      "Best val_auc So Far: 0.8229050040245056\n",
      "Total elapsed time: 00h 26m 44s\n"
     ]
    }
   ],
   "source": [
    "early_stopping = keras.callbacks.EarlyStopping(monitor='val_auc', patience=10, min_delta=1e-3, restore_best_weights=True)\n",
    "tuner.search(X_train, Y_train, validation_data=(X_dev, Y_dev), epochs=100, batch_size=BATCH_SIZE, callbacks=[early_stopping])"
   ]
  },
  {
   "cell_type": "code",
   "execution_count": 36,
   "id": "344e30c1",
   "metadata": {
    "execution": {
     "iopub.execute_input": "2023-06-17T18:31:15.749141Z",
     "iopub.status.busy": "2023-06-17T18:31:15.748849Z",
     "iopub.status.idle": "2023-06-17T18:31:15.760007Z",
     "shell.execute_reply": "2023-06-17T18:31:15.756390Z"
    },
    "papermill": {
     "duration": 0.036128,
     "end_time": "2023-06-17T18:31:15.762053",
     "exception": false,
     "start_time": "2023-06-17T18:31:15.725925",
     "status": "completed"
    },
    "tags": []
   },
   "outputs": [
    {
     "name": "stdout",
     "output_type": "stream",
     "text": [
      "Results summary\n",
      "Results in /kaggle/working/hyperparameter_tuning\n",
      "Showing 10 best trials\n",
      "Objective(name=\"val_auc\", direction=\"max\")\n",
      "\n",
      "Trial 03 summary\n",
      "Hyperparameters:\n",
      "units_1: 650\n",
      "dropout_rate_1: 0.6000000000000001\n",
      "num_hidden_layers: 3\n",
      "units_2: 50\n",
      "dropout_rate_2: 0.0\n",
      "units_3: 450\n",
      "dropout_rate_3: 0.0\n",
      "lr: 0.000417640981931856\n",
      "units_4: 750\n",
      "dropout_rate_4: 0.6000000000000001\n",
      "units_5: 950\n",
      "dropout_rate_5: 0.6000000000000001\n",
      "units_6: 150\n",
      "dropout_rate_6: 0.8\n",
      "Score: 0.8229050040245056\n",
      "\n",
      "Trial 08 summary\n",
      "Hyperparameters:\n",
      "units_1: 750\n",
      "dropout_rate_1: 0.6000000000000001\n",
      "num_hidden_layers: 3\n",
      "units_2: 650\n",
      "dropout_rate_2: 0.2\n",
      "units_3: 350\n",
      "dropout_rate_3: 0.0\n",
      "lr: 0.0016337630420132116\n",
      "units_4: 50\n",
      "dropout_rate_4: 0.4\n",
      "units_5: 350\n",
      "dropout_rate_5: 0.2\n",
      "units_6: 250\n",
      "dropout_rate_6: 0.6000000000000001\n",
      "Score: 0.8210472464561462\n",
      "\n",
      "Trial 09 summary\n",
      "Hyperparameters:\n",
      "units_1: 550\n",
      "dropout_rate_1: 0.4\n",
      "num_hidden_layers: 4\n",
      "units_2: 150\n",
      "dropout_rate_2: 0.4\n",
      "units_3: 650\n",
      "dropout_rate_3: 0.0\n",
      "lr: 0.0009182999172585798\n",
      "units_4: 650\n",
      "dropout_rate_4: 0.2\n",
      "units_5: 250\n",
      "dropout_rate_5: 0.6000000000000001\n",
      "units_6: 750\n",
      "dropout_rate_6: 0.8\n",
      "Score: 0.820749819278717\n",
      "\n",
      "Trial 13 summary\n",
      "Hyperparameters:\n",
      "units_1: 150\n",
      "dropout_rate_1: 0.4\n",
      "num_hidden_layers: 5\n",
      "units_2: 50\n",
      "dropout_rate_2: 0.8\n",
      "units_3: 250\n",
      "dropout_rate_3: 0.2\n",
      "lr: 0.0007648845012424623\n",
      "units_4: 250\n",
      "dropout_rate_4: 0.4\n",
      "units_5: 50\n",
      "dropout_rate_5: 0.6000000000000001\n",
      "units_6: 150\n",
      "dropout_rate_6: 0.0\n",
      "Score: 0.8204502463340759\n",
      "\n",
      "Trial 01 summary\n",
      "Hyperparameters:\n",
      "units_1: 50\n",
      "dropout_rate_1: 0.2\n",
      "num_hidden_layers: 6\n",
      "units_2: 950\n",
      "dropout_rate_2: 0.0\n",
      "units_3: 450\n",
      "dropout_rate_3: 0.0\n",
      "lr: 0.0010445089896932464\n",
      "units_4: 250\n",
      "dropout_rate_4: 0.4\n",
      "units_5: 650\n",
      "dropout_rate_5: 0.2\n",
      "units_6: 50\n",
      "dropout_rate_6: 0.0\n",
      "Score: 0.8189607858657837\n",
      "\n",
      "Trial 07 summary\n",
      "Hyperparameters:\n",
      "units_1: 750\n",
      "dropout_rate_1: 0.4\n",
      "num_hidden_layers: 3\n",
      "units_2: 850\n",
      "dropout_rate_2: 0.4\n",
      "units_3: 450\n",
      "dropout_rate_3: 0.6000000000000001\n",
      "lr: 0.00040237936320505557\n",
      "units_4: 950\n",
      "dropout_rate_4: 0.6000000000000001\n",
      "units_5: 250\n",
      "dropout_rate_5: 0.8\n",
      "units_6: 550\n",
      "dropout_rate_6: 0.2\n",
      "Score: 0.8180124163627625\n",
      "\n",
      "Trial 12 summary\n",
      "Hyperparameters:\n",
      "units_1: 50\n",
      "dropout_rate_1: 0.0\n",
      "num_hidden_layers: 4\n",
      "units_2: 350\n",
      "dropout_rate_2: 0.6000000000000001\n",
      "units_3: 150\n",
      "dropout_rate_3: 0.4\n",
      "lr: 0.007798785586313501\n",
      "units_4: 150\n",
      "dropout_rate_4: 0.0\n",
      "units_5: 50\n",
      "dropout_rate_5: 0.2\n",
      "units_6: 850\n",
      "dropout_rate_6: 0.2\n",
      "Score: 0.8109119534492493\n",
      "\n",
      "Trial 00 summary\n",
      "Hyperparameters:\n",
      "units_1: 650\n",
      "dropout_rate_1: 0.8\n",
      "num_hidden_layers: 5\n",
      "units_2: 350\n",
      "dropout_rate_2: 0.4\n",
      "units_3: 850\n",
      "dropout_rate_3: 0.2\n",
      "lr: 0.001530390303267994\n",
      "units_4: 50\n",
      "dropout_rate_4: 0.0\n",
      "units_5: 50\n",
      "dropout_rate_5: 0.0\n",
      "Score: 0.8108664155006409\n",
      "\n",
      "Trial 11 summary\n",
      "Hyperparameters:\n",
      "units_1: 650\n",
      "dropout_rate_1: 0.0\n",
      "num_hidden_layers: 4\n",
      "units_2: 850\n",
      "dropout_rate_2: 0.8\n",
      "units_3: 250\n",
      "dropout_rate_3: 0.4\n",
      "lr: 0.002145098452116658\n",
      "units_4: 250\n",
      "dropout_rate_4: 0.8\n",
      "units_5: 850\n",
      "dropout_rate_5: 0.0\n",
      "units_6: 450\n",
      "dropout_rate_6: 0.8\n",
      "Score: 0.8057383894920349\n",
      "\n",
      "Trial 02 summary\n",
      "Hyperparameters:\n",
      "units_1: 950\n",
      "dropout_rate_1: 0.0\n",
      "num_hidden_layers: 6\n",
      "units_2: 850\n",
      "dropout_rate_2: 0.0\n",
      "units_3: 850\n",
      "dropout_rate_3: 0.0\n",
      "lr: 0.0044824526145338705\n",
      "units_4: 950\n",
      "dropout_rate_4: 0.4\n",
      "units_5: 450\n",
      "dropout_rate_5: 0.2\n",
      "units_6: 550\n",
      "dropout_rate_6: 0.6000000000000001\n",
      "Score: 0.7983431220054626\n"
     ]
    }
   ],
   "source": [
    "tuner.results_summary()"
   ]
  },
  {
   "cell_type": "code",
   "execution_count": 37,
   "id": "717a17c4",
   "metadata": {
    "execution": {
     "iopub.execute_input": "2023-06-17T18:31:15.807569Z",
     "iopub.status.busy": "2023-06-17T18:31:15.807280Z",
     "iopub.status.idle": "2023-06-17T18:31:15.813375Z",
     "shell.execute_reply": "2023-06-17T18:31:15.812363Z"
    },
    "papermill": {
     "duration": 0.031914,
     "end_time": "2023-06-17T18:31:15.816299",
     "exception": false,
     "start_time": "2023-06-17T18:31:15.784385",
     "status": "completed"
    },
    "tags": []
   },
   "outputs": [
    {
     "data": {
      "text/plain": [
       "'models = tuner.get_best_models(num_models=1)\\nbest_model = models[0]\\nbest_model.evaluate(X_dev, Y_dev)'"
      ]
     },
     "execution_count": 37,
     "metadata": {},
     "output_type": "execute_result"
    }
   ],
   "source": [
    "'''models = tuner.get_best_models(num_models=1)\n",
    "best_model = models[0]\n",
    "best_model.evaluate(X_dev, Y_dev)'''"
   ]
  },
  {
   "attachments": {},
   "cell_type": "markdown",
   "id": "7468fd35",
   "metadata": {
    "papermill": {
     "duration": 0.021774,
     "end_time": "2023-06-17T18:31:15.860438",
     "exception": false,
     "start_time": "2023-06-17T18:31:15.838664",
     "status": "completed"
    },
    "tags": []
   },
   "source": [
    "Print the values of the best hyperparameters."
   ]
  },
  {
   "cell_type": "code",
   "execution_count": 38,
   "id": "98abbf0c",
   "metadata": {
    "execution": {
     "iopub.execute_input": "2023-06-17T18:31:15.906175Z",
     "iopub.status.busy": "2023-06-17T18:31:15.905603Z",
     "iopub.status.idle": "2023-06-17T18:31:15.912815Z",
     "shell.execute_reply": "2023-06-17T18:31:15.911804Z"
    },
    "papermill": {
     "duration": 0.032472,
     "end_time": "2023-06-17T18:31:15.914927",
     "exception": false,
     "start_time": "2023-06-17T18:31:15.882455",
     "status": "completed"
    },
    "tags": []
   },
   "outputs": [
    {
     "data": {
      "text/plain": [
       "{'units_1': 650,\n",
       " 'dropout_rate_1': 0.6000000000000001,\n",
       " 'num_hidden_layers': 3,\n",
       " 'units_2': 50,\n",
       " 'dropout_rate_2': 0.0,\n",
       " 'units_3': 450,\n",
       " 'dropout_rate_3': 0.0,\n",
       " 'lr': 0.000417640981931856,\n",
       " 'units_4': 750,\n",
       " 'dropout_rate_4': 0.6000000000000001,\n",
       " 'units_5': 950,\n",
       " 'dropout_rate_5': 0.6000000000000001,\n",
       " 'units_6': 150,\n",
       " 'dropout_rate_6': 0.8}"
      ]
     },
     "execution_count": 38,
     "metadata": {},
     "output_type": "execute_result"
    }
   ],
   "source": [
    "best_hps = tuner.get_best_hyperparameters(1)[0]\n",
    "best_hps.values"
   ]
  },
  {
   "attachments": {},
   "cell_type": "markdown",
   "id": "d94e598b",
   "metadata": {
    "papermill": {
     "duration": 0.022238,
     "end_time": "2023-06-17T18:31:15.959530",
     "exception": false,
     "start_time": "2023-06-17T18:31:15.937292",
     "status": "completed"
    },
    "tags": []
   },
   "source": [
    "Rebuild the best performing model."
   ]
  },
  {
   "cell_type": "code",
   "execution_count": 39,
   "id": "64992aae",
   "metadata": {
    "execution": {
     "iopub.execute_input": "2023-06-17T18:31:16.006259Z",
     "iopub.status.busy": "2023-06-17T18:31:16.005446Z",
     "iopub.status.idle": "2023-06-17T18:31:22.277481Z",
     "shell.execute_reply": "2023-06-17T18:31:22.276589Z"
    },
    "papermill": {
     "duration": 6.297883,
     "end_time": "2023-06-17T18:31:22.279898",
     "exception": false,
     "start_time": "2023-06-17T18:31:15.982015",
     "status": "completed"
    },
    "tags": []
   },
   "outputs": [],
   "source": [
    "best_model = build_model(best_hps)"
   ]
  },
  {
   "attachments": {},
   "cell_type": "markdown",
   "id": "9f4d9719",
   "metadata": {
    "papermill": {
     "duration": 0.022228,
     "end_time": "2023-06-17T18:31:22.325190",
     "exception": false,
     "start_time": "2023-06-17T18:31:22.302962",
     "status": "completed"
    },
    "tags": []
   },
   "source": [
    "Train the model for longer."
   ]
  },
  {
   "cell_type": "code",
   "execution_count": 40,
   "id": "03f0169b",
   "metadata": {
    "execution": {
     "iopub.execute_input": "2023-06-17T18:31:22.371945Z",
     "iopub.status.busy": "2023-06-17T18:31:22.371630Z",
     "iopub.status.idle": "2023-06-17T18:34:41.402675Z",
     "shell.execute_reply": "2023-06-17T18:34:41.401731Z"
    },
    "papermill": {
     "duration": 199.057211,
     "end_time": "2023-06-17T18:34:41.405310",
     "exception": false,
     "start_time": "2023-06-17T18:31:22.348099",
     "status": "completed"
    },
    "tags": []
   },
   "outputs": [
    {
     "name": "stdout",
     "output_type": "stream",
     "text": [
      "Epoch 1/200\n",
      "555/555 [==============================] - 4s 5ms/step - loss: 0.2707 - auc: 0.6793 - val_loss: 0.2558 - val_auc: 0.7388\n",
      "Epoch 2/200\n",
      "555/555 [==============================] - 2s 4ms/step - loss: 0.2559 - auc: 0.7326 - val_loss: 0.2536 - val_auc: 0.7572\n",
      "Epoch 3/200\n",
      "555/555 [==============================] - 3s 5ms/step - loss: 0.2514 - auc: 0.7500 - val_loss: 0.2493 - val_auc: 0.7678\n",
      "Epoch 4/200\n",
      "555/555 [==============================] - 3s 5ms/step - loss: 0.2482 - auc: 0.7606 - val_loss: 0.2450 - val_auc: 0.7740\n",
      "Epoch 5/200\n",
      "555/555 [==============================] - 2s 4ms/step - loss: 0.2462 - auc: 0.7663 - val_loss: 0.2427 - val_auc: 0.7787\n",
      "Epoch 6/200\n",
      "555/555 [==============================] - 2s 4ms/step - loss: 0.2440 - auc: 0.7738 - val_loss: 0.2421 - val_auc: 0.7851\n",
      "Epoch 7/200\n",
      "555/555 [==============================] - 2s 4ms/step - loss: 0.2421 - auc: 0.7790 - val_loss: 0.2404 - val_auc: 0.7883\n",
      "Epoch 8/200\n",
      "555/555 [==============================] - 2s 4ms/step - loss: 0.2402 - auc: 0.7847 - val_loss: 0.2397 - val_auc: 0.7919\n",
      "Epoch 9/200\n",
      "555/555 [==============================] - 2s 4ms/step - loss: 0.2388 - auc: 0.7889 - val_loss: 0.2388 - val_auc: 0.7950\n",
      "Epoch 10/200\n",
      "555/555 [==============================] - 2s 4ms/step - loss: 0.2379 - auc: 0.7914 - val_loss: 0.2369 - val_auc: 0.7975\n",
      "Epoch 11/200\n",
      "555/555 [==============================] - 2s 4ms/step - loss: 0.2369 - auc: 0.7947 - val_loss: 0.2368 - val_auc: 0.7987\n",
      "Epoch 12/200\n",
      "555/555 [==============================] - 3s 5ms/step - loss: 0.2357 - auc: 0.7981 - val_loss: 0.2348 - val_auc: 0.8014\n",
      "Epoch 13/200\n",
      "555/555 [==============================] - 3s 5ms/step - loss: 0.2350 - auc: 0.8001 - val_loss: 0.2356 - val_auc: 0.8046\n",
      "Epoch 14/200\n",
      "555/555 [==============================] - 2s 4ms/step - loss: 0.2342 - auc: 0.8023 - val_loss: 0.2334 - val_auc: 0.8065\n",
      "Epoch 15/200\n",
      "555/555 [==============================] - 2s 4ms/step - loss: 0.2333 - auc: 0.8044 - val_loss: 0.2335 - val_auc: 0.8075\n",
      "Epoch 16/200\n",
      "555/555 [==============================] - 3s 5ms/step - loss: 0.2323 - auc: 0.8075 - val_loss: 0.2327 - val_auc: 0.8081\n",
      "Epoch 17/200\n",
      "555/555 [==============================] - 2s 4ms/step - loss: 0.2318 - auc: 0.8087 - val_loss: 0.2326 - val_auc: 0.8085\n",
      "Epoch 18/200\n",
      "555/555 [==============================] - 2s 4ms/step - loss: 0.2312 - auc: 0.8104 - val_loss: 0.2325 - val_auc: 0.8103\n",
      "Epoch 19/200\n",
      "555/555 [==============================] - 2s 4ms/step - loss: 0.2303 - auc: 0.8130 - val_loss: 0.2320 - val_auc: 0.8124\n",
      "Epoch 20/200\n",
      "555/555 [==============================] - 2s 4ms/step - loss: 0.2296 - auc: 0.8147 - val_loss: 0.2327 - val_auc: 0.8118\n",
      "Epoch 21/200\n",
      "555/555 [==============================] - 2s 4ms/step - loss: 0.2292 - auc: 0.8153 - val_loss: 0.2324 - val_auc: 0.8124\n",
      "Epoch 22/200\n",
      "555/555 [==============================] - 2s 4ms/step - loss: 0.2288 - auc: 0.8167 - val_loss: 0.2312 - val_auc: 0.8147\n",
      "Epoch 23/200\n",
      "555/555 [==============================] - 2s 4ms/step - loss: 0.2278 - auc: 0.8193 - val_loss: 0.2305 - val_auc: 0.8152\n",
      "Epoch 24/200\n",
      "555/555 [==============================] - 3s 5ms/step - loss: 0.2277 - auc: 0.8191 - val_loss: 0.2309 - val_auc: 0.8158\n",
      "Epoch 25/200\n",
      "555/555 [==============================] - 3s 5ms/step - loss: 0.2271 - auc: 0.8207 - val_loss: 0.2304 - val_auc: 0.8174\n",
      "Epoch 26/200\n",
      "555/555 [==============================] - 2s 4ms/step - loss: 0.2267 - auc: 0.8219 - val_loss: 0.2301 - val_auc: 0.8176\n",
      "Epoch 27/200\n",
      "555/555 [==============================] - 2s 4ms/step - loss: 0.2262 - auc: 0.8232 - val_loss: 0.2297 - val_auc: 0.8173\n",
      "Epoch 28/200\n",
      "555/555 [==============================] - 3s 5ms/step - loss: 0.2257 - auc: 0.8243 - val_loss: 0.2294 - val_auc: 0.8183\n",
      "Epoch 29/200\n",
      "555/555 [==============================] - 3s 5ms/step - loss: 0.2253 - auc: 0.8258 - val_loss: 0.2287 - val_auc: 0.8188\n",
      "Epoch 30/200\n",
      "555/555 [==============================] - 2s 4ms/step - loss: 0.2252 - auc: 0.8258 - val_loss: 0.2297 - val_auc: 0.8183\n",
      "Epoch 31/200\n",
      "555/555 [==============================] - 2s 4ms/step - loss: 0.2243 - auc: 0.8277 - val_loss: 0.2283 - val_auc: 0.8204\n",
      "Epoch 32/200\n",
      "555/555 [==============================] - 2s 4ms/step - loss: 0.2246 - auc: 0.8273 - val_loss: 0.2299 - val_auc: 0.8202\n",
      "Epoch 33/200\n",
      "555/555 [==============================] - 2s 4ms/step - loss: 0.2234 - auc: 0.8300 - val_loss: 0.2284 - val_auc: 0.8200\n",
      "Epoch 34/200\n",
      "555/555 [==============================] - 2s 4ms/step - loss: 0.2235 - auc: 0.8299 - val_loss: 0.2290 - val_auc: 0.8200\n",
      "Epoch 35/200\n",
      "555/555 [==============================] - 2s 4ms/step - loss: 0.2230 - auc: 0.8309 - val_loss: 0.2279 - val_auc: 0.8224\n",
      "Epoch 36/200\n",
      "555/555 [==============================] - 3s 5ms/step - loss: 0.2232 - auc: 0.8308 - val_loss: 0.2278 - val_auc: 0.8218\n",
      "Epoch 37/200\n",
      "555/555 [==============================] - 2s 4ms/step - loss: 0.2228 - auc: 0.8314 - val_loss: 0.2281 - val_auc: 0.8210\n",
      "Epoch 38/200\n",
      "555/555 [==============================] - 2s 4ms/step - loss: 0.2223 - auc: 0.8329 - val_loss: 0.2287 - val_auc: 0.8202\n",
      "Epoch 39/200\n",
      "555/555 [==============================] - 2s 4ms/step - loss: 0.2219 - auc: 0.8336 - val_loss: 0.2291 - val_auc: 0.8202\n",
      "Epoch 40/200\n",
      "555/555 [==============================] - 3s 5ms/step - loss: 0.2217 - auc: 0.8337 - val_loss: 0.2290 - val_auc: 0.8205\n",
      "Epoch 41/200\n",
      "555/555 [==============================] - 3s 6ms/step - loss: 0.2211 - auc: 0.8356 - val_loss: 0.2274 - val_auc: 0.8215\n",
      "Epoch 42/200\n",
      "555/555 [==============================] - 2s 4ms/step - loss: 0.2211 - auc: 0.8355 - val_loss: 0.2287 - val_auc: 0.8218\n",
      "Epoch 43/200\n",
      "555/555 [==============================] - 2s 4ms/step - loss: 0.2204 - auc: 0.8370 - val_loss: 0.2285 - val_auc: 0.8211\n",
      "Epoch 44/200\n",
      "555/555 [==============================] - 3s 5ms/step - loss: 0.2199 - auc: 0.8381 - val_loss: 0.2283 - val_auc: 0.8216\n",
      "Epoch 45/200\n",
      "555/555 [==============================] - 2s 4ms/step - loss: 0.2200 - auc: 0.8380 - val_loss: 0.2273 - val_auc: 0.8231\n",
      "Epoch 46/200\n",
      "555/555 [==============================] - 2s 4ms/step - loss: 0.2202 - auc: 0.8374 - val_loss: 0.2276 - val_auc: 0.8215\n",
      "Epoch 47/200\n",
      "555/555 [==============================] - 2s 4ms/step - loss: 0.2195 - auc: 0.8389 - val_loss: 0.2275 - val_auc: 0.8227\n",
      "Epoch 48/200\n",
      "555/555 [==============================] - 3s 5ms/step - loss: 0.2197 - auc: 0.8385 - val_loss: 0.2280 - val_auc: 0.8221\n",
      "Epoch 49/200\n",
      "555/555 [==============================] - 2s 4ms/step - loss: 0.2188 - auc: 0.8402 - val_loss: 0.2276 - val_auc: 0.8225\n",
      "Epoch 50/200\n",
      "555/555 [==============================] - 2s 4ms/step - loss: 0.2188 - auc: 0.8405 - val_loss: 0.2274 - val_auc: 0.8228\n",
      "Epoch 51/200\n",
      "555/555 [==============================] - 2s 4ms/step - loss: 0.2190 - auc: 0.8398 - val_loss: 0.2289 - val_auc: 0.8216\n",
      "Epoch 52/200\n",
      "555/555 [==============================] - 3s 5ms/step - loss: 0.2184 - auc: 0.8413 - val_loss: 0.2287 - val_auc: 0.8225\n",
      "Epoch 53/200\n",
      "555/555 [==============================] - 2s 4ms/step - loss: 0.2184 - auc: 0.8415 - val_loss: 0.2272 - val_auc: 0.8236\n",
      "Epoch 54/200\n",
      "555/555 [==============================] - 3s 5ms/step - loss: 0.2178 - auc: 0.8425 - val_loss: 0.2274 - val_auc: 0.8242\n",
      "Epoch 55/200\n",
      "555/555 [==============================] - 2s 4ms/step - loss: 0.2172 - auc: 0.8440 - val_loss: 0.2276 - val_auc: 0.8220\n",
      "Epoch 56/200\n",
      "555/555 [==============================] - 3s 5ms/step - loss: 0.2176 - auc: 0.8431 - val_loss: 0.2271 - val_auc: 0.8238\n",
      "Epoch 57/200\n",
      "555/555 [==============================] - 2s 4ms/step - loss: 0.2178 - auc: 0.8427 - val_loss: 0.2273 - val_auc: 0.8234\n",
      "Epoch 58/200\n",
      "555/555 [==============================] - 2s 4ms/step - loss: 0.2172 - auc: 0.8442 - val_loss: 0.2273 - val_auc: 0.8231\n",
      "Epoch 59/200\n",
      "555/555 [==============================] - 2s 4ms/step - loss: 0.2166 - auc: 0.8449 - val_loss: 0.2286 - val_auc: 0.8231\n",
      "Epoch 60/200\n",
      "555/555 [==============================] - 3s 5ms/step - loss: 0.2164 - auc: 0.8453 - val_loss: 0.2272 - val_auc: 0.8238\n",
      "Epoch 61/200\n",
      "555/555 [==============================] - 2s 4ms/step - loss: 0.2162 - auc: 0.8464 - val_loss: 0.2283 - val_auc: 0.8229\n",
      "Epoch 62/200\n",
      "555/555 [==============================] - 3s 5ms/step - loss: 0.2164 - auc: 0.8457 - val_loss: 0.2279 - val_auc: 0.8224\n",
      "Epoch 63/200\n",
      "555/555 [==============================] - 2s 4ms/step - loss: 0.2157 - auc: 0.8472 - val_loss: 0.2271 - val_auc: 0.8236\n",
      "Epoch 64/200\n",
      "555/555 [==============================] - 2s 4ms/step - loss: 0.2159 - auc: 0.8466 - val_loss: 0.2271 - val_auc: 0.8243\n",
      "Epoch 65/200\n",
      "555/555 [==============================] - 2s 4ms/step - loss: 0.2157 - auc: 0.8476 - val_loss: 0.2277 - val_auc: 0.8232\n",
      "Epoch 66/200\n",
      "555/555 [==============================] - 2s 4ms/step - loss: 0.2152 - auc: 0.8479 - val_loss: 0.2289 - val_auc: 0.8232\n",
      "Epoch 67/200\n",
      "555/555 [==============================] - 3s 5ms/step - loss: 0.2150 - auc: 0.8484 - val_loss: 0.2270 - val_auc: 0.8239\n",
      "Epoch 68/200\n",
      "555/555 [==============================] - 2s 4ms/step - loss: 0.2150 - auc: 0.8483 - val_loss: 0.2274 - val_auc: 0.8224\n",
      "Epoch 69/200\n",
      "555/555 [==============================] - 2s 4ms/step - loss: 0.2146 - auc: 0.8493 - val_loss: 0.2274 - val_auc: 0.8231\n",
      "Epoch 70/200\n",
      "555/555 [==============================] - 2s 4ms/step - loss: 0.2149 - auc: 0.8488 - val_loss: 0.2270 - val_auc: 0.8241\n",
      "Epoch 71/200\n",
      "555/555 [==============================] - 2s 4ms/step - loss: 0.2144 - auc: 0.8497 - val_loss: 0.2280 - val_auc: 0.8230\n",
      "Epoch 72/200\n",
      "555/555 [==============================] - 3s 5ms/step - loss: 0.2145 - auc: 0.8500 - val_loss: 0.2287 - val_auc: 0.8228\n",
      "Epoch 73/200\n",
      "555/555 [==============================] - 2s 4ms/step - loss: 0.2139 - auc: 0.8507 - val_loss: 0.2274 - val_auc: 0.8241\n",
      "Epoch 74/200\n",
      "555/555 [==============================] - 3s 5ms/step - loss: 0.2140 - auc: 0.8506 - val_loss: 0.2279 - val_auc: 0.8224\n",
      "Epoch 75/200\n",
      "555/555 [==============================] - 2s 4ms/step - loss: 0.2139 - auc: 0.8504 - val_loss: 0.2284 - val_auc: 0.8230\n",
      "Epoch 76/200\n",
      "555/555 [==============================] - 2s 4ms/step - loss: 0.2138 - auc: 0.8508 - val_loss: 0.2284 - val_auc: 0.8229\n",
      "Epoch 77/200\n",
      "555/555 [==============================] - 2s 4ms/step - loss: 0.2131 - auc: 0.8521 - val_loss: 0.2275 - val_auc: 0.8227\n",
      "Epoch 78/200\n",
      "555/555 [==============================] - 2s 4ms/step - loss: 0.2127 - auc: 0.8528 - val_loss: 0.2281 - val_auc: 0.8233\n",
      "Epoch 79/200\n",
      "555/555 [==============================] - 2s 4ms/step - loss: 0.2133 - auc: 0.8515 - val_loss: 0.2272 - val_auc: 0.8235\n"
     ]
    }
   ],
   "source": [
    "early_stopping = keras.callbacks.EarlyStopping(monitor='val_auc', patience=25, min_delta=5e-4, restore_best_weights=True)\n",
    "history = best_model.fit(X_train, Y_train, validation_data=(X_dev, Y_dev), epochs=200, batch_size=BATCH_SIZE, callbacks=[early_stopping])"
   ]
  },
  {
   "attachments": {},
   "cell_type": "markdown",
   "id": "47fc8aea",
   "metadata": {
    "papermill": {
     "duration": 0.471107,
     "end_time": "2023-06-17T18:34:42.295617",
     "exception": false,
     "start_time": "2023-06-17T18:34:41.824510",
     "status": "completed"
    },
    "tags": []
   },
   "source": [
    "Plot cross-entropy loss and AUC vs epochs."
   ]
  },
  {
   "cell_type": "code",
   "execution_count": 41,
   "id": "0e127a4f",
   "metadata": {
    "execution": {
     "iopub.execute_input": "2023-06-17T18:34:42.988944Z",
     "iopub.status.busy": "2023-06-17T18:34:42.988498Z",
     "iopub.status.idle": "2023-06-17T18:34:46.106701Z",
     "shell.execute_reply": "2023-06-17T18:34:46.105793Z"
    },
    "papermill": {
     "duration": 3.412934,
     "end_time": "2023-06-17T18:34:46.108819",
     "exception": false,
     "start_time": "2023-06-17T18:34:42.695885",
     "status": "completed"
    },
    "tags": []
   },
   "outputs": [
    {
     "name": "stdout",
     "output_type": "stream",
     "text": [
      "Best validation AUC: 0.8242665529251099\n"
     ]
    },
    {
     "data": {
      "image/png": "[encoded data removed]",
      "text/plain": [
       "<Figure size 640x480 with 1 Axes>"
      ]
     },
     "metadata": {},
     "output_type": "display_data"
    },
    {
     "data": {
      "image/png": "[encoded data removed]",
      "text/plain": [
       "<Figure size 640x480 with 1 Axes>"
      ]
     },
     "metadata": {},
     "output_type": "display_data"
    }
   ],
   "source": [
    "history_df = pd.DataFrame(history.history)\n",
    "history_df[['loss', 'val_loss']].plot(title='Cross-entropy Loss vs epochs')\n",
    "history_df[['auc', 'val_auc']].plot(title='AUC vs epochs')\n",
    "print(f\"Best validation AUC: {history_df['val_auc'].max()}\")"
   ]
  },
  {
   "cell_type": "code",
   "execution_count": 42,
   "id": "c063d559",
   "metadata": {
    "execution": {
     "iopub.execute_input": "2023-06-17T18:34:46.678093Z",
     "iopub.status.busy": "2023-06-17T18:34:46.677744Z",
     "iopub.status.idle": "2023-06-17T18:35:38.343809Z",
     "shell.execute_reply": "2023-06-17T18:35:38.342715Z"
    },
    "papermill": {
     "duration": 51.9551,
     "end_time": "2023-06-17T18:35:38.346409",
     "exception": false,
     "start_time": "2023-06-17T18:34:46.391309",
     "status": "completed"
    },
    "tags": []
   },
   "outputs": [
    {
     "name": "stdout",
     "output_type": "stream",
     "text": [
      "2220/2220 [==============================] - 3s 1ms/step\n",
      "0.09243128\n",
      "2220/2220 [==============================] - 5s 2ms/step - loss: 0.2274 - auc: 0.8242\n",
      "[0.2274196296930313, 0.8241953253746033]\n",
      "8880/8880 [==============================] - 13s 1ms/step\n",
      "0.09230085\n",
      "8880/8880 [==============================] - 22s 2ms/step - loss: 0.2087 - auc: 0.8673\n",
      "[0.20866522192955017, 0.8673336505889893]\n"
     ]
    }
   ],
   "source": [
    "dev_predictions = best_model.predict(X_dev)\n",
    "print(dev_predictions.mean())\n",
    "print(best_model.evaluate(X_dev, Y_dev))\n",
    "train_predictions = best_model.predict(X_train)\n",
    "print(train_predictions.mean())\n",
    "print(best_model.evaluate(X_train, Y_train))"
   ]
  },
  {
   "cell_type": "code",
   "execution_count": 43,
   "id": "07abbb98",
   "metadata": {
    "execution": {
     "iopub.execute_input": "2023-06-17T18:35:39.107693Z",
     "iopub.status.busy": "2023-06-17T18:35:39.107327Z",
     "iopub.status.idle": "2023-06-17T18:35:39.113748Z",
     "shell.execute_reply": "2023-06-17T18:35:39.112756Z"
    },
    "papermill": {
     "duration": 0.412055,
     "end_time": "2023-06-17T18:35:39.117016",
     "exception": false,
     "start_time": "2023-06-17T18:35:38.704961",
     "status": "completed"
    },
    "tags": []
   },
   "outputs": [
    {
     "data": {
      "text/plain": [
       "'X_all = np.concatenate((X_train, X_dev))\\nY_all = np.concatenate((Y_train, Y_dev))\\nhistory = model.fit(X_all, Y_all, epochs=25, batch_size=BATCH_SIZE)'"
      ]
     },
     "execution_count": 43,
     "metadata": {},
     "output_type": "execute_result"
    }
   ],
   "source": [
    "'''X_all = np.concatenate((X_train, X_dev))\n",
    "Y_all = np.concatenate((Y_train, Y_dev))\n",
    "history = model.fit(X_all, Y_all, epochs=25, batch_size=BATCH_SIZE)'''"
   ]
  },
  {
   "attachments": {},
   "cell_type": "markdown",
   "id": "a61d15bf",
   "metadata": {
    "papermill": {
     "duration": 0.344453,
     "end_time": "2023-06-17T18:35:39.802494",
     "exception": false,
     "start_time": "2023-06-17T18:35:39.458041",
     "status": "completed"
    },
    "tags": []
   },
   "source": [
    "# 7 - TensorFlow"
   ]
  },
  {
   "attachments": {},
   "cell_type": "markdown",
   "id": "dbafc841",
   "metadata": {
    "papermill": {
     "duration": 0.341044,
     "end_time": "2023-06-17T18:35:40.483421",
     "exception": false,
     "start_time": "2023-06-17T18:35:40.142377",
     "status": "completed"
    },
    "tags": []
   },
   "source": [
    "Convert the data to tensors."
   ]
  },
  {
   "cell_type": "code",
   "execution_count": 44,
   "id": "ccd19883",
   "metadata": {
    "execution": {
     "iopub.execute_input": "2023-06-17T18:35:41.171409Z",
     "iopub.status.busy": "2023-06-17T18:35:41.171064Z",
     "iopub.status.idle": "2023-06-17T18:35:41.438136Z",
     "shell.execute_reply": "2023-06-17T18:35:41.437062Z"
    },
    "papermill": {
     "duration": 0.611845,
     "end_time": "2023-06-17T18:35:41.440560",
     "exception": false,
     "start_time": "2023-06-17T18:35:40.828715",
     "status": "completed"
    },
    "tags": []
   },
   "outputs": [],
   "source": [
    "X_train_tf, Y_train_tf = tf.convert_to_tensor(X_train, dtype=tf.float32), tf.convert_to_tensor(Y_train, dtype=tf.float32)\n",
    "X_dev_tf, Y_dev_tf = tf.convert_to_tensor(X_dev, dtype=tf.float32), tf.convert_to_tensor(Y_dev, dtype=tf.float32)"
   ]
  },
  {
   "attachments": {},
   "cell_type": "markdown",
   "id": "eef5df85",
   "metadata": {
    "papermill": {
     "duration": 0.402025,
     "end_time": "2023-06-17T18:35:42.186561",
     "exception": false,
     "start_time": "2023-06-17T18:35:41.784536",
     "status": "completed"
    },
    "tags": []
   },
   "source": [
    "Shuffle the data and split it into batches."
   ]
  },
  {
   "cell_type": "code",
   "execution_count": 45,
   "id": "0ed51c3f",
   "metadata": {
    "execution": {
     "iopub.execute_input": "2023-06-17T18:35:42.880590Z",
     "iopub.status.busy": "2023-06-17T18:35:42.880217Z",
     "iopub.status.idle": "2023-06-17T18:35:43.009870Z",
     "shell.execute_reply": "2023-06-17T18:35:43.008823Z"
    },
    "papermill": {
     "duration": 0.48249,
     "end_time": "2023-06-17T18:35:43.012286",
     "exception": false,
     "start_time": "2023-06-17T18:35:42.529796",
     "status": "completed"
    },
    "tags": []
   },
   "outputs": [],
   "source": [
    "train_dataset = tf.data.Dataset.from_tensor_slices((X_train_tf, Y_train_tf))\n",
    "train_dataset = train_dataset.shuffle(buffer_size=X_train.shape[0]).batch(BATCH_SIZE)\n",
    "dev_dataset = tf.data.Dataset.from_tensor_slices((X_dev_tf, Y_dev_tf))\n",
    "dev_dataset = dev_dataset.shuffle(buffer_size=X_dev.shape[0]).batch(BATCH_SIZE)"
   ]
  },
  {
   "attachments": {},
   "cell_type": "markdown",
   "id": "8bd20bc2",
   "metadata": {
    "papermill": {
     "duration": 0.35213,
     "end_time": "2023-06-17T18:35:43.709394",
     "exception": false,
     "start_time": "2023-06-17T18:35:43.357264",
     "status": "completed"
    },
    "tags": []
   },
   "source": [
    "Define the log loss function (or binary cross-entropy)."
   ]
  },
  {
   "cell_type": "code",
   "execution_count": 46,
   "id": "d941f4e0",
   "metadata": {
    "execution": {
     "iopub.execute_input": "2023-06-17T18:35:44.451902Z",
     "iopub.status.busy": "2023-06-17T18:35:44.451520Z",
     "iopub.status.idle": "2023-06-17T18:35:44.456615Z",
     "shell.execute_reply": "2023-06-17T18:35:44.455632Z"
    },
    "papermill": {
     "duration": 0.394093,
     "end_time": "2023-06-17T18:35:44.458615",
     "exception": false,
     "start_time": "2023-06-17T18:35:44.064522",
     "status": "completed"
    },
    "tags": []
   },
   "outputs": [],
   "source": [
    "def log_loss(y_pred, y):\n",
    "    loss = tf.nn.sigmoid_cross_entropy_with_logits(labels=y, logits=y_pred)\n",
    "    return tf.reduce_mean(loss)"
   ]
  },
  {
   "attachments": {},
   "cell_type": "markdown",
   "id": "d28c55b9",
   "metadata": {
    "papermill": {
     "duration": 0.498279,
     "end_time": "2023-06-17T18:35:45.449289",
     "exception": false,
     "start_time": "2023-06-17T18:35:44.951010",
     "status": "completed"
    },
    "tags": []
   },
   "source": [
    "Define the weight initialization funtion."
   ]
  },
  {
   "cell_type": "code",
   "execution_count": 47,
   "id": "3ac39d6b",
   "metadata": {
    "execution": {
     "iopub.execute_input": "2023-06-17T18:35:46.353990Z",
     "iopub.status.busy": "2023-06-17T18:35:46.353631Z",
     "iopub.status.idle": "2023-06-17T18:35:46.358925Z",
     "shell.execute_reply": "2023-06-17T18:35:46.357934Z"
    },
    "papermill": {
     "duration": 0.415354,
     "end_time": "2023-06-17T18:35:46.360982",
     "exception": false,
     "start_time": "2023-06-17T18:35:45.945628",
     "status": "completed"
    },
    "tags": []
   },
   "outputs": [],
   "source": [
    "def xavier_init(shape):\n",
    "    in_dim, out_dim = shape\n",
    "    limit = tf.sqrt(6.) / tf.sqrt(tf.cast(in_dim + out_dim, tf.float32))\n",
    "    weights = tf.random.uniform(shape, minval=-limit, maxval=limit)\n",
    "    return weights"
   ]
  },
  {
   "attachments": {},
   "cell_type": "markdown",
   "id": "8c9dffd1",
   "metadata": {
    "papermill": {
     "duration": 0.350388,
     "end_time": "2023-06-17T18:35:47.070132",
     "exception": false,
     "start_time": "2023-06-17T18:35:46.719744",
     "status": "completed"
    },
    "tags": []
   },
   "source": [
    "Define the dense and dropout layers."
   ]
  },
  {
   "cell_type": "code",
   "execution_count": 48,
   "id": "fee3d0b5",
   "metadata": {
    "execution": {
     "iopub.execute_input": "2023-06-17T18:35:47.821026Z",
     "iopub.status.busy": "2023-06-17T18:35:47.820659Z",
     "iopub.status.idle": "2023-06-17T18:35:47.830131Z",
     "shell.execute_reply": "2023-06-17T18:35:47.829144Z"
    },
    "papermill": {
     "duration": 0.419765,
     "end_time": "2023-06-17T18:35:47.832068",
     "exception": false,
     "start_time": "2023-06-17T18:35:47.412303",
     "status": "completed"
    },
    "tags": []
   },
   "outputs": [],
   "source": [
    "class Dense(tf.Module):\n",
    "    def __init__(self, out_dim, initializer=xavier_init, activation=tf.identity):\n",
    "        self.out_dim = out_dim\n",
    "        self.initializer = initializer\n",
    "        self.activation = activation\n",
    "        self.built = False\n",
    "\n",
    "    def __call__(self, x, training=True):\n",
    "        if not self.built:\n",
    "            self.in_dim = x.shape[1]\n",
    "            self.w = tf.Variable(self.initializer((self.in_dim, self.out_dim)))\n",
    "            self.b = tf.Variable(tf.zeros((self.out_dim,)))\n",
    "            self.built = True\n",
    "        z = tf.add(tf.matmul(x, self.w), self.b)\n",
    "        return self.activation(z)\n",
    "\n",
    "\n",
    "class Dropout(tf.Module):\n",
    "    def __init__(self, rate):\n",
    "        self.rate = rate\n",
    "\n",
    "    def __call__(self, x, training=True):\n",
    "        if training:\n",
    "            return tf.nn.dropout(x, self.rate)\n",
    "        return x"
   ]
  },
  {
   "attachments": {},
   "cell_type": "markdown",
   "id": "9c21f9af",
   "metadata": {
    "papermill": {
     "duration": 0.343241,
     "end_time": "2023-06-17T18:35:48.519836",
     "exception": false,
     "start_time": "2023-06-17T18:35:48.176595",
     "status": "completed"
    },
    "tags": []
   },
   "source": [
    "Define our model as a series of fully-connected layers."
   ]
  },
  {
   "cell_type": "code",
   "execution_count": 49,
   "id": "aab6e3c9",
   "metadata": {
    "execution": {
     "iopub.execute_input": "2023-06-17T18:35:49.214774Z",
     "iopub.status.busy": "2023-06-17T18:35:49.213626Z",
     "iopub.status.idle": "2023-06-17T18:35:49.221008Z",
     "shell.execute_reply": "2023-06-17T18:35:49.220101Z"
    },
    "papermill": {
     "duration": 0.355398,
     "end_time": "2023-06-17T18:35:49.223046",
     "exception": false,
     "start_time": "2023-06-17T18:35:48.867648",
     "status": "completed"
    },
    "tags": []
   },
   "outputs": [],
   "source": [
    "class MLP(tf.Module):\n",
    "    def __init__(self, layers):\n",
    "        self.layers = layers\n",
    "\n",
    "    @tf.function\n",
    "    def __call__(self, x, training=True):\n",
    "        for layer in self.layers:\n",
    "            x = layer(x, training=training)\n",
    "        if training:\n",
    "            return x\n",
    "        return tf.sigmoid(x)"
   ]
  },
  {
   "attachments": {},
   "cell_type": "markdown",
   "id": "4eb0b498",
   "metadata": {
    "papermill": {
     "duration": 0.347428,
     "end_time": "2023-06-17T18:35:49.913629",
     "exception": false,
     "start_time": "2023-06-17T18:35:49.566201",
     "status": "completed"
    },
    "tags": []
   },
   "source": [
    "Define a function that creates a Tensorflow model from a dictionary containing hyperparameters."
   ]
  },
  {
   "cell_type": "code",
   "execution_count": 50,
   "id": "859b4146",
   "metadata": {
    "execution": {
     "iopub.execute_input": "2023-06-17T18:35:50.671058Z",
     "iopub.status.busy": "2023-06-17T18:35:50.670707Z",
     "iopub.status.idle": "2023-06-17T18:35:50.676635Z",
     "shell.execute_reply": "2023-06-17T18:35:50.675736Z"
    },
    "papermill": {
     "duration": 0.41767,
     "end_time": "2023-06-17T18:35:50.678616",
     "exception": false,
     "start_time": "2023-06-17T18:35:50.260946",
     "status": "completed"
    },
    "tags": []
   },
   "outputs": [],
   "source": [
    "def build_tf_model(hps):\n",
    "    layers = []\n",
    "    for i in range(hps['num_hidden_layers']):\n",
    "        layers.append(Dense(hps[f'units_{i + 1}'], activation=tf.nn.relu))\n",
    "        layers.append(Dropout(hps[f'dropout_rate_{i + 1}']))\n",
    "    layers.append(Dense(1))\n",
    "    tf_model = MLP(layers)\n",
    "    return tf_model"
   ]
  },
  {
   "attachments": {},
   "cell_type": "markdown",
   "id": "33cd6a9c",
   "metadata": {
    "papermill": {
     "duration": 0.341483,
     "end_time": "2023-06-17T18:35:51.362245",
     "exception": false,
     "start_time": "2023-06-17T18:35:51.020762",
     "status": "completed"
    },
    "tags": []
   },
   "source": [
    "Use the best hyperparameters found earlier."
   ]
  },
  {
   "cell_type": "code",
   "execution_count": 51,
   "id": "bbde3eb9",
   "metadata": {
    "execution": {
     "iopub.execute_input": "2023-06-17T18:35:52.049884Z",
     "iopub.status.busy": "2023-06-17T18:35:52.049519Z",
     "iopub.status.idle": "2023-06-17T18:35:52.054355Z",
     "shell.execute_reply": "2023-06-17T18:35:52.053482Z"
    },
    "papermill": {
     "duration": 0.351801,
     "end_time": "2023-06-17T18:35:52.056327",
     "exception": false,
     "start_time": "2023-06-17T18:35:51.704526",
     "status": "completed"
    },
    "tags": []
   },
   "outputs": [],
   "source": [
    "tf_model = build_tf_model(best_hps.values)"
   ]
  },
  {
   "attachments": {},
   "cell_type": "markdown",
   "id": "70d96ff0",
   "metadata": {
    "papermill": {
     "duration": 0.350724,
     "end_time": "2023-06-17T18:35:52.751288",
     "exception": false,
     "start_time": "2023-06-17T18:35:52.400564",
     "status": "completed"
    },
    "tags": []
   },
   "source": [
    "Train the model."
   ]
  },
  {
   "cell_type": "code",
   "execution_count": 52,
   "id": "09ddc586",
   "metadata": {
    "execution": {
     "iopub.execute_input": "2023-06-17T18:35:53.497485Z",
     "iopub.status.busy": "2023-06-17T18:35:53.495814Z",
     "iopub.status.idle": "2023-06-17T18:35:53.515149Z",
     "shell.execute_reply": "2023-06-17T18:35:53.514288Z"
    },
    "papermill": {
     "duration": 0.420873,
     "end_time": "2023-06-17T18:35:53.517209",
     "exception": false,
     "start_time": "2023-06-17T18:35:53.096336",
     "status": "completed"
    },
    "tags": []
   },
   "outputs": [],
   "source": [
    "def train_iteration(model, x_batch, y_batch, optimizer, loss_func):\n",
    "    with tf.GradientTape() as tape:\n",
    "        y_pred = model(x_batch)\n",
    "        y_pred = tf.squeeze(y_pred, axis=1)\n",
    "        loss = loss_func(y_pred, y_batch)\n",
    "    gradients = tape.gradient(loss, model.variables)\n",
    "    optimizer.apply_gradients(zip(gradients, model.variables))\n",
    "    return loss\n",
    "\n",
    "def dev_iteration(model, x_batch, y_batch, loss_func):\n",
    "    y_pred = model(x_batch)\n",
    "    y_pred = tf.squeeze(y_pred, axis=1)\n",
    "    loss = loss_func(y_pred, y_batch)\n",
    "    return loss\n",
    "\n",
    "def train_tf_model(model, train_datset, dev_dataset, optimizer, epochs, loss_func):\n",
    "    train_losses, dev_losses = [], []\n",
    "    for epoch in range(epochs):\n",
    "        train_batch_losses, dev_batch_losses = [], []\n",
    "        for x_batch, y_batch in train_dataset:\n",
    "            train_batch_loss = train_iteration(model, x_batch, y_batch, optimizer, loss_func)\n",
    "            train_batch_losses.append(train_batch_loss)\n",
    "        for x_batch, y_batch in dev_dataset:\n",
    "            dev_batch_loss = dev_iteration(model, x_batch, y_batch, loss_func)\n",
    "            dev_batch_losses.append(dev_batch_loss)\n",
    "        train_loss = tf.reduce_mean(train_batch_losses)\n",
    "        dev_loss = tf.reduce_mean(dev_batch_losses)\n",
    "        print(f\"Epoch {epoch + 1}/{epochs} - Training loss: {train_loss:.4f}, Validation loss: {dev_loss:.4f}\")\n",
    "        train_losses.append(train_loss)\n",
    "        dev_losses.append(dev_loss)\n",
    "    return train_losses, dev_losses"
   ]
  },
  {
   "cell_type": "code",
   "execution_count": 53,
   "id": "1a3e2c4b",
   "metadata": {
    "execution": {
     "iopub.execute_input": "2023-06-17T18:35:54.261528Z",
     "iopub.status.busy": "2023-06-17T18:35:54.261173Z",
     "iopub.status.idle": "2023-06-17T18:47:12.620254Z",
     "shell.execute_reply": "2023-06-17T18:47:12.619228Z"
    },
    "papermill": {
     "duration": 678.762794,
     "end_time": "2023-06-17T18:47:12.624932",
     "exception": false,
     "start_time": "2023-06-17T18:35:53.862138",
     "status": "completed"
    },
    "tags": []
   },
   "outputs": [
    {
     "name": "stdout",
     "output_type": "stream",
     "text": [
      "Epoch 1/79 - Training loss: 0.2716, Validation loss: 0.2589\n",
      "Epoch 2/79 - Training loss: 0.2563, Validation loss: 0.2550\n",
      "Epoch 3/79 - Training loss: 0.2519, Validation loss: 0.2527\n",
      "Epoch 4/79 - Training loss: 0.2486, Validation loss: 0.2494\n",
      "Epoch 5/79 - Training loss: 0.2461, Validation loss: 0.2470\n",
      "Epoch 6/79 - Training loss: 0.2434, Validation loss: 0.2455\n",
      "Epoch 7/79 - Training loss: 0.2421, Validation loss: 0.2433\n",
      "Epoch 8/79 - Training loss: 0.2405, Validation loss: 0.2426\n",
      "Epoch 9/79 - Training loss: 0.2388, Validation loss: 0.2418\n",
      "Epoch 10/79 - Training loss: 0.2380, Validation loss: 0.2415\n",
      "Epoch 11/79 - Training loss: 0.2366, Validation loss: 0.2410\n",
      "Epoch 12/79 - Training loss: 0.2358, Validation loss: 0.2400\n",
      "Epoch 13/79 - Training loss: 0.2346, Validation loss: 0.2395\n",
      "Epoch 14/79 - Training loss: 0.2339, Validation loss: 0.2387\n",
      "Epoch 15/79 - Training loss: 0.2333, Validation loss: 0.2389\n",
      "Epoch 16/79 - Training loss: 0.2326, Validation loss: 0.2386\n",
      "Epoch 17/79 - Training loss: 0.2316, Validation loss: 0.2363\n",
      "Epoch 18/79 - Training loss: 0.2312, Validation loss: 0.2363\n",
      "Epoch 19/79 - Training loss: 0.2302, Validation loss: 0.2372\n",
      "Epoch 20/79 - Training loss: 0.2298, Validation loss: 0.2357\n",
      "Epoch 21/79 - Training loss: 0.2297, Validation loss: 0.2363\n",
      "Epoch 22/79 - Training loss: 0.2285, Validation loss: 0.2355\n",
      "Epoch 23/79 - Training loss: 0.2277, Validation loss: 0.2358\n",
      "Epoch 24/79 - Training loss: 0.2274, Validation loss: 0.2352\n",
      "Epoch 25/79 - Training loss: 0.2270, Validation loss: 0.2360\n",
      "Epoch 26/79 - Training loss: 0.2267, Validation loss: 0.2346\n",
      "Epoch 27/79 - Training loss: 0.2261, Validation loss: 0.2341\n",
      "Epoch 28/79 - Training loss: 0.2256, Validation loss: 0.2346\n",
      "Epoch 29/79 - Training loss: 0.2258, Validation loss: 0.2340\n",
      "Epoch 30/79 - Training loss: 0.2252, Validation loss: 0.2347\n",
      "Epoch 31/79 - Training loss: 0.2245, Validation loss: 0.2333\n",
      "Epoch 32/79 - Training loss: 0.2240, Validation loss: 0.2347\n",
      "Epoch 33/79 - Training loss: 0.2237, Validation loss: 0.2338\n",
      "Epoch 34/79 - Training loss: 0.2237, Validation loss: 0.2354\n",
      "Epoch 35/79 - Training loss: 0.2231, Validation loss: 0.2351\n",
      "Epoch 36/79 - Training loss: 0.2225, Validation loss: 0.2337\n",
      "Epoch 37/79 - Training loss: 0.2226, Validation loss: 0.2344\n",
      "Epoch 38/79 - Training loss: 0.2221, Validation loss: 0.2335\n",
      "Epoch 39/79 - Training loss: 0.2218, Validation loss: 0.2338\n",
      "Epoch 40/79 - Training loss: 0.2214, Validation loss: 0.2343\n",
      "Epoch 41/79 - Training loss: 0.2213, Validation loss: 0.2340\n",
      "Epoch 42/79 - Training loss: 0.2209, Validation loss: 0.2339\n",
      "Epoch 43/79 - Training loss: 0.2205, Validation loss: 0.2338\n",
      "Epoch 44/79 - Training loss: 0.2205, Validation loss: 0.2348\n",
      "Epoch 45/79 - Training loss: 0.2199, Validation loss: 0.2354\n",
      "Epoch 46/79 - Training loss: 0.2197, Validation loss: 0.2344\n",
      "Epoch 47/79 - Training loss: 0.2193, Validation loss: 0.2334\n",
      "Epoch 48/79 - Training loss: 0.2194, Validation loss: 0.2346\n",
      "Epoch 49/79 - Training loss: 0.2191, Validation loss: 0.2342\n",
      "Epoch 50/79 - Training loss: 0.2189, Validation loss: 0.2341\n",
      "Epoch 51/79 - Training loss: 0.2188, Validation loss: 0.2346\n",
      "Epoch 52/79 - Training loss: 0.2183, Validation loss: 0.2348\n",
      "Epoch 53/79 - Training loss: 0.2177, Validation loss: 0.2352\n",
      "Epoch 54/79 - Training loss: 0.2181, Validation loss: 0.2341\n",
      "Epoch 55/79 - Training loss: 0.2178, Validation loss: 0.2342\n",
      "Epoch 56/79 - Training loss: 0.2173, Validation loss: 0.2349\n",
      "Epoch 57/79 - Training loss: 0.2175, Validation loss: 0.2335\n",
      "Epoch 58/79 - Training loss: 0.2171, Validation loss: 0.2345\n",
      "Epoch 59/79 - Training loss: 0.2167, Validation loss: 0.2342\n",
      "Epoch 60/79 - Training loss: 0.2168, Validation loss: 0.2345\n",
      "Epoch 61/79 - Training loss: 0.2164, Validation loss: 0.2358\n",
      "Epoch 62/79 - Training loss: 0.2156, Validation loss: 0.2347\n",
      "Epoch 63/79 - Training loss: 0.2161, Validation loss: 0.2348\n",
      "Epoch 64/79 - Training loss: 0.2158, Validation loss: 0.2362\n",
      "Epoch 65/79 - Training loss: 0.2156, Validation loss: 0.2355\n",
      "Epoch 66/79 - Training loss: 0.2149, Validation loss: 0.2376\n",
      "Epoch 67/79 - Training loss: 0.2150, Validation loss: 0.2356\n",
      "Epoch 68/79 - Training loss: 0.2152, Validation loss: 0.2364\n",
      "Epoch 69/79 - Training loss: 0.2152, Validation loss: 0.2358\n",
      "Epoch 70/79 - Training loss: 0.2147, Validation loss: 0.2348\n",
      "Epoch 71/79 - Training loss: 0.2142, Validation loss: 0.2353\n",
      "Epoch 72/79 - Training loss: 0.2141, Validation loss: 0.2369\n",
      "Epoch 73/79 - Training loss: 0.2138, Validation loss: 0.2372\n",
      "Epoch 74/79 - Training loss: 0.2142, Validation loss: 0.2347\n",
      "Epoch 75/79 - Training loss: 0.2133, Validation loss: 0.2365\n",
      "Epoch 76/79 - Training loss: 0.2133, Validation loss: 0.2364\n",
      "Epoch 77/79 - Training loss: 0.2131, Validation loss: 0.2357\n",
      "Epoch 78/79 - Training loss: 0.2129, Validation loss: 0.2384\n",
      "Epoch 79/79 - Training loss: 0.2129, Validation loss: 0.2366\n"
     ]
    }
   ],
   "source": [
    "LEARNING_RATE = best_hps.values['lr']\n",
    "EPOCHS = len(history.history['loss'])\n",
    "\n",
    "train_losses, dev_losses = train_tf_model(tf_model, train_dataset, dev_dataset, Adam(learning_rate=LEARNING_RATE), EPOCHS, log_loss)"
   ]
  },
  {
   "cell_type": "code",
   "execution_count": 54,
   "id": "10de8807",
   "metadata": {
    "execution": {
     "iopub.execute_input": "2023-06-17T18:47:13.328704Z",
     "iopub.status.busy": "2023-06-17T18:47:13.328305Z",
     "iopub.status.idle": "2023-06-17T18:47:13.641369Z",
     "shell.execute_reply": "2023-06-17T18:47:13.640465Z"
    },
    "papermill": {
     "duration": 0.66833,
     "end_time": "2023-06-17T18:47:13.643507",
     "exception": false,
     "start_time": "2023-06-17T18:47:12.975177",
     "status": "completed"
    },
    "tags": []
   },
   "outputs": [
    {
     "data": {
      "image/png": "[encoded data removed]",
      "text/plain": [
       "<Figure size 640x480 with 1 Axes>"
      ]
     },
     "metadata": {},
     "output_type": "display_data"
    }
   ],
   "source": [
    "plt.plot(train_losses, label='Training loss')\n",
    "plt.plot(dev_losses, label='Development loss')\n",
    "plt.xlabel('Epoch')\n",
    "plt.ylabel('Binary cross-entropy')\n",
    "plt.legend();"
   ]
  },
  {
   "attachments": {},
   "cell_type": "markdown",
   "id": "e9b2b4e2",
   "metadata": {
    "papermill": {
     "duration": 0.421207,
     "end_time": "2023-06-17T18:47:14.427345",
     "exception": false,
     "start_time": "2023-06-17T18:47:14.006138",
     "status": "completed"
    },
    "tags": []
   },
   "source": [
    "Calculate development set AUC."
   ]
  },
  {
   "cell_type": "code",
   "execution_count": 55,
   "id": "9d0e5062",
   "metadata": {
    "execution": {
     "iopub.execute_input": "2023-06-17T18:47:15.187749Z",
     "iopub.status.busy": "2023-06-17T18:47:15.187377Z",
     "iopub.status.idle": "2023-06-17T18:47:15.261002Z",
     "shell.execute_reply": "2023-06-17T18:47:15.259907Z"
    },
    "papermill": {
     "duration": 0.449096,
     "end_time": "2023-06-17T18:47:15.263691",
     "exception": false,
     "start_time": "2023-06-17T18:47:14.814595",
     "status": "completed"
    },
    "tags": []
   },
   "outputs": [
    {
     "name": "stdout",
     "output_type": "stream",
     "text": [
      "0.09604385\n",
      "0.8218326510809512\n"
     ]
    }
   ],
   "source": [
    "dev_predictions = tf_model(X_dev_tf, training=False)\n",
    "print(tf.reduce_mean(dev_predictions).numpy())\n",
    "print(roc_auc_score(Y_dev, dev_predictions))"
   ]
  },
  {
   "attachments": {},
   "cell_type": "markdown",
   "id": "7b766d16",
   "metadata": {
    "papermill": {
     "duration": 0.347815,
     "end_time": "2023-06-17T18:47:16.024710",
     "exception": false,
     "start_time": "2023-06-17T18:47:15.676895",
     "status": "completed"
    },
    "tags": []
   },
   "source": [
    "# 8 - Numpy"
   ]
  },
  {
   "attachments": {},
   "cell_type": "markdown",
   "id": "a1df7bc5",
   "metadata": {
    "papermill": {
     "duration": 0.352492,
     "end_time": "2023-06-17T18:47:16.731065",
     "exception": false,
     "start_time": "2023-06-17T18:47:16.378573",
     "status": "completed"
    },
    "tags": []
   },
   "source": [
    "# 9 - Make predictions on the test set"
   ]
  },
  {
   "cell_type": "code",
   "execution_count": 56,
   "id": "0f9853f6",
   "metadata": {
    "execution": {
     "iopub.execute_input": "2023-06-17T18:47:17.435482Z",
     "iopub.status.busy": "2023-06-17T18:47:17.435096Z",
     "iopub.status.idle": "2023-06-17T18:47:17.442247Z",
     "shell.execute_reply": "2023-06-17T18:47:17.441393Z"
    },
    "papermill": {
     "duration": 0.358396,
     "end_time": "2023-06-17T18:47:17.444275",
     "exception": false,
     "start_time": "2023-06-17T18:47:17.085879",
     "status": "completed"
    },
    "tags": []
   },
   "outputs": [],
   "source": [
    "del(X_train)\n",
    "del(X_dev)\n",
    "del(Y_train)\n",
    "del(Y_dev)\n",
    "del(X_train_tf)\n",
    "del(Y_train_tf)\n",
    "del(X_dev_tf)\n",
    "del(Y_dev_tf)"
   ]
  },
  {
   "cell_type": "code",
   "execution_count": 57,
   "id": "629b243d",
   "metadata": {
    "execution": {
     "iopub.execute_input": "2023-06-17T18:47:18.145730Z",
     "iopub.status.busy": "2023-06-17T18:47:18.145100Z",
     "iopub.status.idle": "2023-06-17T18:47:20.910623Z",
     "shell.execute_reply": "2023-06-17T18:47:20.909598Z"
    },
    "papermill": {
     "duration": 3.122038,
     "end_time": "2023-06-17T18:47:20.913188",
     "exception": false,
     "start_time": "2023-06-17T18:47:17.791150",
     "status": "completed"
    },
    "tags": []
   },
   "outputs": [],
   "source": [
    "X_test = pd.read_csv('data/bank_data_test.csv', index_col='ID')\n",
    "X_test.drop(columns=useless_cols + ['TARGET'], inplace=True)\n",
    "index_test = X_test.index\n",
    "\n",
    "X_test_categorical = X_test.select_dtypes(include=[\"object_\"])\n",
    "X_test.drop(columns=categorical_cols, inplace=True)\n",
    "X_test_categorical = X_test_categorical.apply(lambda c: c.str.lower())\n",
    "X_test_categorical['CLNT_TRUST_RELATION'].replace(ru_to_en, inplace=True)\n",
    "\n",
    "X_test.fillna(medians, inplace=True)\n",
    "\n",
    "X_test_categorical_encoded = pd.DataFrame()\n",
    "for col in categorical_cols:\n",
    "    X_test_categorical_encoded[col] = X_test_categorical[col].astype(pd.CategoricalDtype(categories=categories[col]))\n",
    "    X_test_categorical_encoded[col] = X_test_categorical_encoded[col].cat.codes\n",
    "\n",
    "del(X_test_categorical)\n",
    "\n",
    "X_test = pd.concat([X_test, X_test_categorical_encoded], axis=1)\n",
    "del(X_test_categorical_encoded)\n",
    "\n",
    "X_test = scaler.transform(X_test)"
   ]
  },
  {
   "attachments": {},
   "cell_type": "markdown",
   "id": "d9fe385e",
   "metadata": {
    "papermill": {
     "duration": 0.40362,
     "end_time": "2023-06-17T18:47:21.674906",
     "exception": false,
     "start_time": "2023-06-17T18:47:21.271286",
     "status": "completed"
    },
    "tags": []
   },
   "source": [
    "Save the final predictions to a csv file."
   ]
  },
  {
   "cell_type": "code",
   "execution_count": 58,
   "id": "482a5f40",
   "metadata": {
    "execution": {
     "iopub.execute_input": "2023-06-17T18:47:22.374927Z",
     "iopub.status.busy": "2023-06-17T18:47:22.374554Z",
     "iopub.status.idle": "2023-06-17T18:47:28.547769Z",
     "shell.execute_reply": "2023-06-17T18:47:28.546811Z"
    },
    "papermill": {
     "duration": 6.527255,
     "end_time": "2023-06-17T18:47:28.550233",
     "exception": false,
     "start_time": "2023-06-17T18:47:22.022978",
     "status": "completed"
    },
    "tags": []
   },
   "outputs": [
    {
     "name": "stdout",
     "output_type": "stream",
     "text": [
      "2775/2775 [==============================] - 4s 2ms/step\n"
     ]
    }
   ],
   "source": [
    "test_predictions = best_model.predict(X_test)\n",
    "pd.DataFrame(test_predictions, index=index_test, columns=['TARGET']).to_csv('final_predictions.csv')"
   ]
  },
  {
   "cell_type": "code",
   "execution_count": 59,
   "id": "7fe02ee7",
   "metadata": {
    "execution": {
     "iopub.execute_input": "2023-06-17T18:47:29.277361Z",
     "iopub.status.busy": "2023-06-17T18:47:29.277001Z",
     "iopub.status.idle": "2023-06-17T18:47:29.284136Z",
     "shell.execute_reply": "2023-06-17T18:47:29.283249Z"
    },
    "papermill": {
     "duration": 0.367806,
     "end_time": "2023-06-17T18:47:29.286369",
     "exception": false,
     "start_time": "2023-06-17T18:47:28.918563",
     "status": "completed"
    },
    "tags": []
   },
   "outputs": [
    {
     "data": {
      "text/plain": [
       "0.09264042"
      ]
     },
     "execution_count": 59,
     "metadata": {},
     "output_type": "execute_result"
    }
   ],
   "source": [
    "test_predictions.mean()"
   ]
  }
 ],
 "metadata": {
  "kernelspec": {
   "display_name": "Python 3",
   "language": "python",
   "name": "python3"
  },
  "language_info": {
   "codemirror_mode": {
    "name": "ipython",
    "version": 3
   },
   "file_extension": ".py",
   "mimetype": "text/x-python",
   "name": "python",
   "nbconvert_exporter": "python",
   "pygments_lexer": "ipython3",
   "version": "3.9.16"
  },
  "papermill": {
   "default_parameters": {},
   "duration": 4436.799614,
   "end_time": "2023-06-17T18:47:32.775055",
   "environment_variables": {},
   "exception": null,
   "input_path": "__notebook__.ipynb",
   "output_path": "__notebook__.ipynb",
   "parameters": {},
   "start_time": "2023-06-17T17:33:35.975441",
   "version": "2.4.0"
  }
 },
 "nbformat": 4,
 "nbformat_minor": 5
}
